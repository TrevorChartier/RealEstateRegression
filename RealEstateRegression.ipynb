{
 "cells": [
  {
   "cell_type": "markdown",
   "metadata": {},
   "source": [
    "# Real Estate Regression\n",
    "### Building a Regression Model to Predict Housing Prices in NY City \n",
    "### Jackson Patrick & Trevor Chartier"
   ]
  },
  {
   "cell_type": "markdown",
   "metadata": {},
   "source": [
    "## Part 1: Data Processing"
   ]
  },
  {
   "cell_type": "code",
   "execution_count": null,
   "metadata": {},
   "outputs": [],
   "source": [
    "import pandas as pd\n",
    "import numpy as np\n",
    "\n",
    "from scipy.spatial import cKDTree\n",
    "from geopy.distance import geodesic # may need to run pip install geopy\n",
    "import pandas.api.types as pd_types"
   ]
  },
  {
   "cell_type": "markdown",
   "metadata": {},
   "source": [
    "Read In Dataset"
   ]
  },
  {
   "cell_type": "code",
   "execution_count": null,
   "metadata": {},
   "outputs": [],
   "source": [
    "\n",
    "house_df = pd.read_csv(\"data/NY-House-Dataset.csv\")\n",
    "print(house_df.shape)\n",
    "house_df.head()"
   ]
  },
  {
   "cell_type": "markdown",
   "metadata": {},
   "source": [
    "Removing Features\n",
    "\n",
    "TODO: \n",
    "\n",
    "** This is where we will add in some analsysis of categorical columns like BROKERTITLE or Address to see if we even want to keep them\n"
   ]
  },
  {
   "cell_type": "code",
   "execution_count": null,
   "metadata": {},
   "outputs": [],
   "source": [
    "# Some code to get you started \n",
    "len(house_df[\"STREET_NAME\"].unique())\n",
    "\n",
    "len(house_df[\"BROKERTITLE\"].unique())"
   ]
  },
  {
   "cell_type": "code",
   "execution_count": null,
   "metadata": {},
   "outputs": [],
   "source": [
    "# It appears that in this dataset, missing values are filled in with the mean value for the column\n",
    "# We want to identify columns with potentially large numbers of missing values\n",
    "\n",
    "def num_filled(colName):\n",
    "    mean_val = np.mean(house_df[colName])\n",
    "    is_close = np.isclose(house_df[colName], mean_val, atol=1e-9)\n",
    "    return sum(is_close)\n",
    "\n",
    "for column in house_df:\n",
    "    if(pd_types.is_numeric_dtype(house_df[column])):\n",
    "        print(num_filled(column), \"instance in\", column, \" have been filled with the mean value of the column\")"
   ]
  },
  {
   "cell_type": "markdown",
   "metadata": {},
   "source": [
    "### Feature Engineering: Distance to Nearest Subway Station"
   ]
  },
  {
   "cell_type": "code",
   "execution_count": null,
   "metadata": {},
   "outputs": [],
   "source": [
    "subway_df = pd.read_csv(\"data/MTA_Subway_Stations.csv\")\n",
    "subway_df = subway_df[[\"GTFS Latitude\", \"GTFS Longitude\"]]\n",
    "subway_df.rename(columns={\"GTFS Latitude\": \"Latitude\", \"GTFS Longitude\":\"Longitude\"}, inplace=True)\n",
    "print(subway_df.shape[0], \" Subway Stations Included in NYC Dataset\")\n",
    "subway_df.head()"
   ]
  },
  {
   "cell_type": "code",
   "execution_count": null,
   "metadata": {},
   "outputs": [],
   "source": [
    "subway_coords = subway_df[['Latitude','Longitude']].values\n",
    "subway_tree = cKDTree(subway_coords)\n",
    "\n",
    "subway_distances = []\n",
    "\n",
    "for _, property in house_df.iterrows():\n",
    "    property_coord = (property[\"LATITUDE\"], property[\"LONGITUDE\"])\n",
    "    \n",
    "    distance, idx = subway_tree.query([property[\"LATITUDE\"], property[\"LONGITUDE\"]])\n",
    "    \n",
    "    nearest_subway_coord = subway_coords[idx]\n",
    "    precise_distance = np.round(geodesic(property_coord, nearest_subway_coord).miles,6)\n",
    "    subway_distances.append(precise_distance)\n",
    "    \n",
    "house_df[\"NEAREST_SUB_STATION\"] = subway_distances"
   ]
  },
  {
   "cell_type": "code",
   "execution_count": null,
   "metadata": {},
   "outputs": [],
   "source": [
    "house_df.head()"
   ]
  }
 ],
 "metadata": {
  "kernelspec": {
   "display_name": "base",
   "language": "python",
   "name": "python3"
  },
  "language_info": {
   "name": "python",
   "version": "3.11.4"
  }
 },
 "nbformat": 4,
 "nbformat_minor": 2
}
