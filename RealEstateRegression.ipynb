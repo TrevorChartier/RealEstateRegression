{
 "cells": [
  {
   "cell_type": "markdown",
   "metadata": {},
   "source": [
    "# Real Estate Regression\n",
    "### Building a Regression Model to Predict Housing Prices in NY City \n",
    "### Jackson Patrick & Trevor Chartier"
   ]
  },
  {
   "cell_type": "markdown",
   "metadata": {},
   "source": [
    "## Introduction"
   ]
  },
  {
   "cell_type": "markdown",
   "metadata": {},
   "source": [
    "## Part 1: Data Processing"
   ]
  },
  {
   "cell_type": "code",
   "execution_count": 1,
   "metadata": {},
   "outputs": [
    {
     "name": "stdout",
     "output_type": "stream",
     "text": [
      "Requirement already satisfied: geopy in /Users/jackpatrick/miniconda3/envs/myenv/lib/python3.11/site-packages (2.4.1)\n",
      "Requirement already satisfied: geohash2 in /Users/jackpatrick/miniconda3/envs/myenv/lib/python3.11/site-packages (1.1)\n",
      "Requirement already satisfied: geographiclib<3,>=1.52 in /Users/jackpatrick/miniconda3/envs/myenv/lib/python3.11/site-packages (from geopy) (2.0)\n",
      "Requirement already satisfied: docutils>=0.3 in /Users/jackpatrick/miniconda3/envs/myenv/lib/python3.11/site-packages (from geohash2) (0.21.2)\n",
      "Note: you may need to restart the kernel to use updated packages.\n"
     ]
    }
   ],
   "source": [
    "%pip install geopy geohash2"
   ]
  },
  {
   "cell_type": "code",
   "execution_count": 2,
   "metadata": {},
   "outputs": [],
   "source": [
    "import pandas as pd\n",
    "import numpy as np\n",
    "import matplotlib.pyplot as plt\n",
    "import seaborn as sns\n",
    "\n",
    "import geohash2 as geohash\n",
    "from scipy.spatial import cKDTree\n",
    "from geopy.distance import geodesic\n",
    "import pandas.api.types as pd_types\n",
    "\n",
    "pd.set_option('display.max_rows', 15)"
   ]
  },
  {
   "cell_type": "markdown",
   "metadata": {},
   "source": [
    "### Read In Dataset"
   ]
  },
  {
   "cell_type": "code",
   "execution_count": 3,
   "metadata": {},
   "outputs": [
    {
     "name": "stdout",
     "output_type": "stream",
     "text": [
      "4801  samples,  17  features\n"
     ]
    },
    {
     "data": {
      "text/html": [
       "<div>\n",
       "<style scoped>\n",
       "    .dataframe tbody tr th:only-of-type {\n",
       "        vertical-align: middle;\n",
       "    }\n",
       "\n",
       "    .dataframe tbody tr th {\n",
       "        vertical-align: top;\n",
       "    }\n",
       "\n",
       "    .dataframe thead th {\n",
       "        text-align: right;\n",
       "    }\n",
       "</style>\n",
       "<table border=\"1\" class=\"dataframe\">\n",
       "  <thead>\n",
       "    <tr style=\"text-align: right;\">\n",
       "      <th></th>\n",
       "      <th>BROKERTITLE</th>\n",
       "      <th>TYPE</th>\n",
       "      <th>PRICE</th>\n",
       "      <th>BEDS</th>\n",
       "      <th>BATH</th>\n",
       "      <th>PROPERTYSQFT</th>\n",
       "      <th>ADDRESS</th>\n",
       "      <th>STATE</th>\n",
       "      <th>MAIN_ADDRESS</th>\n",
       "      <th>ADMINISTRATIVE_AREA_LEVEL_2</th>\n",
       "      <th>LOCALITY</th>\n",
       "      <th>SUBLOCALITY</th>\n",
       "      <th>STREET_NAME</th>\n",
       "      <th>LONG_NAME</th>\n",
       "      <th>FORMATTED_ADDRESS</th>\n",
       "      <th>LATITUDE</th>\n",
       "      <th>LONGITUDE</th>\n",
       "    </tr>\n",
       "  </thead>\n",
       "  <tbody>\n",
       "    <tr>\n",
       "      <th>0</th>\n",
       "      <td>Brokered by Douglas Elliman  -111 Fifth Ave</td>\n",
       "      <td>Condo for sale</td>\n",
       "      <td>315000</td>\n",
       "      <td>2</td>\n",
       "      <td>2.000000</td>\n",
       "      <td>1400.0</td>\n",
       "      <td>2 E 55th St Unit 803</td>\n",
       "      <td>New York, NY 10022</td>\n",
       "      <td>2 E 55th St Unit 803New York, NY 10022</td>\n",
       "      <td>New York County</td>\n",
       "      <td>New York</td>\n",
       "      <td>Manhattan</td>\n",
       "      <td>East 55th Street</td>\n",
       "      <td>Regis Residence</td>\n",
       "      <td>Regis Residence, 2 E 55th St #803, New York, N...</td>\n",
       "      <td>40.761255</td>\n",
       "      <td>-73.974483</td>\n",
       "    </tr>\n",
       "    <tr>\n",
       "      <th>1</th>\n",
       "      <td>Brokered by Serhant</td>\n",
       "      <td>Condo for sale</td>\n",
       "      <td>195000000</td>\n",
       "      <td>7</td>\n",
       "      <td>10.000000</td>\n",
       "      <td>17545.0</td>\n",
       "      <td>Central Park Tower Penthouse-217 W 57th New Yo...</td>\n",
       "      <td>New York, NY 10019</td>\n",
       "      <td>Central Park Tower Penthouse-217 W 57th New Yo...</td>\n",
       "      <td>United States</td>\n",
       "      <td>New York</td>\n",
       "      <td>New York County</td>\n",
       "      <td>New York</td>\n",
       "      <td>West 57th Street</td>\n",
       "      <td>217 W 57th St, New York, NY 10019, USA</td>\n",
       "      <td>40.766393</td>\n",
       "      <td>-73.980991</td>\n",
       "    </tr>\n",
       "    <tr>\n",
       "      <th>2</th>\n",
       "      <td>Brokered by Sowae Corp</td>\n",
       "      <td>House for sale</td>\n",
       "      <td>260000</td>\n",
       "      <td>4</td>\n",
       "      <td>2.000000</td>\n",
       "      <td>2015.0</td>\n",
       "      <td>620 Sinclair Ave</td>\n",
       "      <td>Staten Island, NY 10312</td>\n",
       "      <td>620 Sinclair AveStaten Island, NY 10312</td>\n",
       "      <td>United States</td>\n",
       "      <td>New York</td>\n",
       "      <td>Richmond County</td>\n",
       "      <td>Staten Island</td>\n",
       "      <td>Sinclair Avenue</td>\n",
       "      <td>620 Sinclair Ave, Staten Island, NY 10312, USA</td>\n",
       "      <td>40.541805</td>\n",
       "      <td>-74.196109</td>\n",
       "    </tr>\n",
       "    <tr>\n",
       "      <th>3</th>\n",
       "      <td>Brokered by COMPASS</td>\n",
       "      <td>Condo for sale</td>\n",
       "      <td>69000</td>\n",
       "      <td>3</td>\n",
       "      <td>1.000000</td>\n",
       "      <td>445.0</td>\n",
       "      <td>2 E 55th St Unit 908W33</td>\n",
       "      <td>Manhattan, NY 10022</td>\n",
       "      <td>2 E 55th St Unit 908W33Manhattan, NY 10022</td>\n",
       "      <td>United States</td>\n",
       "      <td>New York</td>\n",
       "      <td>New York County</td>\n",
       "      <td>New York</td>\n",
       "      <td>East 55th Street</td>\n",
       "      <td>2 E 55th St, New York, NY 10022, USA</td>\n",
       "      <td>40.761398</td>\n",
       "      <td>-73.974613</td>\n",
       "    </tr>\n",
       "    <tr>\n",
       "      <th>4</th>\n",
       "      <td>Brokered by Sotheby's International Realty - E...</td>\n",
       "      <td>Townhouse for sale</td>\n",
       "      <td>55000000</td>\n",
       "      <td>7</td>\n",
       "      <td>2.373861</td>\n",
       "      <td>14175.0</td>\n",
       "      <td>5 E 64th St</td>\n",
       "      <td>New York, NY 10065</td>\n",
       "      <td>5 E 64th StNew York, NY 10065</td>\n",
       "      <td>United States</td>\n",
       "      <td>New York</td>\n",
       "      <td>New York County</td>\n",
       "      <td>New York</td>\n",
       "      <td>East 64th Street</td>\n",
       "      <td>5 E 64th St, New York, NY 10065, USA</td>\n",
       "      <td>40.767224</td>\n",
       "      <td>-73.969856</td>\n",
       "    </tr>\n",
       "  </tbody>\n",
       "</table>\n",
       "</div>"
      ],
      "text/plain": [
       "                                         BROKERTITLE                TYPE  \\\n",
       "0        Brokered by Douglas Elliman  -111 Fifth Ave      Condo for sale   \n",
       "1                                Brokered by Serhant      Condo for sale   \n",
       "2                             Brokered by Sowae Corp      House for sale   \n",
       "3                                Brokered by COMPASS      Condo for sale   \n",
       "4  Brokered by Sotheby's International Realty - E...  Townhouse for sale   \n",
       "\n",
       "       PRICE  BEDS       BATH  PROPERTYSQFT  \\\n",
       "0     315000     2   2.000000        1400.0   \n",
       "1  195000000     7  10.000000       17545.0   \n",
       "2     260000     4   2.000000        2015.0   \n",
       "3      69000     3   1.000000         445.0   \n",
       "4   55000000     7   2.373861       14175.0   \n",
       "\n",
       "                                             ADDRESS                    STATE  \\\n",
       "0                               2 E 55th St Unit 803       New York, NY 10022   \n",
       "1  Central Park Tower Penthouse-217 W 57th New Yo...       New York, NY 10019   \n",
       "2                                   620 Sinclair Ave  Staten Island, NY 10312   \n",
       "3                            2 E 55th St Unit 908W33      Manhattan, NY 10022   \n",
       "4                                        5 E 64th St       New York, NY 10065   \n",
       "\n",
       "                                        MAIN_ADDRESS  \\\n",
       "0             2 E 55th St Unit 803New York, NY 10022   \n",
       "1  Central Park Tower Penthouse-217 W 57th New Yo...   \n",
       "2            620 Sinclair AveStaten Island, NY 10312   \n",
       "3         2 E 55th St Unit 908W33Manhattan, NY 10022   \n",
       "4                      5 E 64th StNew York, NY 10065   \n",
       "\n",
       "  ADMINISTRATIVE_AREA_LEVEL_2  LOCALITY      SUBLOCALITY       STREET_NAME  \\\n",
       "0             New York County  New York        Manhattan  East 55th Street   \n",
       "1               United States  New York  New York County          New York   \n",
       "2               United States  New York  Richmond County     Staten Island   \n",
       "3               United States  New York  New York County          New York   \n",
       "4               United States  New York  New York County          New York   \n",
       "\n",
       "          LONG_NAME                                  FORMATTED_ADDRESS  \\\n",
       "0   Regis Residence  Regis Residence, 2 E 55th St #803, New York, N...   \n",
       "1  West 57th Street             217 W 57th St, New York, NY 10019, USA   \n",
       "2   Sinclair Avenue     620 Sinclair Ave, Staten Island, NY 10312, USA   \n",
       "3  East 55th Street               2 E 55th St, New York, NY 10022, USA   \n",
       "4  East 64th Street               5 E 64th St, New York, NY 10065, USA   \n",
       "\n",
       "    LATITUDE  LONGITUDE  \n",
       "0  40.761255 -73.974483  \n",
       "1  40.766393 -73.980991  \n",
       "2  40.541805 -74.196109  \n",
       "3  40.761398 -73.974613  \n",
       "4  40.767224 -73.969856  "
      ]
     },
     "execution_count": 3,
     "metadata": {},
     "output_type": "execute_result"
    }
   ],
   "source": [
    "\n",
    "house_df = pd.read_csv(\"data/NY-House-Dataset.csv\")\n",
    "print(house_df.shape[0], \" samples, \", house_df.shape[1], \" features\")\n",
    "house_df.head()"
   ]
  },
  {
   "cell_type": "markdown",
   "metadata": {},
   "source": [
    "### Feature Engineering: Distance to Nearest Subway Station"
   ]
  },
  {
   "cell_type": "markdown",
   "metadata": {},
   "source": [
    "Before analyzing the dataset and it's features, we would like to add one additional feature based on longitude and latitude -- the distance from the property to the nearest subway station."
   ]
  },
  {
   "cell_type": "code",
   "execution_count": 4,
   "metadata": {},
   "outputs": [
    {
     "name": "stdout",
     "output_type": "stream",
     "text": [
      "496  Subway Stations Included in NYC Dataset\n"
     ]
    },
    {
     "data": {
      "text/html": [
       "<div>\n",
       "<style scoped>\n",
       "    .dataframe tbody tr th:only-of-type {\n",
       "        vertical-align: middle;\n",
       "    }\n",
       "\n",
       "    .dataframe tbody tr th {\n",
       "        vertical-align: top;\n",
       "    }\n",
       "\n",
       "    .dataframe thead th {\n",
       "        text-align: right;\n",
       "    }\n",
       "</style>\n",
       "<table border=\"1\" class=\"dataframe\">\n",
       "  <thead>\n",
       "    <tr style=\"text-align: right;\">\n",
       "      <th></th>\n",
       "      <th>Latitude</th>\n",
       "      <th>Longitude</th>\n",
       "    </tr>\n",
       "  </thead>\n",
       "  <tbody>\n",
       "    <tr>\n",
       "      <th>0</th>\n",
       "      <td>40.725915</td>\n",
       "      <td>-73.994659</td>\n",
       "    </tr>\n",
       "    <tr>\n",
       "      <th>1</th>\n",
       "      <td>40.588841</td>\n",
       "      <td>-73.983765</td>\n",
       "    </tr>\n",
       "    <tr>\n",
       "      <th>2</th>\n",
       "      <td>40.834255</td>\n",
       "      <td>-73.851222</td>\n",
       "    </tr>\n",
       "    <tr>\n",
       "      <th>3</th>\n",
       "      <td>40.680596</td>\n",
       "      <td>-73.955827</td>\n",
       "    </tr>\n",
       "    <tr>\n",
       "      <th>4</th>\n",
       "      <td>40.718315</td>\n",
       "      <td>-73.987437</td>\n",
       "    </tr>\n",
       "  </tbody>\n",
       "</table>\n",
       "</div>"
      ],
      "text/plain": [
       "    Latitude  Longitude\n",
       "0  40.725915 -73.994659\n",
       "1  40.588841 -73.983765\n",
       "2  40.834255 -73.851222\n",
       "3  40.680596 -73.955827\n",
       "4  40.718315 -73.987437"
      ]
     },
     "execution_count": 4,
     "metadata": {},
     "output_type": "execute_result"
    }
   ],
   "source": [
    "subway_df = pd.read_csv(\"data/MTA_Subway_Stations.csv\")\n",
    "subway_df = subway_df[[\"GTFS Latitude\", \"GTFS Longitude\"]]\n",
    "subway_df.rename(columns={\"GTFS Latitude\": \"Latitude\", \"GTFS Longitude\":\"Longitude\"}, inplace=True)\n",
    "print(subway_df.shape[0], \" Subway Stations Included in NYC Dataset\")\n",
    "subway_df.head()"
   ]
  },
  {
   "cell_type": "code",
   "execution_count": 5,
   "metadata": {},
   "outputs": [],
   "source": [
    "subway_coords = subway_df[['Latitude','Longitude']].values\n",
    "subway_tree = cKDTree(subway_coords)\n",
    "\n",
    "subway_distances = []\n",
    "\n",
    "for _, property in house_df.iterrows():\n",
    "    property_coord = (property[\"LATITUDE\"], property[\"LONGITUDE\"])\n",
    "    \n",
    "    distance, idx = subway_tree.query([property[\"LATITUDE\"], property[\"LONGITUDE\"]])\n",
    "    \n",
    "    nearest_subway_coord = subway_coords[idx]\n",
    "    precise_distance = np.round(geodesic(property_coord, nearest_subway_coord).miles,6)\n",
    "    subway_distances.append(precise_distance)\n",
    "    \n",
    "house_df[\"NEAREST_SUB_STATION\"] = subway_distances"
   ]
  },
  {
   "cell_type": "code",
   "execution_count": 6,
   "metadata": {},
   "outputs": [
    {
     "data": {
      "text/html": [
       "<div>\n",
       "<style scoped>\n",
       "    .dataframe tbody tr th:only-of-type {\n",
       "        vertical-align: middle;\n",
       "    }\n",
       "\n",
       "    .dataframe tbody tr th {\n",
       "        vertical-align: top;\n",
       "    }\n",
       "\n",
       "    .dataframe thead th {\n",
       "        text-align: right;\n",
       "    }\n",
       "</style>\n",
       "<table border=\"1\" class=\"dataframe\">\n",
       "  <thead>\n",
       "    <tr style=\"text-align: right;\">\n",
       "      <th></th>\n",
       "      <th>BROKERTITLE</th>\n",
       "      <th>TYPE</th>\n",
       "      <th>PRICE</th>\n",
       "      <th>BEDS</th>\n",
       "      <th>BATH</th>\n",
       "      <th>PROPERTYSQFT</th>\n",
       "      <th>ADDRESS</th>\n",
       "      <th>STATE</th>\n",
       "      <th>MAIN_ADDRESS</th>\n",
       "      <th>ADMINISTRATIVE_AREA_LEVEL_2</th>\n",
       "      <th>LOCALITY</th>\n",
       "      <th>SUBLOCALITY</th>\n",
       "      <th>STREET_NAME</th>\n",
       "      <th>LONG_NAME</th>\n",
       "      <th>FORMATTED_ADDRESS</th>\n",
       "      <th>LATITUDE</th>\n",
       "      <th>LONGITUDE</th>\n",
       "      <th>NEAREST_SUB_STATION</th>\n",
       "    </tr>\n",
       "  </thead>\n",
       "  <tbody>\n",
       "    <tr>\n",
       "      <th>0</th>\n",
       "      <td>Brokered by Douglas Elliman  -111 Fifth Ave</td>\n",
       "      <td>Condo for sale</td>\n",
       "      <td>315000</td>\n",
       "      <td>2</td>\n",
       "      <td>2.000000</td>\n",
       "      <td>1400.0</td>\n",
       "      <td>2 E 55th St Unit 803</td>\n",
       "      <td>New York, NY 10022</td>\n",
       "      <td>2 E 55th St Unit 803New York, NY 10022</td>\n",
       "      <td>New York County</td>\n",
       "      <td>New York</td>\n",
       "      <td>Manhattan</td>\n",
       "      <td>East 55th Street</td>\n",
       "      <td>Regis Residence</td>\n",
       "      <td>Regis Residence, 2 E 55th St #803, New York, N...</td>\n",
       "      <td>40.761255</td>\n",
       "      <td>-73.974483</td>\n",
       "      <td>0.084535</td>\n",
       "    </tr>\n",
       "    <tr>\n",
       "      <th>1</th>\n",
       "      <td>Brokered by Serhant</td>\n",
       "      <td>Condo for sale</td>\n",
       "      <td>195000000</td>\n",
       "      <td>7</td>\n",
       "      <td>10.000000</td>\n",
       "      <td>17545.0</td>\n",
       "      <td>Central Park Tower Penthouse-217 W 57th New Yo...</td>\n",
       "      <td>New York, NY 10019</td>\n",
       "      <td>Central Park Tower Penthouse-217 W 57th New Yo...</td>\n",
       "      <td>United States</td>\n",
       "      <td>New York</td>\n",
       "      <td>New York County</td>\n",
       "      <td>New York</td>\n",
       "      <td>West 57th Street</td>\n",
       "      <td>217 W 57th St, New York, NY 10019, USA</td>\n",
       "      <td>40.766393</td>\n",
       "      <td>-73.980991</td>\n",
       "      <td>0.120612</td>\n",
       "    </tr>\n",
       "    <tr>\n",
       "      <th>2</th>\n",
       "      <td>Brokered by Sowae Corp</td>\n",
       "      <td>House for sale</td>\n",
       "      <td>260000</td>\n",
       "      <td>4</td>\n",
       "      <td>2.000000</td>\n",
       "      <td>2015.0</td>\n",
       "      <td>620 Sinclair Ave</td>\n",
       "      <td>Staten Island, NY 10312</td>\n",
       "      <td>620 Sinclair AveStaten Island, NY 10312</td>\n",
       "      <td>United States</td>\n",
       "      <td>New York</td>\n",
       "      <td>Richmond County</td>\n",
       "      <td>Staten Island</td>\n",
       "      <td>Sinclair Avenue</td>\n",
       "      <td>620 Sinclair Ave, Staten Island, NY 10312, USA</td>\n",
       "      <td>40.541805</td>\n",
       "      <td>-74.196109</td>\n",
       "      <td>0.605279</td>\n",
       "    </tr>\n",
       "    <tr>\n",
       "      <th>3</th>\n",
       "      <td>Brokered by COMPASS</td>\n",
       "      <td>Condo for sale</td>\n",
       "      <td>69000</td>\n",
       "      <td>3</td>\n",
       "      <td>1.000000</td>\n",
       "      <td>445.0</td>\n",
       "      <td>2 E 55th St Unit 908W33</td>\n",
       "      <td>Manhattan, NY 10022</td>\n",
       "      <td>2 E 55th St Unit 908W33Manhattan, NY 10022</td>\n",
       "      <td>United States</td>\n",
       "      <td>New York</td>\n",
       "      <td>New York County</td>\n",
       "      <td>New York</td>\n",
       "      <td>East 55th Street</td>\n",
       "      <td>2 E 55th St, New York, NY 10022, USA</td>\n",
       "      <td>40.761398</td>\n",
       "      <td>-73.974613</td>\n",
       "      <td>0.090788</td>\n",
       "    </tr>\n",
       "    <tr>\n",
       "      <th>4</th>\n",
       "      <td>Brokered by Sotheby's International Realty - E...</td>\n",
       "      <td>Townhouse for sale</td>\n",
       "      <td>55000000</td>\n",
       "      <td>7</td>\n",
       "      <td>2.373861</td>\n",
       "      <td>14175.0</td>\n",
       "      <td>5 E 64th St</td>\n",
       "      <td>New York, NY 10065</td>\n",
       "      <td>5 E 64th StNew York, NY 10065</td>\n",
       "      <td>United States</td>\n",
       "      <td>New York</td>\n",
       "      <td>New York County</td>\n",
       "      <td>New York</td>\n",
       "      <td>East 64th Street</td>\n",
       "      <td>5 E 64th St, New York, NY 10065, USA</td>\n",
       "      <td>40.767224</td>\n",
       "      <td>-73.969856</td>\n",
       "      <td>0.247496</td>\n",
       "    </tr>\n",
       "  </tbody>\n",
       "</table>\n",
       "</div>"
      ],
      "text/plain": [
       "                                         BROKERTITLE                TYPE  \\\n",
       "0        Brokered by Douglas Elliman  -111 Fifth Ave      Condo for sale   \n",
       "1                                Brokered by Serhant      Condo for sale   \n",
       "2                             Brokered by Sowae Corp      House for sale   \n",
       "3                                Brokered by COMPASS      Condo for sale   \n",
       "4  Brokered by Sotheby's International Realty - E...  Townhouse for sale   \n",
       "\n",
       "       PRICE  BEDS       BATH  PROPERTYSQFT  \\\n",
       "0     315000     2   2.000000        1400.0   \n",
       "1  195000000     7  10.000000       17545.0   \n",
       "2     260000     4   2.000000        2015.0   \n",
       "3      69000     3   1.000000         445.0   \n",
       "4   55000000     7   2.373861       14175.0   \n",
       "\n",
       "                                             ADDRESS                    STATE  \\\n",
       "0                               2 E 55th St Unit 803       New York, NY 10022   \n",
       "1  Central Park Tower Penthouse-217 W 57th New Yo...       New York, NY 10019   \n",
       "2                                   620 Sinclair Ave  Staten Island, NY 10312   \n",
       "3                            2 E 55th St Unit 908W33      Manhattan, NY 10022   \n",
       "4                                        5 E 64th St       New York, NY 10065   \n",
       "\n",
       "                                        MAIN_ADDRESS  \\\n",
       "0             2 E 55th St Unit 803New York, NY 10022   \n",
       "1  Central Park Tower Penthouse-217 W 57th New Yo...   \n",
       "2            620 Sinclair AveStaten Island, NY 10312   \n",
       "3         2 E 55th St Unit 908W33Manhattan, NY 10022   \n",
       "4                      5 E 64th StNew York, NY 10065   \n",
       "\n",
       "  ADMINISTRATIVE_AREA_LEVEL_2  LOCALITY      SUBLOCALITY       STREET_NAME  \\\n",
       "0             New York County  New York        Manhattan  East 55th Street   \n",
       "1               United States  New York  New York County          New York   \n",
       "2               United States  New York  Richmond County     Staten Island   \n",
       "3               United States  New York  New York County          New York   \n",
       "4               United States  New York  New York County          New York   \n",
       "\n",
       "          LONG_NAME                                  FORMATTED_ADDRESS  \\\n",
       "0   Regis Residence  Regis Residence, 2 E 55th St #803, New York, N...   \n",
       "1  West 57th Street             217 W 57th St, New York, NY 10019, USA   \n",
       "2   Sinclair Avenue     620 Sinclair Ave, Staten Island, NY 10312, USA   \n",
       "3  East 55th Street               2 E 55th St, New York, NY 10022, USA   \n",
       "4  East 64th Street               5 E 64th St, New York, NY 10065, USA   \n",
       "\n",
       "    LATITUDE  LONGITUDE  NEAREST_SUB_STATION  \n",
       "0  40.761255 -73.974483             0.084535  \n",
       "1  40.766393 -73.980991             0.120612  \n",
       "2  40.541805 -74.196109             0.605279  \n",
       "3  40.761398 -73.974613             0.090788  \n",
       "4  40.767224 -73.969856             0.247496  "
      ]
     },
     "execution_count": 6,
     "metadata": {},
     "output_type": "execute_result"
    }
   ],
   "source": [
    "house_df.head()"
   ]
  },
  {
   "cell_type": "code",
   "execution_count": 7,
   "metadata": {},
   "outputs": [
    {
     "name": "stdout",
     "output_type": "stream",
     "text": [
      "18 total features after feature engineering\n",
      "Features:  ['BROKERTITLE', 'TYPE', 'PRICE', 'BEDS', 'BATH', 'PROPERTYSQFT', 'ADDRESS', 'STATE', 'MAIN_ADDRESS', 'ADMINISTRATIVE_AREA_LEVEL_2', 'LOCALITY', 'SUBLOCALITY', 'STREET_NAME', 'LONG_NAME', 'FORMATTED_ADDRESS', 'LATITUDE', 'LONGITUDE', 'NEAREST_SUB_STATION']\n"
     ]
    }
   ],
   "source": [
    "print(len(list(house_df.columns)), \"total features after feature engineering\")\n",
    "print(\"Features: \", list(house_df.columns))"
   ]
  },
  {
   "cell_type": "markdown",
   "metadata": {},
   "source": [
    "### Analysis of Numerical Features"
   ]
  },
  {
   "cell_type": "code",
   "execution_count": 8,
   "metadata": {},
   "outputs": [],
   "source": [
    "# Defining a function to group underrepresented categoreies into an \"Other\" category\n",
    "\n",
    "def group_rare_categories(column, cutoff=0.01):\n",
    "    if \"Other\" in house_df[column].unique(): \n",
    "        pass # Prevent from running the grouping twice\n",
    "    \n",
    "    category_proportions = house_df[column].value_counts(normalize=True)\n",
    "    house_df.loc[house_df[column].map(category_proportions < cutoff), column] = \"Other\"\n",
    "    \n",
    "\n",
    "# Defining a function to safely drop columns (in case certain cells get run twice)\n",
    "def drop_column(column_name):\n",
    "    if column_name in house_df.columns:\n",
    "        house_df.drop(column_name, axis=1, inplace=True)"
   ]
  },
  {
   "cell_type": "markdown",
   "metadata": {},
   "source": [
    "#### Missing Values\n",
    "\n",
    "It appears that in this dataset, missing values are filled in with the mean value for the column\n",
    "\n",
    "We want to identify columns with potentially large numbers of missing values"
   ]
  },
  {
   "cell_type": "code",
   "execution_count": 9,
   "metadata": {},
   "outputs": [
    {
     "data": {
      "text/html": [
       "<div>\n",
       "<style scoped>\n",
       "    .dataframe tbody tr th:only-of-type {\n",
       "        vertical-align: middle;\n",
       "    }\n",
       "\n",
       "    .dataframe tbody tr th {\n",
       "        vertical-align: top;\n",
       "    }\n",
       "\n",
       "    .dataframe thead th {\n",
       "        text-align: right;\n",
       "    }\n",
       "</style>\n",
       "<table border=\"1\" class=\"dataframe\">\n",
       "  <thead>\n",
       "    <tr style=\"text-align: right;\">\n",
       "      <th></th>\n",
       "      <th>Column</th>\n",
       "      <th>Instances of Mean Value of Column</th>\n",
       "      <th>Mean Value of Column</th>\n",
       "    </tr>\n",
       "  </thead>\n",
       "  <tbody>\n",
       "    <tr>\n",
       "      <th>0</th>\n",
       "      <td>PRICE</td>\n",
       "      <td>0</td>\n",
       "      <td>2356940.17</td>\n",
       "    </tr>\n",
       "    <tr>\n",
       "      <th>1</th>\n",
       "      <td>BEDS</td>\n",
       "      <td>0</td>\n",
       "      <td>3.36</td>\n",
       "    </tr>\n",
       "    <tr>\n",
       "      <th>2</th>\n",
       "      <td>BATH</td>\n",
       "      <td>302</td>\n",
       "      <td>2.37</td>\n",
       "    </tr>\n",
       "    <tr>\n",
       "      <th>3</th>\n",
       "      <td>PROPERTYSQFT</td>\n",
       "      <td>1621</td>\n",
       "      <td>2184.21</td>\n",
       "    </tr>\n",
       "    <tr>\n",
       "      <th>4</th>\n",
       "      <td>LATITUDE</td>\n",
       "      <td>21</td>\n",
       "      <td>40.71</td>\n",
       "    </tr>\n",
       "    <tr>\n",
       "      <th>5</th>\n",
       "      <td>LONGITUDE</td>\n",
       "      <td>28</td>\n",
       "      <td>-73.94</td>\n",
       "    </tr>\n",
       "    <tr>\n",
       "      <th>6</th>\n",
       "      <td>NEAREST_SUB_STATION</td>\n",
       "      <td>0</td>\n",
       "      <td>0.69</td>\n",
       "    </tr>\n",
       "  </tbody>\n",
       "</table>\n",
       "</div>"
      ],
      "text/plain": [
       "                Column  Instances of Mean Value of Column  \\\n",
       "0                PRICE                                  0   \n",
       "1                 BEDS                                  0   \n",
       "2                 BATH                                302   \n",
       "3         PROPERTYSQFT                               1621   \n",
       "4             LATITUDE                                 21   \n",
       "5            LONGITUDE                                 28   \n",
       "6  NEAREST_SUB_STATION                                  0   \n",
       "\n",
       "   Mean Value of Column  \n",
       "0            2356940.17  \n",
       "1                  3.36  \n",
       "2                  2.37  \n",
       "3               2184.21  \n",
       "4                 40.71  \n",
       "5                -73.94  \n",
       "6                  0.69  "
      ]
     },
     "execution_count": 9,
     "metadata": {},
     "output_type": "execute_result"
    }
   ],
   "source": [
    "columns = []\n",
    "num_mean = []\n",
    "means = []\n",
    "\n",
    "\n",
    "def equal_to_mean(colName):\n",
    "    mean_val = np.mean(house_df[colName])\n",
    "    is_close = np.isclose(house_df[colName], mean_val, atol=1e-9)\n",
    "    return is_close\n",
    "\n",
    "for column in house_df:\n",
    "    if(pd_types.is_numeric_dtype(house_df[column])):\n",
    "        columns.append(column)\n",
    "        total = sum(equal_to_mean(column))\n",
    "        num_mean.append(total)\n",
    "        means.append(np.round(np.mean(house_df[column]),2))\n",
    "\n",
    "df = pd.DataFrame({\"Column\": columns, \"Instances of Mean Value of Column\": num_mean, \"Mean Value of Column\": means})\n",
    "df"
   ]
  },
  {
   "cell_type": "markdown",
   "metadata": {},
   "source": [
    "BATH and PROPERTYSQFT have a large number of missing values that will need to be dealt with accordingly. LATITUDE and LONGITUDE have some values that are equal to the mean, but we feel that it is possible these may be actual coordinate values, and there are few enough of them that we have decided to leave them as is."
   ]
  },
  {
   "cell_type": "code",
   "execution_count": 10,
   "metadata": {},
   "outputs": [],
   "source": [
    "# Replace imputed values with NaN for ease of various imputation techniques later\n",
    "house_df.loc[equal_to_mean(\"BATH\"), \"BATH\"] = np.nan\n",
    "house_df.loc[equal_to_mean(\"PROPERTYSQFT\"),\"PROPERTYSQFT\"] = np.nan"
   ]
  },
  {
   "cell_type": "markdown",
   "metadata": {},
   "source": [
    "#### BEDS"
   ]
  },
  {
   "cell_type": "code",
   "execution_count": 11,
   "metadata": {},
   "outputs": [
    {
     "name": "stdout",
     "output_type": "stream",
     "text": [
      "Any values of BEDS that are not a multiple of 0.5 (ie 1, 1.5, 2, etc) :  False\n"
     ]
    },
    {
     "data": {
      "image/png": "[encoded data removed]",
      "text/plain": [
       "<Figure size 640x480 with 1 Axes>"
      ]
     },
     "metadata": {},
     "output_type": "display_data"
    }
   ],
   "source": [
    "beds = house_df[\"BEDS\"]\n",
    "\n",
    "sns.boxplot(x=beds)\n",
    "plt.title(\"Distribution of Number of Bedrooms\");\n",
    "\n",
    "print(\"Any values of BEDS that are not a multiple of 0.5 (ie 1, 1.5, 2, etc) : \", (beds % 0.5 != 0).any())"
   ]
  },
  {
   "cell_type": "markdown",
   "metadata": {},
   "source": [
    "#### BATH"
   ]
  },
  {
   "cell_type": "code",
   "execution_count": 12,
   "metadata": {},
   "outputs": [
    {
     "name": "stdout",
     "output_type": "stream",
     "text": [
      "Any values of BATH that are not a multiple of 0.5 (ie 1, 1.5, 2, etc) :  False\n"
     ]
    },
    {
     "data": {
      "image/png": "[encoded data removed]",
      "text/plain": [
       "<Figure size 640x480 with 1 Axes>"
      ]
     },
     "metadata": {},
     "output_type": "display_data"
    }
   ],
   "source": [
    "bath = house_df[\"BATH\"]\n",
    "sns.boxplot(x=bath)\n",
    "plt.title(\"Distribution of number of Bathrooms\");\n",
    "\n",
    "print(\"Any values of BATH that are not a multiple of 0.5 (ie 1, 1.5, 2, etc) : \", (beds % 0.5 != 0).any())"
   ]
  },
  {
   "cell_type": "markdown",
   "metadata": {},
   "source": [
    "Both the number of bedrooms and number of bathrooms are discrete numerical variables. While most examples have fewer than 5 of each, there are some outliers all the way up to 50. I checked into some of these outlier properties individually and found that they were apartment buildings. "
   ]
  },
  {
   "cell_type": "markdown",
   "metadata": {},
   "source": [
    "#### PROPERTYSQFT"
   ]
  },
  {
   "cell_type": "code",
   "execution_count": 13,
   "metadata": {},
   "outputs": [
    {
     "data": {
      "image/png": "[encoded data removed]",
      "text/plain": [
       "<Figure size 640x480 with 1 Axes>"
      ]
     },
     "metadata": {},
     "output_type": "display_data"
    }
   ],
   "source": [
    "footage = house_df[\"PROPERTYSQFT\"]\n",
    "sns.boxplot(x=footage)\n",
    "plt.title(\"Distribution of PROPERTYSQFT\");"
   ]
  },
  {
   "cell_type": "markdown",
   "metadata": {},
   "source": [
    "We checked into the maximum PROPERTYSQFT value address and it checks out as accurate"
   ]
  },
  {
   "cell_type": "markdown",
   "metadata": {},
   "source": [
    "#### Label: PRICE"
   ]
  },
  {
   "cell_type": "code",
   "execution_count": 14,
   "metadata": {},
   "outputs": [
    {
     "name": "stdout",
     "output_type": "stream",
     "text": [
      "Address of outlier house:  6659-6675 Amboy Rd\n"
     ]
    },
    {
     "data": {
      "image/png": "[encoded data removed]",
      "text/plain": [
       "<Figure size 640x480 with 1 Axes>"
      ]
     },
     "metadata": {},
     "output_type": "display_data"
    }
   ],
   "source": [
    "price = house_df[\"PRICE\"]\n",
    "sns.boxplot(x=price)\n",
    "plt.xscale('log')\n",
    "plt.title(\"Distribution of Price\")\n",
    "print(\"Address of outlier house: \", house_df.iloc[price.idxmax()][\"ADDRESS\"])"
   ]
  },
  {
   "cell_type": "markdown",
   "metadata": {},
   "source": [
    "Wow, what an outlier. This outlier price is around 2.14 billion dollars. We investigated the address of this property and found that it was listed in 2023 for 2.49 million dolalrs. This price entry is clearly a mistake, so we will remove it."
   ]
  },
  {
   "cell_type": "code",
   "execution_count": 15,
   "metadata": {},
   "outputs": [
    {
     "data": {
      "image/png": "[encoded data removed]",
      "text/plain": [
       "<Figure size 640x480 with 1 Axes>"
      ]
     },
     "metadata": {},
     "output_type": "display_data"
    }
   ],
   "source": [
    "if price.idxmax() == 304:\n",
    "    house_df.drop(index=price.idxmax(), inplace=True)\n",
    "    \n",
    "sns.boxplot(x=house_df[\"PRICE\"])\n",
    "plt.xscale('log')\n",
    "plt.xlabel(\"PRICE (log scale)\")\n",
    "plt.title(\"Distribution of PRICE\");"
   ]
  },
  {
   "cell_type": "markdown",
   "metadata": {},
   "source": [
    "Price is on a log scale here. Notice the highest price now, 195 million — the central park tower penthouse suite. Not a data entry error!"
   ]
  },
  {
   "cell_type": "markdown",
   "metadata": {},
   "source": [
    "#### LATITUDE & LONGITUDE\n",
    "\n",
    "We have laready used these features to generate the feature of distance to nearest subway station.\n",
    "\n",
    "We also found that including the raw values of latitude and longitude proved to be helpful for the model. To improve the benefit, we will transform the latitude and longitude values into a geohash column. The geohash column represents a spatial encoding of the property based on it's coordinates. This method transforms the location into an alphanumeric string. The length of the string (ie the precision), determines the size of the area it represents.\n",
    "\n",
    "Below, we plot both the number of total unique geohash's and the number of geohash's that represent more than 1% of the samples as a function of geohash precision.\n",
    "\n"
   ]
  },
  {
   "cell_type": "code",
   "execution_count": 16,
   "metadata": {},
   "outputs": [
    {
     "data": {
      "image/png": "[encoded data removed]",
      "text/plain": [
       "<Figure size 640x480 with 1 Axes>"
      ]
     },
     "metadata": {},
     "output_type": "display_data"
    }
   ],
   "source": [
    "precisions = [1,2,3,4,5,6]\n",
    "num_unique_non_rare_geohash = []\n",
    "num_total_unique_geohash = []\n",
    "\n",
    "for precision_val in precisions:\n",
    "    geohash_col = house_df.apply(lambda row: geohash.encode(row[\"LATITUDE\"], row[\"LONGITUDE\"], precision=precision_val), axis=1)\n",
    "    num_unique_non_rare_geohash.append((geohash_col.value_counts(normalize=True) > .01).sum())\n",
    "    num_total_unique_geohash.append(len(geohash_col.unique()))\n",
    "    \n",
    "plt.plot(precisions, num_total_unique_geohash,label=\"Total Number of Unique Geohash Values in Dataset\")\n",
    "plt.plot(precisions, num_unique_non_rare_geohash, label=\"Number of Geohash Values Representing \\nMore than 1% of Samples\")\n",
    "plt.yscale('log')\n",
    "plt.title(\"Number of Unique Geohash Values and Non-Rare Geohash Values for Various Precisions\")\n",
    "plt.xlabel(\"Geohash Precision\")\n",
    "plt.legend();"
   ]
  },
  {
   "cell_type": "markdown",
   "metadata": {},
   "source": [
    "As you might expect, as the precision increases, the number of unique geohash values increases exponentially. However, beyond a precision of 5 characters, the geohash value becomes exccessively granular. At this level of detail, each geohash may represent a very small region, often reducing its ability to group nearby locations meaningfully. Therefore, we will use a geohash precision of 5.\n",
    "\n",
    "Unfortunately, after experimenting with our model, GEOHASH did not serve to improve performance, though it did significantly increase the complexity. We chose not to continue using the feature, but wanted to include the analysis in our notebook."
   ]
  },
  {
   "cell_type": "code",
   "execution_count": 17,
   "metadata": {},
   "outputs": [],
   "source": [
    "house_df[\"GEOHASH\"] = house_df.apply(lambda row: geohash.encode(row[\"LATITUDE\"], row[\"LONGITUDE\"], precision=5), axis=1)\n",
    "group_rare_categories(column=\"GEOHASH\", cutoff=.01)\n",
    "\n",
    "drop_column(\"GEOHASH\") # This feature didn't help "
   ]
  },
  {
   "cell_type": "markdown",
   "metadata": {},
   "source": [
    "### Analysis of Categorical Features"
   ]
  },
  {
   "cell_type": "markdown",
   "metadata": {},
   "source": [
    "Categorical features with very high cardinality, warrant inspection for the following reasons:\n",
    "* Insufficient number of samples per category\n",
    "* Increase of computational complexity to encode\n",
    "* Lead to overfitting if model memorizes categories rather than learning patterns"
   ]
  },
  {
   "cell_type": "code",
   "execution_count": 18,
   "metadata": {},
   "outputs": [
    {
     "data": {
      "text/html": [
       "<div>\n",
       "<style scoped>\n",
       "    .dataframe tbody tr th:only-of-type {\n",
       "        vertical-align: middle;\n",
       "    }\n",
       "\n",
       "    .dataframe tbody tr th {\n",
       "        vertical-align: top;\n",
       "    }\n",
       "\n",
       "    .dataframe thead th {\n",
       "        text-align: right;\n",
       "    }\n",
       "</style>\n",
       "<table border=\"1\" class=\"dataframe\">\n",
       "  <thead>\n",
       "    <tr style=\"text-align: right;\">\n",
       "      <th></th>\n",
       "      <th>Categorical Feature</th>\n",
       "      <th>Cardinality</th>\n",
       "    </tr>\n",
       "  </thead>\n",
       "  <tbody>\n",
       "    <tr>\n",
       "      <th>0</th>\n",
       "      <td>BROKERTITLE</td>\n",
       "      <td>1035</td>\n",
       "    </tr>\n",
       "    <tr>\n",
       "      <th>1</th>\n",
       "      <td>TYPE</td>\n",
       "      <td>13</td>\n",
       "    </tr>\n",
       "    <tr>\n",
       "      <th>2</th>\n",
       "      <td>ADDRESS</td>\n",
       "      <td>4582</td>\n",
       "    </tr>\n",
       "    <tr>\n",
       "      <th>3</th>\n",
       "      <td>STATE</td>\n",
       "      <td>307</td>\n",
       "    </tr>\n",
       "    <tr>\n",
       "      <th>4</th>\n",
       "      <td>MAIN_ADDRESS</td>\n",
       "      <td>4582</td>\n",
       "    </tr>\n",
       "    <tr>\n",
       "      <th>5</th>\n",
       "      <td>ADMINISTRATIVE_AREA_LEVEL_2</td>\n",
       "      <td>29</td>\n",
       "    </tr>\n",
       "    <tr>\n",
       "      <th>6</th>\n",
       "      <td>LOCALITY</td>\n",
       "      <td>11</td>\n",
       "    </tr>\n",
       "    <tr>\n",
       "      <th>7</th>\n",
       "      <td>SUBLOCALITY</td>\n",
       "      <td>21</td>\n",
       "    </tr>\n",
       "    <tr>\n",
       "      <th>8</th>\n",
       "      <td>STREET_NAME</td>\n",
       "      <td>174</td>\n",
       "    </tr>\n",
       "    <tr>\n",
       "      <th>9</th>\n",
       "      <td>LONG_NAME</td>\n",
       "      <td>2731</td>\n",
       "    </tr>\n",
       "    <tr>\n",
       "      <th>10</th>\n",
       "      <td>FORMATTED_ADDRESS</td>\n",
       "      <td>4550</td>\n",
       "    </tr>\n",
       "  </tbody>\n",
       "</table>\n",
       "</div>"
      ],
      "text/plain": [
       "            Categorical Feature  Cardinality\n",
       "0                   BROKERTITLE         1035\n",
       "1                          TYPE           13\n",
       "2                       ADDRESS         4582\n",
       "3                         STATE          307\n",
       "4                  MAIN_ADDRESS         4582\n",
       "5   ADMINISTRATIVE_AREA_LEVEL_2           29\n",
       "6                      LOCALITY           11\n",
       "7                   SUBLOCALITY           21\n",
       "8                   STREET_NAME          174\n",
       "9                     LONG_NAME         2731\n",
       "10            FORMATTED_ADDRESS         4550"
      ]
     },
     "execution_count": 18,
     "metadata": {},
     "output_type": "execute_result"
    }
   ],
   "source": [
    "categorical_columns = ['BROKERTITLE', 'TYPE', 'ADDRESS', 'STATE', 'MAIN_ADDRESS', 'ADMINISTRATIVE_AREA_LEVEL_2', 'LOCALITY', 'SUBLOCALITY', 'STREET_NAME', 'LONG_NAME', 'FORMATTED_ADDRESS']\n",
    "cardinalities = []\n",
    "\n",
    "for column in categorical_columns:\n",
    "    cardinalities.append(len(house_df[column].unique()))\n",
    "    \n",
    "df = pd.DataFrame({\"Categorical Feature\" :categorical_columns, \"Cardinality\":cardinalities})\n",
    "df"
   ]
  },
  {
   "cell_type": "markdown",
   "metadata": {},
   "source": [
    "#### BROKERTITLE"
   ]
  },
  {
   "cell_type": "code",
   "execution_count": 19,
   "metadata": {},
   "outputs": [
    {
     "name": "stdout",
     "output_type": "stream",
     "text": [
      "10 brokers have at least 1% of total samples\n",
      "Together, these 10 brokers represent  1124 samples\n",
      "\n",
      "Number of properties brokered by various brokers: \n"
     ]
    },
    {
     "data": {
      "text/plain": [
       "BROKERTITLE\n",
       "Brokered by COMPASS                              456\n",
       "Brokered by Douglas Elliman - 575 Madison Ave    110\n",
       "Brokered by Brown Harris Stevens                  93\n",
       "Brokered by Corcoran East Side                    91\n",
       "Brokered by RE MAX Edge                           79\n",
       "                                                ... \n",
       "Brokered by Blooming Realty                        1\n",
       "Brokered by Five Towns Miller Realty Inc           1\n",
       "Brokered by Genstone Properties                    1\n",
       "Brokered by Nyc Elite Homes Inc                    1\n",
       "Brokered by New York Way Real Estate Corp          1\n",
       "Name: count, Length: 1035, dtype: int64"
      ]
     },
     "execution_count": 19,
     "metadata": {},
     "output_type": "execute_result"
    }
   ],
   "source": [
    "broker_counts = house_df[\"BROKERTITLE\"].value_counts()\n",
    "threshold = len(house_df) * .01 # Determine a \"rare\" category to be one with fewer than 1% of total examples\n",
    "print(len(broker_counts[broker_counts > threshold]), \"brokers have at least 1% of total samples\")\n",
    "print(\"Together, these 10 brokers represent \", broker_counts[broker_counts > threshold].sum(), \"samples\")\n",
    "print(\"\\nNumber of properties brokered by various brokers: \")\n",
    "broker_counts"
   ]
  },
  {
   "cell_type": "markdown",
   "metadata": {},
   "source": [
    "There are some brokers with a significant number of samples in the dataset. Specifically, 10 brokers have at least 49 representative samples (1% of total). However, the vast majority of BROKERTITLE categories are rare (ie contain less than 1%) and many contain just a couple examples."
   ]
  },
  {
   "cell_type": "code",
   "execution_count": 20,
   "metadata": {},
   "outputs": [
    {
     "name": "stdout",
     "output_type": "stream",
     "text": [
      "Pearson Correlation:  0.096\n",
      "Spearmen Correlation:  0.234\n",
      "Kendall Correlation:  0.16\n"
     ]
    }
   ],
   "source": [
    "property_broker_counts = house_df[\"BROKERTITLE\"].map(broker_counts)\n",
    "\n",
    "print(\"Pearson Correlation: \", np.round(property_broker_counts.corr(house_df[\"PRICE\"], method=\"pearson\"),3))\n",
    "print(\"Spearmen Correlation: \", np.round(property_broker_counts.corr(house_df[\"PRICE\"], method=\"spearman\"),3))\n",
    "print(\"Kendall Correlation: \", np.round(property_broker_counts.corr(house_df[\"PRICE\"], method=\"kendall\"),3))\n"
   ]
  },
  {
   "cell_type": "markdown",
   "metadata": {},
   "source": [
    "The list property_broker_counts is a frequency encoding of BROKERTITLE. The low pearson correlation coefficient suggests no linear relationship between property_broker_counts and PRICE. However, the moderate values of Spearmen and Kendall correlation suggest some monotonic relationship between the number of properties sold by a broker and the PRICE. As one increases, so too does the other, but not at a constant rate. There seems to be some signal contained within the BROKERTITLE variable.\n",
    "\n",
    "The high cardinality of BROKERTITLE, the large number of rare categories, and the seemingly ordinal relationship have led us to a few possibilities:\n",
    "1. Group categories with fewer than 1% of representative samples into an \"other\" category\n",
    "2. Use a frequency encoding\n",
    "3. Encode BROKERTITLE into a BROKER_ACTIVITY feature containing the categories low activity, medium activity, and high activity\n",
    "\n",
    "Option 1 will result in 11 total categories and rougly 3/4 of the data belonging to the \"other\" category. \n",
    "Option 2 will also result in a skewed distribution\n",
    "\n",
    "Our judgement suggests that option 3 may be the most balanced solution that simplifies the feature's cardinality while maintaining the ordinal relationship, and limits highly skewed distributions. We did experiment with using option 1 by itself and in conjunction with option 3, but we ultimately found that using option 3 alone produced the best performing models."
   ]
  },
  {
   "cell_type": "code",
   "execution_count": 21,
   "metadata": {},
   "outputs": [
    {
     "data": {
      "text/html": [
       "<div>\n",
       "<style scoped>\n",
       "    .dataframe tbody tr th:only-of-type {\n",
       "        vertical-align: middle;\n",
       "    }\n",
       "\n",
       "    .dataframe tbody tr th {\n",
       "        vertical-align: top;\n",
       "    }\n",
       "\n",
       "    .dataframe thead th {\n",
       "        text-align: right;\n",
       "    }\n",
       "</style>\n",
       "<table border=\"1\" class=\"dataframe\">\n",
       "  <thead>\n",
       "    <tr style=\"text-align: right;\">\n",
       "      <th></th>\n",
       "      <th>Activity Level</th>\n",
       "      <th>BROKER_ACTIVITY</th>\n",
       "      <th>Number of Samples</th>\n",
       "    </tr>\n",
       "  </thead>\n",
       "  <tbody>\n",
       "    <tr>\n",
       "      <th>0</th>\n",
       "      <td>Low</td>\n",
       "      <td>0</td>\n",
       "      <td>1707</td>\n",
       "    </tr>\n",
       "    <tr>\n",
       "      <th>1</th>\n",
       "      <td>Medium</td>\n",
       "      <td>1</td>\n",
       "      <td>1217</td>\n",
       "    </tr>\n",
       "    <tr>\n",
       "      <th>3</th>\n",
       "      <td>High</td>\n",
       "      <td>2</td>\n",
       "      <td>752</td>\n",
       "    </tr>\n",
       "    <tr>\n",
       "      <th>2</th>\n",
       "      <td>Very High</td>\n",
       "      <td>3</td>\n",
       "      <td>1124</td>\n",
       "    </tr>\n",
       "  </tbody>\n",
       "</table>\n",
       "</div>"
      ],
      "text/plain": [
       "  Activity Level  BROKER_ACTIVITY  Number of Samples\n",
       "0            Low                0               1707\n",
       "1         Medium                1               1217\n",
       "3           High                2                752\n",
       "2      Very High                3               1124"
      ]
     },
     "execution_count": 21,
     "metadata": {},
     "output_type": "execute_result"
    }
   ],
   "source": [
    "\n",
    "if \"BROKER_ACTIVITY\" not in house_df.columns:\n",
    "    broker_counts[broker_counts < 7] = 0 # Brokers with fewer than 7 examples are considered low\n",
    "    broker_counts[(broker_counts <= 25) & (broker_counts >= 7)] = 1 # Brokers with between 7 and 25 are considered medium\n",
    "    broker_counts[(broker_counts > 25) & (broker_counts <= 50)] = 2 # Brokers between 25 and 50 are considered high\n",
    "    broker_counts[(broker_counts > 50)] = 3 # Brokers over 50 considered very high\n",
    "    \n",
    "    house_df[\"BROKER_ACTIVITY\"] = house_df[\"BROKERTITLE\"].map(broker_counts)\n",
    "    drop_column(\"BROKERTITLE\")\n",
    "\n",
    "# Output distribution of categories\n",
    "df = pd.DataFrame(house_df[\"BROKER_ACTIVITY\"].value_counts())\n",
    "df.reset_index(inplace=True)\n",
    "df.columns = [\"BROKER_ACTIVITY\", \"Number of Samples\"]\n",
    "df = df.sort_values(by=\"BROKER_ACTIVITY\")\n",
    "df[\"Activity Level\"] = ['Low', 'Medium', 'High', \"Very High\"]\n",
    "df = df[[\"Activity Level\", \"BROKER_ACTIVITY\", \"Number of Samples\"]]\n",
    "df"
   ]
  },
  {
   "cell_type": "markdown",
   "metadata": {},
   "source": [
    "Admittedly, the cutoff points of 7, 25, and 50 were somewhat arbitrary; however, we did try various values before finding ones that we were satisfied with the resulting class distribution. \n",
    "\n",
    "An alternative approach would have been to use values that perfectly divided the classes (or as close as possible), but we felt this was unecessary.\n",
    "\n",
    "Additionaly, it is worth noting that we had orignally used 3 categories, with cutoff points of 7 and 25. However, including a 4th category for Very High activity (over 50 properties) seemed to improve model performance."
   ]
  },
  {
   "cell_type": "markdown",
   "metadata": {},
   "source": [
    "#### Type"
   ]
  },
  {
   "cell_type": "code",
   "execution_count": 22,
   "metadata": {},
   "outputs": [
    {
     "data": {
      "text/html": [
       "<div>\n",
       "<style scoped>\n",
       "    .dataframe tbody tr th:only-of-type {\n",
       "        vertical-align: middle;\n",
       "    }\n",
       "\n",
       "    .dataframe tbody tr th {\n",
       "        vertical-align: top;\n",
       "    }\n",
       "\n",
       "    .dataframe thead th {\n",
       "        text-align: right;\n",
       "    }\n",
       "</style>\n",
       "<table border=\"1\" class=\"dataframe\">\n",
       "  <thead>\n",
       "    <tr style=\"text-align: right;\">\n",
       "      <th></th>\n",
       "      <th>TYPE</th>\n",
       "      <th>Proportion of Samples</th>\n",
       "    </tr>\n",
       "  </thead>\n",
       "  <tbody>\n",
       "    <tr>\n",
       "      <th>0</th>\n",
       "      <td>Co-op for sale</td>\n",
       "      <td>0.302</td>\n",
       "    </tr>\n",
       "    <tr>\n",
       "      <th>1</th>\n",
       "      <td>House for sale</td>\n",
       "      <td>0.211</td>\n",
       "    </tr>\n",
       "    <tr>\n",
       "      <th>2</th>\n",
       "      <td>Condo for sale</td>\n",
       "      <td>0.186</td>\n",
       "    </tr>\n",
       "    <tr>\n",
       "      <th>3</th>\n",
       "      <td>Multi-family home for sale</td>\n",
       "      <td>0.151</td>\n",
       "    </tr>\n",
       "    <tr>\n",
       "      <th>4</th>\n",
       "      <td>Townhouse for sale</td>\n",
       "      <td>0.062</td>\n",
       "    </tr>\n",
       "    <tr>\n",
       "      <th>5</th>\n",
       "      <td>Pending</td>\n",
       "      <td>0.051</td>\n",
       "    </tr>\n",
       "    <tr>\n",
       "      <th>6</th>\n",
       "      <td>Contingent</td>\n",
       "      <td>0.018</td>\n",
       "    </tr>\n",
       "    <tr>\n",
       "      <th>7</th>\n",
       "      <td>Land for sale</td>\n",
       "      <td>0.010</td>\n",
       "    </tr>\n",
       "    <tr>\n",
       "      <th>8</th>\n",
       "      <td>For sale</td>\n",
       "      <td>0.004</td>\n",
       "    </tr>\n",
       "    <tr>\n",
       "      <th>9</th>\n",
       "      <td>Foreclosure</td>\n",
       "      <td>0.003</td>\n",
       "    </tr>\n",
       "    <tr>\n",
       "      <th>10</th>\n",
       "      <td>Condop for sale</td>\n",
       "      <td>0.001</td>\n",
       "    </tr>\n",
       "    <tr>\n",
       "      <th>11</th>\n",
       "      <td>Coming Soon</td>\n",
       "      <td>0.000</td>\n",
       "    </tr>\n",
       "    <tr>\n",
       "      <th>12</th>\n",
       "      <td>Mobile house for sale</td>\n",
       "      <td>0.000</td>\n",
       "    </tr>\n",
       "  </tbody>\n",
       "</table>\n",
       "</div>"
      ],
      "text/plain": [
       "                          TYPE  Proportion of Samples\n",
       "0               Co-op for sale                  0.302\n",
       "1               House for sale                  0.211\n",
       "2               Condo for sale                  0.186\n",
       "3   Multi-family home for sale                  0.151\n",
       "4           Townhouse for sale                  0.062\n",
       "5                      Pending                  0.051\n",
       "6                   Contingent                  0.018\n",
       "7                Land for sale                  0.010\n",
       "8                     For sale                  0.004\n",
       "9                  Foreclosure                  0.003\n",
       "10             Condop for sale                  0.001\n",
       "11                 Coming Soon                  0.000\n",
       "12       Mobile house for sale                  0.000"
      ]
     },
     "execution_count": 22,
     "metadata": {},
     "output_type": "execute_result"
    }
   ],
   "source": [
    "type = house_df[\"TYPE\"]\n",
    "type_values = np.round(type.value_counts(normalize=True),3)\n",
    "df = type_values.reset_index()\n",
    "df.columns= [\"TYPE\", \"Proportion of Samples\"]\n",
    "df"
   ]
  },
  {
   "cell_type": "markdown",
   "metadata": {},
   "source": [
    "For TYPE, the cardinality isn't too high; however, there are some categories with an insuficcient number of samples. Condop for sale appears to be a typo, we will convert these to Condo for sale\n",
    "To handle this feature, I will group categories under the 1% threshold into a singular \"other\" category."
   ]
  },
  {
   "cell_type": "code",
   "execution_count": 23,
   "metadata": {},
   "outputs": [],
   "source": [
    "house_df.loc[house_df[\"TYPE\"] == \"Condop for sale\", \"TYPE\"] = \"Condo for sale\"\n",
    "group_rare_categories(column=\"TYPE\", cutoff=.01)"
   ]
  },
  {
   "cell_type": "markdown",
   "metadata": {},
   "source": [
    "#### ADDRESS, MAIN_ADDRESS, FORMATTED_ADDRESS"
   ]
  },
  {
   "cell_type": "markdown",
   "metadata": {},
   "source": [
    "Not only is there high multicolinearity between these features, but they are nearly unique to each observation, meaning there is nearly no predicitve power within these features. \n",
    "\n",
    "They may conatin useful information such as zip code or street name, but this information is also contained within other columns (which we will discuss later)\n",
    "\n",
    "For these reasons, we have decided to drop these features."
   ]
  },
  {
   "cell_type": "code",
   "execution_count": 24,
   "metadata": {},
   "outputs": [],
   "source": [
    "drop_column(\"ADDRESS\")\n",
    "drop_column(\"MAIN_ADDRESS\")\n",
    "drop_column(\"FORMATTED_ADDRESS\")"
   ]
  },
  {
   "cell_type": "markdown",
   "metadata": {},
   "source": [
    "#### LONG_NAME"
   ]
  },
  {
   "cell_type": "code",
   "execution_count": 25,
   "metadata": {},
   "outputs": [
    {
     "name": "stdout",
     "output_type": "stream",
     "text": [
      "2731  unique categories for LONG_NAME\n",
      "Number of Categories in LONG_NAME With at Least 1% of representative samples:  0\n"
     ]
    }
   ],
   "source": [
    "print(len(house_df[\"LONG_NAME\"].unique()), \" unique categories for LONG_NAME\")\n",
    "\n",
    "print(\"Number of Categories in LONG_NAME With at Least 1% of representative samples: \",(house_df[\"LONG_NAME\"].value_counts(normalize=True) > .01).sum())"
   ]
  },
  {
   "cell_type": "markdown",
   "metadata": {},
   "source": [
    "LONG_NAME has incredibly high cardinality. No categories are represented by at least 1% of the samples in the dataset. It will be dropped."
   ]
  },
  {
   "cell_type": "code",
   "execution_count": 26,
   "metadata": {},
   "outputs": [],
   "source": [
    "drop_column(\"LONG_NAME\")"
   ]
  },
  {
   "cell_type": "markdown",
   "metadata": {},
   "source": [
    "#### SUBLOCALITY"
   ]
  },
  {
   "cell_type": "code",
   "execution_count": 27,
   "metadata": {},
   "outputs": [
    {
     "name": "stdout",
     "output_type": "stream",
     "text": [
      "Unique Categories in SUBLOCALITY:  ['Manhattan', 'New York County', 'Richmond County', 'Kings County', 'New York', 'East Bronx', 'Brooklyn', 'The Bronx', 'Queens', 'Staten Island', 'Queens County', 'Bronx County', 'Coney Island', 'Brooklyn Heights', 'Jackson Heights', 'Riverdale', 'Rego Park', 'Fort Hamilton', 'Flushing', 'Dumbo', 'Snyder Avenue']\n",
      "\n",
      "Value Counts for the Top 20 Categories: \n"
     ]
    },
    {
     "data": {
      "text/html": [
       "<div>\n",
       "<style scoped>\n",
       "    .dataframe tbody tr th:only-of-type {\n",
       "        vertical-align: middle;\n",
       "    }\n",
       "\n",
       "    .dataframe tbody tr th {\n",
       "        vertical-align: top;\n",
       "    }\n",
       "\n",
       "    .dataframe thead th {\n",
       "        text-align: right;\n",
       "    }\n",
       "</style>\n",
       "<table border=\"1\" class=\"dataframe\">\n",
       "  <thead>\n",
       "    <tr style=\"text-align: right;\">\n",
       "      <th></th>\n",
       "      <th>SUBLOCALITY</th>\n",
       "      <th>Number of Samples</th>\n",
       "    </tr>\n",
       "  </thead>\n",
       "  <tbody>\n",
       "    <tr>\n",
       "      <th>0</th>\n",
       "      <td>New York</td>\n",
       "      <td>1016</td>\n",
       "    </tr>\n",
       "    <tr>\n",
       "      <th>1</th>\n",
       "      <td>Kings County</td>\n",
       "      <td>727</td>\n",
       "    </tr>\n",
       "    <tr>\n",
       "      <th>2</th>\n",
       "      <td>Queens County</td>\n",
       "      <td>684</td>\n",
       "    </tr>\n",
       "    <tr>\n",
       "      <th>3</th>\n",
       "      <td>Queens</td>\n",
       "      <td>555</td>\n",
       "    </tr>\n",
       "    <tr>\n",
       "      <th>4</th>\n",
       "      <td>Richmond County</td>\n",
       "      <td>479</td>\n",
       "    </tr>\n",
       "    <tr>\n",
       "      <th>...</th>\n",
       "      <td>...</td>\n",
       "      <td>...</td>\n",
       "    </tr>\n",
       "    <tr>\n",
       "      <th>15</th>\n",
       "      <td>Brooklyn Heights</td>\n",
       "      <td>1</td>\n",
       "    </tr>\n",
       "    <tr>\n",
       "      <th>16</th>\n",
       "      <td>Jackson Heights</td>\n",
       "      <td>1</td>\n",
       "    </tr>\n",
       "    <tr>\n",
       "      <th>17</th>\n",
       "      <td>Rego Park</td>\n",
       "      <td>1</td>\n",
       "    </tr>\n",
       "    <tr>\n",
       "      <th>18</th>\n",
       "      <td>Fort Hamilton</td>\n",
       "      <td>1</td>\n",
       "    </tr>\n",
       "    <tr>\n",
       "      <th>19</th>\n",
       "      <td>Dumbo</td>\n",
       "      <td>1</td>\n",
       "    </tr>\n",
       "  </tbody>\n",
       "</table>\n",
       "<p>20 rows × 2 columns</p>\n",
       "</div>"
      ],
      "text/plain": [
       "         SUBLOCALITY  Number of Samples\n",
       "0           New York               1016\n",
       "1       Kings County                727\n",
       "2      Queens County                684\n",
       "3             Queens                555\n",
       "4    Richmond County                479\n",
       "..               ...                ...\n",
       "15  Brooklyn Heights                  1\n",
       "16   Jackson Heights                  1\n",
       "17         Rego Park                  1\n",
       "18     Fort Hamilton                  1\n",
       "19             Dumbo                  1\n",
       "\n",
       "[20 rows x 2 columns]"
      ]
     },
     "execution_count": 27,
     "metadata": {},
     "output_type": "execute_result"
    }
   ],
   "source": [
    "print(\"Unique Categories in SUBLOCALITY: \", list(house_df[\"SUBLOCALITY\"].unique()))\n",
    "counts = house_df[\"SUBLOCALITY\"].value_counts().head(20)\n",
    "print(\"\\nValue Counts for the Top 20 Categories: \")\n",
    "df = counts.reset_index()\n",
    "df.columns= [\"SUBLOCALITY\", \"Number of Samples\"]\n",
    "df"
   ]
  },
  {
   "cell_type": "markdown",
   "metadata": {},
   "source": [
    "SUBLOCALITY contains information on the boroughs and neighborhoods in NYC. I like this concept, especially the bouroughs, as this could capture some information about the socioeconomic status of the broad region of a property. However, after reviewing LONG_NAME and STATE_NAME I am concerned about the overall reliability of this feature and the mix of neighborhoods and bouroughs. \n",
    "\n",
    "I will drop this feature and instead use feature engineering from the zip-code to create a feature for bourough. "
   ]
  },
  {
   "cell_type": "code",
   "execution_count": 28,
   "metadata": {},
   "outputs": [],
   "source": [
    "drop_column(\"SUBLOCALITY\")"
   ]
  },
  {
   "cell_type": "markdown",
   "metadata": {},
   "source": [
    "#### LOCALITY"
   ]
  },
  {
   "cell_type": "code",
   "execution_count": 29,
   "metadata": {},
   "outputs": [
    {
     "name": "stdout",
     "output_type": "stream",
     "text": [
      "Unique Categories in LOCALITY:  ['New York', 'New York County', 'The Bronx', 'Kings County', 'Bronx County', 'Queens County', 'Richmond County', 'United States', 'Brooklyn', 'Queens', 'Flatbush']\n"
     ]
    }
   ],
   "source": [
    "print(\"Unique Categories in LOCALITY: \", list(house_df[\"LOCALITY\"].unique()))\n"
   ]
  },
  {
   "cell_type": "markdown",
   "metadata": {},
   "source": [
    "Dropping this column for the same reason as SUBLOCALITY"
   ]
  },
  {
   "cell_type": "code",
   "execution_count": 30,
   "metadata": {},
   "outputs": [],
   "source": [
    "drop_column(\"LOCALITY\")"
   ]
  },
  {
   "cell_type": "markdown",
   "metadata": {},
   "source": [
    "#### STATE"
   ]
  },
  {
   "cell_type": "code",
   "execution_count": 31,
   "metadata": {},
   "outputs": [
    {
     "name": "stdout",
     "output_type": "stream",
     "text": [
      "307  unique categories for STATE\n",
      "\n",
      "First Five State Entries: \n"
     ]
    },
    {
     "data": {
      "text/plain": [
       "0         New York, NY 10022\n",
       "1         New York, NY 10019\n",
       "2    Staten Island, NY 10312\n",
       "3        Manhattan, NY 10022\n",
       "4         New York, NY 10065\n",
       "Name: STATE, dtype: object"
      ]
     },
     "execution_count": 31,
     "metadata": {},
     "output_type": "execute_result"
    }
   ],
   "source": [
    "state = house_df[\"STATE\"]\n",
    "print(len(state.unique()), \" unique categories for STATE\")\n",
    "print(\"\\nFirst Five State Entries: \")\n",
    "state.head()"
   ]
  },
  {
   "cell_type": "markdown",
   "metadata": {},
   "source": [
    "STATE is a feature with high cardinality. It also appears that the end of each STATE string is the zip code. Let's focus on this part for now..."
   ]
  },
  {
   "cell_type": "code",
   "execution_count": 32,
   "metadata": {},
   "outputs": [
    {
     "name": "stdout",
     "output_type": "stream",
     "text": [
      "178 uniqe zip-code categories\n",
      "30  zip-codes have at least 1% of total samples\n"
     ]
    }
   ],
   "source": [
    "# Replace STATE Feature with extracted ZIP_CODE feature\n",
    "house_df[\"zip\"] = state.apply(lambda x: x.split()[-1])\n",
    "print(len(house_df[\"zip\"].unique()), \"uniqe zip-code categories\")\n",
    "\n",
    "zip_values = house_df[\"zip\"].value_counts(normalize=True)\n",
    "print((zip_values > .01).sum(), \" zip-codes have at least 1% of total samples\")"
   ]
  },
  {
   "cell_type": "markdown",
   "metadata": {},
   "source": [
    "The zip-code may contain valuable information regarding price. First, we will map the zip-codes into the bouroughs of NYC they belong in."
   ]
  },
  {
   "cell_type": "code",
   "execution_count": 33,
   "metadata": {},
   "outputs": [
    {
     "data": {
      "text/html": [
       "<div>\n",
       "<style scoped>\n",
       "    .dataframe tbody tr th:only-of-type {\n",
       "        vertical-align: middle;\n",
       "    }\n",
       "\n",
       "    .dataframe tbody tr th {\n",
       "        vertical-align: top;\n",
       "    }\n",
       "\n",
       "    .dataframe thead th {\n",
       "        text-align: right;\n",
       "    }\n",
       "</style>\n",
       "<table border=\"1\" class=\"dataframe\">\n",
       "  <thead>\n",
       "    <tr style=\"text-align: right;\">\n",
       "      <th></th>\n",
       "      <th>zip</th>\n",
       "      <th>borough</th>\n",
       "    </tr>\n",
       "  </thead>\n",
       "  <tbody>\n",
       "    <tr>\n",
       "      <th>0</th>\n",
       "      <td>10001</td>\n",
       "      <td>Manhattan</td>\n",
       "    </tr>\n",
       "    <tr>\n",
       "      <th>1</th>\n",
       "      <td>10002</td>\n",
       "      <td>Manhattan</td>\n",
       "    </tr>\n",
       "    <tr>\n",
       "      <th>2</th>\n",
       "      <td>10003</td>\n",
       "      <td>Manhattan</td>\n",
       "    </tr>\n",
       "  </tbody>\n",
       "</table>\n",
       "</div>"
      ],
      "text/plain": [
       "     zip    borough\n",
       "0  10001  Manhattan\n",
       "1  10002  Manhattan\n",
       "2  10003  Manhattan"
      ]
     },
     "execution_count": 33,
     "metadata": {},
     "output_type": "execute_result"
    }
   ],
   "source": [
    "# Load in a mapping from zip code to bourough\n",
    "zip_borough_df = pd.read_csv(\"data/zip_borough.csv\")\n",
    "zip_borough_df[\"zip\"] = zip_borough_df[\"zip\"].astype(str)\n",
    "zip_borough_df.head(3)"
   ]
  },
  {
   "cell_type": "code",
   "execution_count": 34,
   "metadata": {},
   "outputs": [
    {
     "data": {
      "image/png": "[encoded data removed]",
      "text/plain": [
       "<Figure size 640x480 with 1 Axes>"
      ]
     },
     "metadata": {},
     "output_type": "display_data"
    }
   ],
   "source": [
    "if 'BOROUGH' not in house_df.columns:\n",
    "    house_df = house_df.merge(zip_borough_df, on=\"zip\", how='left')\n",
    "    house_df['BOROUGH'] = house_df['borough'].fillna('Other')\n",
    "    drop_column('borough')\n",
    "    drop_column(\"STATE\")\n",
    "    house_df = house_df.rename(columns={'zip':'ZIP'})\n",
    "    \n",
    "# Plot the resulting distribution   \n",
    "borough_counts = house_df['BOROUGH'].value_counts()\n",
    "borough_counts.plot(kind='bar')\n",
    "plt.xlabel('Borough')\n",
    "plt.ylabel(\"Number of Examples\")\n",
    "plt.title(\"Number of Examples Grouped By Borough\");"
   ]
  },
  {
   "cell_type": "markdown",
   "metadata": {},
   "source": [
    "After some experimentation, we found that Zip Code is also a valuable feature to include. However, to overcome the sparsity, we will group zip codes that have fewer than 1% of representative samples into an \"other\" category, similair to how we handled the TYPE feature."
   ]
  },
  {
   "cell_type": "code",
   "execution_count": 35,
   "metadata": {},
   "outputs": [],
   "source": [
    "group_rare_categories(column=\"ZIP\", cutoff=.01)"
   ]
  },
  {
   "cell_type": "markdown",
   "metadata": {},
   "source": [
    "#### STREET_NAME"
   ]
  },
  {
   "cell_type": "code",
   "execution_count": 36,
   "metadata": {},
   "outputs": [
    {
     "name": "stdout",
     "output_type": "stream",
     "text": [
      "174  unique categories for STREET_NAME\n",
      "\n",
      "10 Most Common Categories for STREET_NAME: \n"
     ]
    },
    {
     "data": {
      "text/plain": [
       "STREET_NAME\n",
       "Manhattan          0.203958\n",
       "Brooklyn           0.151458\n",
       "Queens             0.142500\n",
       "Staten Island      0.099792\n",
       "The Bronx          0.064583\n",
       "New York           0.059375\n",
       "Flushing           0.028958\n",
       "Forest Hills       0.012917\n",
       "Bayside            0.008750\n",
       "Jackson Heights    0.008750\n",
       "Name: proportion, dtype: float64"
      ]
     },
     "execution_count": 36,
     "metadata": {},
     "output_type": "execute_result"
    }
   ],
   "source": [
    "print(len(house_df[\"STREET_NAME\"].unique()), \" unique categories for STREET_NAME\")\n",
    "print(\"\\n10 Most Common Categories for STREET_NAME: \")\n",
    "house_df[\"STREET_NAME\"].value_counts(normalize=True).head(10)"
   ]
  },
  {
   "cell_type": "markdown",
   "metadata": {},
   "source": [
    "It appears that STREET_NAME was extracted as the second token in the formatted address. Unfortunately, this seems to be an unreliable method to extract the street name and it instead appears to be a mix of street name, county, and state information.\n",
    "\n",
    "At first, I thought this feature would be useless, but I decided to experiment with including it as a categorical feature and found that it was mostly redundant to the BOROUGH feature; however, the category \"New York\" was ranked third in feature importance on a preliminary random forest model. I will transform this column into a binary indicator for \"New York\"."
   ]
  },
  {
   "cell_type": "code",
   "execution_count": 37,
   "metadata": {},
   "outputs": [],
   "source": [
    "house_df[\"NEW_YORK_INDICATOR\"] = (house_df[\"STREET_NAME\"] == \"New York\").astype(int)\n",
    "drop_column(\"STREET_NAME\")"
   ]
  },
  {
   "cell_type": "markdown",
   "metadata": {},
   "source": [
    "#### ADMINISTRATIVE_AREA_LEVEL_2"
   ]
  },
  {
   "cell_type": "code",
   "execution_count": 38,
   "metadata": {},
   "outputs": [
    {
     "data": {
      "text/plain": [
       "array(['New York County', 'United States', 'New York', 'Bronx County',\n",
       "       '11214', '10301', '10309', '10303', '11234', '11414', '10310',\n",
       "       '10003', '11417', '10304', 'Kings County', '10463',\n",
       "       'Queens County', '10017', '10306', '10471', '11229', '10312',\n",
       "       '11412', '10465', 'Brooklyn', '10002', '10466', '11237', '11218'],\n",
       "      dtype=object)"
      ]
     },
     "execution_count": 38,
     "metadata": {},
     "output_type": "execute_result"
    }
   ],
   "source": [
    "house_df[\"ADMINISTRATIVE_AREA_LEVEL_2\"].unique()"
   ]
  },
  {
   "cell_type": "markdown",
   "metadata": {},
   "source": [
    "This feature appears to be a mixture of zip-code, county, state, and country values. It appears to be unreliable and contains information already captured elsewhere, such as bourough. We will drop this feature."
   ]
  },
  {
   "cell_type": "code",
   "execution_count": 39,
   "metadata": {},
   "outputs": [],
   "source": [
    "drop_column(\"ADMINISTRATIVE_AREA_LEVEL_2\")"
   ]
  },
  {
   "cell_type": "code",
   "execution_count": 40,
   "metadata": {},
   "outputs": [
    {
     "name": "stdout",
     "output_type": "stream",
     "text": [
      "12 total features after data processing\n",
      "4800 total examples\n"
     ]
    },
    {
     "data": {
      "text/html": [
       "<div>\n",
       "<style scoped>\n",
       "    .dataframe tbody tr th:only-of-type {\n",
       "        vertical-align: middle;\n",
       "    }\n",
       "\n",
       "    .dataframe tbody tr th {\n",
       "        vertical-align: top;\n",
       "    }\n",
       "\n",
       "    .dataframe thead th {\n",
       "        text-align: right;\n",
       "    }\n",
       "</style>\n",
       "<table border=\"1\" class=\"dataframe\">\n",
       "  <thead>\n",
       "    <tr style=\"text-align: right;\">\n",
       "      <th></th>\n",
       "      <th>PRICE</th>\n",
       "      <th>BEDS</th>\n",
       "      <th>BATH</th>\n",
       "      <th>PROPERTYSQFT</th>\n",
       "      <th>LATITUDE</th>\n",
       "      <th>LONGITUDE</th>\n",
       "      <th>NEAREST_SUB_STATION</th>\n",
       "      <th>BROKER_ACTIVITY</th>\n",
       "      <th>NEW_YORK_INDICATOR</th>\n",
       "    </tr>\n",
       "  </thead>\n",
       "  <tbody>\n",
       "    <tr>\n",
       "      <th>count</th>\n",
       "      <td>4.800000e+03</td>\n",
       "      <td>4800.000000</td>\n",
       "      <td>4498.000000</td>\n",
       "      <td>3179.000000</td>\n",
       "      <td>4800.000000</td>\n",
       "      <td>4800.000000</td>\n",
       "      <td>4800.000000</td>\n",
       "      <td>4800.000000</td>\n",
       "      <td>4800.000000</td>\n",
       "    </tr>\n",
       "    <tr>\n",
       "      <th>mean</th>\n",
       "      <td>1.910039e+06</td>\n",
       "      <td>3.356042</td>\n",
       "      <td>2.373055</td>\n",
       "      <td>2181.749292</td>\n",
       "      <td>40.714268</td>\n",
       "      <td>-73.941542</td>\n",
       "      <td>0.687356</td>\n",
       "      <td>1.269375</td>\n",
       "      <td>0.059375</td>\n",
       "    </tr>\n",
       "    <tr>\n",
       "      <th>std</th>\n",
       "      <td>4.929167e+06</td>\n",
       "      <td>2.602054</td>\n",
       "      <td>2.010757</td>\n",
       "      <td>2918.158281</td>\n",
       "      <td>0.087639</td>\n",
       "      <td>0.101011</td>\n",
       "      <td>0.928088</td>\n",
       "      <td>1.173321</td>\n",
       "      <td>0.236350</td>\n",
       "    </tr>\n",
       "    <tr>\n",
       "      <th>min</th>\n",
       "      <td>2.494000e+03</td>\n",
       "      <td>1.000000</td>\n",
       "      <td>0.000000</td>\n",
       "      <td>230.000000</td>\n",
       "      <td>40.499546</td>\n",
       "      <td>-74.253033</td>\n",
       "      <td>0.011592</td>\n",
       "      <td>0.000000</td>\n",
       "      <td>0.000000</td>\n",
       "    </tr>\n",
       "    <tr>\n",
       "      <th>25%</th>\n",
       "      <td>4.990000e+05</td>\n",
       "      <td>2.000000</td>\n",
       "      <td>1.000000</td>\n",
       "      <td>955.000000</td>\n",
       "      <td>40.639512</td>\n",
       "      <td>-73.987143</td>\n",
       "      <td>0.174697</td>\n",
       "      <td>0.000000</td>\n",
       "      <td>0.000000</td>\n",
       "    </tr>\n",
       "    <tr>\n",
       "      <th>50%</th>\n",
       "      <td>8.250000e+05</td>\n",
       "      <td>3.000000</td>\n",
       "      <td>2.000000</td>\n",
       "      <td>1500.000000</td>\n",
       "      <td>40.726756</td>\n",
       "      <td>-73.949182</td>\n",
       "      <td>0.309017</td>\n",
       "      <td>1.000000</td>\n",
       "      <td>0.000000</td>\n",
       "    </tr>\n",
       "    <tr>\n",
       "      <th>75%</th>\n",
       "      <td>1.495000e+06</td>\n",
       "      <td>4.000000</td>\n",
       "      <td>3.000000</td>\n",
       "      <td>2451.500000</td>\n",
       "      <td>40.771924</td>\n",
       "      <td>-73.870638</td>\n",
       "      <td>0.723498</td>\n",
       "      <td>2.000000</td>\n",
       "      <td>0.000000</td>\n",
       "    </tr>\n",
       "    <tr>\n",
       "      <th>max</th>\n",
       "      <td>1.950000e+08</td>\n",
       "      <td>50.000000</td>\n",
       "      <td>50.000000</td>\n",
       "      <td>65535.000000</td>\n",
       "      <td>40.912729</td>\n",
       "      <td>-73.702450</td>\n",
       "      <td>5.514339</td>\n",
       "      <td>3.000000</td>\n",
       "      <td>1.000000</td>\n",
       "    </tr>\n",
       "  </tbody>\n",
       "</table>\n",
       "</div>"
      ],
      "text/plain": [
       "              PRICE         BEDS         BATH  PROPERTYSQFT     LATITUDE  \\\n",
       "count  4.800000e+03  4800.000000  4498.000000   3179.000000  4800.000000   \n",
       "mean   1.910039e+06     3.356042     2.373055   2181.749292    40.714268   \n",
       "std    4.929167e+06     2.602054     2.010757   2918.158281     0.087639   \n",
       "min    2.494000e+03     1.000000     0.000000    230.000000    40.499546   \n",
       "25%    4.990000e+05     2.000000     1.000000    955.000000    40.639512   \n",
       "50%    8.250000e+05     3.000000     2.000000   1500.000000    40.726756   \n",
       "75%    1.495000e+06     4.000000     3.000000   2451.500000    40.771924   \n",
       "max    1.950000e+08    50.000000    50.000000  65535.000000    40.912729   \n",
       "\n",
       "         LONGITUDE  NEAREST_SUB_STATION  BROKER_ACTIVITY  NEW_YORK_INDICATOR  \n",
       "count  4800.000000          4800.000000      4800.000000         4800.000000  \n",
       "mean    -73.941542             0.687356         1.269375            0.059375  \n",
       "std       0.101011             0.928088         1.173321            0.236350  \n",
       "min     -74.253033             0.011592         0.000000            0.000000  \n",
       "25%     -73.987143             0.174697         0.000000            0.000000  \n",
       "50%     -73.949182             0.309017         1.000000            0.000000  \n",
       "75%     -73.870638             0.723498         2.000000            0.000000  \n",
       "max     -73.702450             5.514339         3.000000            1.000000  "
      ]
     },
     "execution_count": 40,
     "metadata": {},
     "output_type": "execute_result"
    }
   ],
   "source": [
    "print(len(list(house_df.columns)), \"total features after data processing\")\n",
    "print(len(house_df), \"total examples\")\n",
    "\n",
    "house_df.describe()"
   ]
  },
  {
   "cell_type": "markdown",
   "metadata": {},
   "source": [
    "### Encoding Categorical Variables \n",
    "\n"
   ]
  },
  {
   "cell_type": "markdown",
   "metadata": {},
   "source": [
    "#### One Hot Encoding\n",
    "\n",
    "The ordinal categorical variables, BOROUGH, ZIP,  and TYPE need to be encoded with OneHotEncoding"
   ]
  },
  {
   "cell_type": "code",
   "execution_count": 41,
   "metadata": {},
   "outputs": [
    {
     "name": "stdout",
     "output_type": "stream",
     "text": [
      "52 total features after encoding.\n"
     ]
    }
   ],
   "source": [
    "categorical_columns = [\"TYPE\", \"BOROUGH\",\"ZIP\"]\n",
    "\n",
    "if categorical_columns[0] in house_df.columns: # Prevent code from running twice\n",
    "    house_df = pd.get_dummies(house_df, columns=categorical_columns)\n",
    "\n",
    "    # Use k-1 encoding to prevent multicolinearity\n",
    "    for column in categorical_columns:\n",
    "        drop_column(column+\"_Other\")\n",
    "\n",
    "print(house_df.shape[1], \"total features after encoding.\")"
   ]
  },
  {
   "cell_type": "markdown",
   "metadata": {},
   "source": [
    "# Part 2: Model Training"
   ]
  },
  {
   "cell_type": "code",
   "execution_count": 42,
   "metadata": {},
   "outputs": [],
   "source": [
    "from sklearn.model_selection import train_test_split, GridSearchCV\n",
    "from sklearn.preprocessing import OneHotEncoder\n",
    "from sklearn.preprocessing import StandardScaler\n",
    "from sklearn.impute import SimpleImputer, KNNImputer\n",
    "from sklearn.compose import ColumnTransformer\n",
    "from sklearn.pipeline import Pipeline\n",
    "\n",
    "\n",
    "from sklearn.svm import SVR\n",
    "from sklearn.neighbors import KNeighborsRegressor\n",
    "from sklearn.ensemble import RandomForestRegressor\n",
    "from sklearn.metrics import mean_squared_error, mean_absolute_error, median_absolute_error"
   ]
  },
  {
   "cell_type": "code",
   "execution_count": 43,
   "metadata": {},
   "outputs": [],
   "source": [
    "def print_and_track_metrics(y_pred, y_actual):\n",
    "    mae = mean_absolute_error(y_actual, y_pred)\n",
    "    mse = mean_squared_error(y_actual,y_pred)\n",
    "    medae = median_absolute_error(y_actual, y_pred)\n",
    "\n",
    "    print(\"Mean Squared Error: \", np.round(mse,2))\n",
    "    print(\"Root Mean Squared Error: \", np.round(np.sqrt(mse),2))\n",
    "    print(\"Mean Absolute Error: \", np.round(mae,2))\n",
    "    print(\"Median Absolute Error: \", np.round(medae,2))"
   ]
  },
  {
   "cell_type": "markdown",
   "metadata": {},
   "source": [
    "### TODO : Baseline Models"
   ]
  },
  {
   "cell_type": "code",
   "execution_count": 44,
   "metadata": {},
   "outputs": [
    {
     "name": "stdout",
     "output_type": "stream",
     "text": [
      "Mean Squared Error:  17499712732957.4\n",
      "Root Mean Squared Error:  4183265.8\n",
      "Mean Absolute Error:  1693932.77\n",
      "Median Absolute Error:  1126184.14\n"
     ]
    }
   ],
   "source": [
    "X = house_df.drop(\"PRICE\", axis=1)\n",
    "y = house_df[\"PRICE\"]\n",
    "\n",
    "X_train, X_test, y_train, y_test = train_test_split(X, y, test_size=0.3, random_state=42)\n",
    "\n",
    "y_pred_naive = np.full(y_test.shape, np.mean(y_test))\n",
    "\n",
    "print_and_track_metrics(y_pred_naive, y_test)\n"
   ]
  },
  {
   "cell_type": "markdown",
   "metadata": {},
   "source": [
    "### KNearest Neighbor Regression"
   ]
  },
  {
   "cell_type": "code",
   "execution_count": 45,
   "metadata": {},
   "outputs": [
    {
     "name": "stdout",
     "output_type": "stream",
     "text": [
      "Mean Squared Error:  26299822034346.85\n",
      "Root Mean Squared Error:  5128335.21\n",
      "Mean Absolute Error:  1242160.87\n",
      "Median Absolute Error:  262249.31\n"
     ]
    }
   ],
   "source": [
    "X = house_df.drop('PRICE', axis=1)\n",
    "y = house_df['PRICE']\n",
    "\n",
    "imputer = SimpleImputer(strategy='median')\n",
    "X[\"BATH\"] = imputer.fit_transform(X[[\"BATH\"]])\n",
    "X[\"PROPERTYSQFT\"] = imputer.fit_transform(X[[\"PROPERTYSQFT\"]])\n",
    "\n",
    "X_train, X_test, y_train, y_test = train_test_split(X, y, test_size=0.3, random_state=42)\n",
    "\n",
    "\n",
    "knn = KNeighborsRegressor(n_neighbors=3, weights='distance')\n",
    "\n",
    "knn.fit(X_train, y_train)\n",
    "y_pred_knn = knn.predict(X_test)\n",
    "\n",
    "print_and_track_metrics(y_pred_knn, y_test)\n"
   ]
  },
  {
   "cell_type": "markdown",
   "metadata": {},
   "source": [
    "##### KNearest Neighbor Regression Hyper Parameter Optimization"
   ]
  },
  {
   "cell_type": "code",
   "execution_count": null,
   "metadata": {},
   "outputs": [],
   "source": [
    "param_grid = {\n",
    "    'n_neighbors': [1, 3, 5, 7, 10],\n",
    "    'weights': ['uniform', 'distance'],\n",
    "    'metric': ['euclidean', 'manhattan']\n",
    "}\n",
    "\n",
    "grid_search = GridSearchCV(\n",
    "    \n",
    ")"
   ]
  },
  {
   "cell_type": "markdown",
   "metadata": {},
   "source": [
    "### Random-Forest Regression"
   ]
  },
  {
   "cell_type": "code",
   "execution_count": 43,
   "metadata": {},
   "outputs": [
    {
     "data": {
      "text/html": [
       "<div>\n",
       "<style scoped>\n",
       "    .dataframe tbody tr th:only-of-type {\n",
       "        vertical-align: middle;\n",
       "    }\n",
       "\n",
       "    .dataframe tbody tr th {\n",
       "        vertical-align: top;\n",
       "    }\n",
       "\n",
       "    .dataframe thead th {\n",
       "        text-align: right;\n",
       "    }\n",
       "</style>\n",
       "<table border=\"1\" class=\"dataframe\">\n",
       "  <thead>\n",
       "    <tr style=\"text-align: right;\">\n",
       "      <th></th>\n",
       "      <th>BEDS</th>\n",
       "      <th>BATH</th>\n",
       "      <th>PROPERTYSQFT</th>\n",
       "      <th>LATITUDE</th>\n",
       "      <th>LONGITUDE</th>\n",
       "      <th>NEAREST_SUB_STATION</th>\n",
       "      <th>BROKER_ACTIVITY</th>\n",
       "      <th>NEW_YORK_INDICATOR</th>\n",
       "      <th>TYPE_Co-op for sale</th>\n",
       "      <th>TYPE_Condo for sale</th>\n",
       "      <th>...</th>\n",
       "      <th>ZIP_11201</th>\n",
       "      <th>ZIP_11209</th>\n",
       "      <th>ZIP_11215</th>\n",
       "      <th>ZIP_11229</th>\n",
       "      <th>ZIP_11234</th>\n",
       "      <th>ZIP_11235</th>\n",
       "      <th>ZIP_11360</th>\n",
       "      <th>ZIP_11372</th>\n",
       "      <th>ZIP_11374</th>\n",
       "      <th>ZIP_11375</th>\n",
       "    </tr>\n",
       "  </thead>\n",
       "  <tbody>\n",
       "    <tr>\n",
       "      <th>0</th>\n",
       "      <td>2</td>\n",
       "      <td>2.0</td>\n",
       "      <td>1400.0</td>\n",
       "      <td>40.761255</td>\n",
       "      <td>-73.974483</td>\n",
       "      <td>0.084535</td>\n",
       "      <td>2</td>\n",
       "      <td>0</td>\n",
       "      <td>0</td>\n",
       "      <td>1</td>\n",
       "      <td>...</td>\n",
       "      <td>0</td>\n",
       "      <td>0</td>\n",
       "      <td>0</td>\n",
       "      <td>0</td>\n",
       "      <td>0</td>\n",
       "      <td>0</td>\n",
       "      <td>0</td>\n",
       "      <td>0</td>\n",
       "      <td>0</td>\n",
       "      <td>0</td>\n",
       "    </tr>\n",
       "    <tr>\n",
       "      <th>1</th>\n",
       "      <td>7</td>\n",
       "      <td>10.0</td>\n",
       "      <td>17545.0</td>\n",
       "      <td>40.766393</td>\n",
       "      <td>-73.980991</td>\n",
       "      <td>0.120612</td>\n",
       "      <td>3</td>\n",
       "      <td>1</td>\n",
       "      <td>0</td>\n",
       "      <td>1</td>\n",
       "      <td>...</td>\n",
       "      <td>0</td>\n",
       "      <td>0</td>\n",
       "      <td>0</td>\n",
       "      <td>0</td>\n",
       "      <td>0</td>\n",
       "      <td>0</td>\n",
       "      <td>0</td>\n",
       "      <td>0</td>\n",
       "      <td>0</td>\n",
       "      <td>0</td>\n",
       "    </tr>\n",
       "    <tr>\n",
       "      <th>2</th>\n",
       "      <td>4</td>\n",
       "      <td>2.0</td>\n",
       "      <td>2015.0</td>\n",
       "      <td>40.541805</td>\n",
       "      <td>-74.196109</td>\n",
       "      <td>0.605279</td>\n",
       "      <td>2</td>\n",
       "      <td>0</td>\n",
       "      <td>0</td>\n",
       "      <td>0</td>\n",
       "      <td>...</td>\n",
       "      <td>0</td>\n",
       "      <td>0</td>\n",
       "      <td>0</td>\n",
       "      <td>0</td>\n",
       "      <td>0</td>\n",
       "      <td>0</td>\n",
       "      <td>0</td>\n",
       "      <td>0</td>\n",
       "      <td>0</td>\n",
       "      <td>0</td>\n",
       "    </tr>\n",
       "    <tr>\n",
       "      <th>3</th>\n",
       "      <td>3</td>\n",
       "      <td>1.0</td>\n",
       "      <td>445.0</td>\n",
       "      <td>40.761398</td>\n",
       "      <td>-73.974613</td>\n",
       "      <td>0.090788</td>\n",
       "      <td>3</td>\n",
       "      <td>1</td>\n",
       "      <td>0</td>\n",
       "      <td>1</td>\n",
       "      <td>...</td>\n",
       "      <td>0</td>\n",
       "      <td>0</td>\n",
       "      <td>0</td>\n",
       "      <td>0</td>\n",
       "      <td>0</td>\n",
       "      <td>0</td>\n",
       "      <td>0</td>\n",
       "      <td>0</td>\n",
       "      <td>0</td>\n",
       "      <td>0</td>\n",
       "    </tr>\n",
       "    <tr>\n",
       "      <th>4</th>\n",
       "      <td>7</td>\n",
       "      <td>2.0</td>\n",
       "      <td>14175.0</td>\n",
       "      <td>40.767224</td>\n",
       "      <td>-73.969856</td>\n",
       "      <td>0.247496</td>\n",
       "      <td>3</td>\n",
       "      <td>1</td>\n",
       "      <td>0</td>\n",
       "      <td>0</td>\n",
       "      <td>...</td>\n",
       "      <td>0</td>\n",
       "      <td>0</td>\n",
       "      <td>0</td>\n",
       "      <td>0</td>\n",
       "      <td>0</td>\n",
       "      <td>0</td>\n",
       "      <td>0</td>\n",
       "      <td>0</td>\n",
       "      <td>0</td>\n",
       "      <td>0</td>\n",
       "    </tr>\n",
       "  </tbody>\n",
       "</table>\n",
       "<p>5 rows × 51 columns</p>\n",
       "</div>"
      ],
      "text/plain": [
       "   BEDS  BATH  PROPERTYSQFT   LATITUDE  LONGITUDE  NEAREST_SUB_STATION  \\\n",
       "0     2   2.0        1400.0  40.761255 -73.974483             0.084535   \n",
       "1     7  10.0       17545.0  40.766393 -73.980991             0.120612   \n",
       "2     4   2.0        2015.0  40.541805 -74.196109             0.605279   \n",
       "3     3   1.0         445.0  40.761398 -73.974613             0.090788   \n",
       "4     7   2.0       14175.0  40.767224 -73.969856             0.247496   \n",
       "\n",
       "   BROKER_ACTIVITY  NEW_YORK_INDICATOR  TYPE_Co-op for sale  \\\n",
       "0                2                   0                    0   \n",
       "1                3                   1                    0   \n",
       "2                2                   0                    0   \n",
       "3                3                   1                    0   \n",
       "4                3                   1                    0   \n",
       "\n",
       "   TYPE_Condo for sale  ...  ZIP_11201  ZIP_11209  ZIP_11215  ZIP_11229  \\\n",
       "0                    1  ...          0          0          0          0   \n",
       "1                    1  ...          0          0          0          0   \n",
       "2                    0  ...          0          0          0          0   \n",
       "3                    1  ...          0          0          0          0   \n",
       "4                    0  ...          0          0          0          0   \n",
       "\n",
       "   ZIP_11234  ZIP_11235  ZIP_11360  ZIP_11372  ZIP_11374  ZIP_11375  \n",
       "0          0          0          0          0          0          0  \n",
       "1          0          0          0          0          0          0  \n",
       "2          0          0          0          0          0          0  \n",
       "3          0          0          0          0          0          0  \n",
       "4          0          0          0          0          0          0  \n",
       "\n",
       "[5 rows x 51 columns]"
      ]
     },
     "execution_count": 43,
     "metadata": {},
     "output_type": "execute_result"
    }
   ],
   "source": [
    "X = house_df.drop(\"PRICE\", axis=1)\n",
    "y = house_df[\"PRICE\"]\n",
    "\n",
    "imputer = SimpleImputer(strategy='median')\n",
    "# imputer = KNNImputer(n_neighbors=5)\n",
    "X[\"BATH\"] = imputer.fit_transform(X[[\"BATH\"]])\n",
    "X[\"PROPERTYSQFT\"] = imputer.fit_transform(X[[\"PROPERTYSQFT\"]])\n",
    "# rf_impute(X, \"PROPERTYSQFT\")\n",
    "\n",
    "\n",
    "X_train, X_test, y_train, y_test = train_test_split(X, y, test_size=0.3, random_state=42)\n",
    "\n",
    "\n",
    "X.head()"
   ]
  },
  {
   "cell_type": "code",
   "execution_count": 44,
   "metadata": {},
   "outputs": [
    {
     "name": "stdout",
     "output_type": "stream",
     "text": [
      "Mean Squared Error:  5552044929975.59\n",
      "Root Mean Squared Error:  2356277.77\n",
      "Mean Absolute Error:  643485.17\n",
      "Median Absolute Error:  148122.23\n"
     ]
    }
   ],
   "source": [
    "rf = RandomForestRegressor(n_estimators=100)\n",
    "rf.fit(X_train, y_train)\n",
    "\n",
    "y_pred = rf.predict(X_test)\n",
    "\n",
    "mae = mean_absolute_error(y_test, y_pred)\n",
    "mse = mean_squared_error(y_test,y_pred)\n",
    "medae = median_absolute_error(y_test, y_pred)\n",
    "\n",
    "print(\"Mean Squared Error: \", np.round(mse,2))\n",
    "print(\"Root Mean Squared Error: \", np.round(np.sqrt(mse),2))\n",
    "print(\"Mean Absolute Error: \", np.round(mae,2))\n",
    "print(\"Median Absolute Error: \", np.round(medae,2))"
   ]
  },
  {
   "cell_type": "code",
   "execution_count": 45,
   "metadata": {},
   "outputs": [],
   "source": [
    "def line_plot(y_true, y_pred, start=0, end=100, title=''):\n",
    "    y_true = y_true[start:end]\n",
    "    y_pred = y_pred[start:end]\n",
    "    sns.set(rc={'figure.figsize':(12, 5)})\n",
    "    axs = sns.lineplot(x=y_true.index, y=y_true.values, color='blue', label='True values')\n",
    "    axs = sns.lineplot(x=y_true.index, y=y_pred, color='orange', label='Predictions', ax=axs)    \n",
    "    axs.set(title=title)\n",
    "    plt.tight_layout()\n",
    "    plt.show()"
   ]
  },
  {
   "cell_type": "code",
   "execution_count": 46,
   "metadata": {},
   "outputs": [
    {
     "data": {
      "image/png": "[encoded data removed]",
      "text/plain": [
       "<Figure size 1200x500 with 1 Axes>"
      ]
     },
     "metadata": {},
     "output_type": "display_data"
    }
   ],
   "source": [
    "line_plot(y_test, y_pred)"
   ]
  },
  {
   "cell_type": "code",
   "execution_count": 47,
   "metadata": {},
   "outputs": [
    {
     "data": {
      "text/html": [
       "<div>\n",
       "<style scoped>\n",
       "    .dataframe tbody tr th:only-of-type {\n",
       "        vertical-align: middle;\n",
       "    }\n",
       "\n",
       "    .dataframe tbody tr th {\n",
       "        vertical-align: top;\n",
       "    }\n",
       "\n",
       "    .dataframe thead th {\n",
       "        text-align: right;\n",
       "    }\n",
       "</style>\n",
       "<table border=\"1\" class=\"dataframe\">\n",
       "  <thead>\n",
       "    <tr style=\"text-align: right;\">\n",
       "      <th></th>\n",
       "      <th>Feature</th>\n",
       "      <th>Importance</th>\n",
       "    </tr>\n",
       "  </thead>\n",
       "  <tbody>\n",
       "    <tr>\n",
       "      <th>2</th>\n",
       "      <td>PROPERTYSQFT</td>\n",
       "      <td>0.286189</td>\n",
       "    </tr>\n",
       "    <tr>\n",
       "      <th>25</th>\n",
       "      <td>ZIP_10019</td>\n",
       "      <td>0.169334</td>\n",
       "    </tr>\n",
       "    <tr>\n",
       "      <th>7</th>\n",
       "      <td>NEW_YORK_INDICATOR</td>\n",
       "      <td>0.089431</td>\n",
       "    </tr>\n",
       "    <tr>\n",
       "      <th>9</th>\n",
       "      <td>TYPE_Condo for sale</td>\n",
       "      <td>0.085167</td>\n",
       "    </tr>\n",
       "    <tr>\n",
       "      <th>0</th>\n",
       "      <td>BEDS</td>\n",
       "      <td>0.066221</td>\n",
       "    </tr>\n",
       "    <tr>\n",
       "      <th>18</th>\n",
       "      <td>BOROUGH_Manhattan</td>\n",
       "      <td>0.057852</td>\n",
       "    </tr>\n",
       "    <tr>\n",
       "      <th>4</th>\n",
       "      <td>LONGITUDE</td>\n",
       "      <td>0.052231</td>\n",
       "    </tr>\n",
       "    <tr>\n",
       "      <th>1</th>\n",
       "      <td>BATH</td>\n",
       "      <td>0.047499</td>\n",
       "    </tr>\n",
       "    <tr>\n",
       "      <th>3</th>\n",
       "      <td>LATITUDE</td>\n",
       "      <td>0.042772</td>\n",
       "    </tr>\n",
       "    <tr>\n",
       "      <th>5</th>\n",
       "      <td>NEAREST_SUB_STATION</td>\n",
       "      <td>0.038085</td>\n",
       "    </tr>\n",
       "    <tr>\n",
       "      <th>32</th>\n",
       "      <td>ZIP_10065</td>\n",
       "      <td>0.008653</td>\n",
       "    </tr>\n",
       "    <tr>\n",
       "      <th>11</th>\n",
       "      <td>TYPE_House for sale</td>\n",
       "      <td>0.007712</td>\n",
       "    </tr>\n",
       "    <tr>\n",
       "      <th>6</th>\n",
       "      <td>BROKER_ACTIVITY</td>\n",
       "      <td>0.007613</td>\n",
       "    </tr>\n",
       "    <tr>\n",
       "      <th>41</th>\n",
       "      <td>ZIP_11201</td>\n",
       "      <td>0.006890</td>\n",
       "    </tr>\n",
       "    <tr>\n",
       "      <th>26</th>\n",
       "      <td>ZIP_10021</td>\n",
       "      <td>0.004972</td>\n",
       "    </tr>\n",
       "    <tr>\n",
       "      <th>15</th>\n",
       "      <td>TYPE_Townhouse for sale</td>\n",
       "      <td>0.004131</td>\n",
       "    </tr>\n",
       "    <tr>\n",
       "      <th>23</th>\n",
       "      <td>ZIP_10014</td>\n",
       "      <td>0.003821</td>\n",
       "    </tr>\n",
       "    <tr>\n",
       "      <th>8</th>\n",
       "      <td>TYPE_Co-op for sale</td>\n",
       "      <td>0.003798</td>\n",
       "    </tr>\n",
       "    <tr>\n",
       "      <th>33</th>\n",
       "      <td>ZIP_10128</td>\n",
       "      <td>0.003711</td>\n",
       "    </tr>\n",
       "    <tr>\n",
       "      <th>13</th>\n",
       "      <td>TYPE_Multi-family home for sale</td>\n",
       "      <td>0.002743</td>\n",
       "    </tr>\n",
       "    <tr>\n",
       "      <th>21</th>\n",
       "      <td>ZIP_10003</td>\n",
       "      <td>0.002058</td>\n",
       "    </tr>\n",
       "    <tr>\n",
       "      <th>22</th>\n",
       "      <td>ZIP_10011</td>\n",
       "      <td>0.001409</td>\n",
       "    </tr>\n",
       "    <tr>\n",
       "      <th>28</th>\n",
       "      <td>ZIP_10023</td>\n",
       "      <td>0.001300</td>\n",
       "    </tr>\n",
       "    <tr>\n",
       "      <th>43</th>\n",
       "      <td>ZIP_11215</td>\n",
       "      <td>0.000987</td>\n",
       "    </tr>\n",
       "    <tr>\n",
       "      <th>14</th>\n",
       "      <td>TYPE_Pending</td>\n",
       "      <td>0.000930</td>\n",
       "    </tr>\n",
       "    <tr>\n",
       "      <th>31</th>\n",
       "      <td>ZIP_10028</td>\n",
       "      <td>0.000920</td>\n",
       "    </tr>\n",
       "    <tr>\n",
       "      <th>17</th>\n",
       "      <td>BOROUGH_Brooklyn</td>\n",
       "      <td>0.000749</td>\n",
       "    </tr>\n",
       "    <tr>\n",
       "      <th>42</th>\n",
       "      <td>ZIP_11209</td>\n",
       "      <td>0.000638</td>\n",
       "    </tr>\n",
       "    <tr>\n",
       "      <th>24</th>\n",
       "      <td>ZIP_10016</td>\n",
       "      <td>0.000479</td>\n",
       "    </tr>\n",
       "    <tr>\n",
       "      <th>27</th>\n",
       "      <td>ZIP_10022</td>\n",
       "      <td>0.000351</td>\n",
       "    </tr>\n",
       "    <tr>\n",
       "      <th>29</th>\n",
       "      <td>ZIP_10024</td>\n",
       "      <td>0.000240</td>\n",
       "    </tr>\n",
       "    <tr>\n",
       "      <th>12</th>\n",
       "      <td>TYPE_Land for sale</td>\n",
       "      <td>0.000173</td>\n",
       "    </tr>\n",
       "    <tr>\n",
       "      <th>19</th>\n",
       "      <td>BOROUGH_Queens</td>\n",
       "      <td>0.000165</td>\n",
       "    </tr>\n",
       "    <tr>\n",
       "      <th>39</th>\n",
       "      <td>ZIP_10463</td>\n",
       "      <td>0.000158</td>\n",
       "    </tr>\n",
       "    <tr>\n",
       "      <th>30</th>\n",
       "      <td>ZIP_10025</td>\n",
       "      <td>0.000116</td>\n",
       "    </tr>\n",
       "    <tr>\n",
       "      <th>40</th>\n",
       "      <td>ZIP_10471</td>\n",
       "      <td>0.000081</td>\n",
       "    </tr>\n",
       "    <tr>\n",
       "      <th>35</th>\n",
       "      <td>ZIP_10304</td>\n",
       "      <td>0.000079</td>\n",
       "    </tr>\n",
       "    <tr>\n",
       "      <th>37</th>\n",
       "      <td>ZIP_10312</td>\n",
       "      <td>0.000062</td>\n",
       "    </tr>\n",
       "    <tr>\n",
       "      <th>20</th>\n",
       "      <td>BOROUGH_Staten</td>\n",
       "      <td>0.000060</td>\n",
       "    </tr>\n",
       "    <tr>\n",
       "      <th>16</th>\n",
       "      <td>BOROUGH_Bronx</td>\n",
       "      <td>0.000060</td>\n",
       "    </tr>\n",
       "    <tr>\n",
       "      <th>44</th>\n",
       "      <td>ZIP_11229</td>\n",
       "      <td>0.000037</td>\n",
       "    </tr>\n",
       "    <tr>\n",
       "      <th>10</th>\n",
       "      <td>TYPE_Contingent</td>\n",
       "      <td>0.000033</td>\n",
       "    </tr>\n",
       "    <tr>\n",
       "      <th>48</th>\n",
       "      <td>ZIP_11372</td>\n",
       "      <td>0.000027</td>\n",
       "    </tr>\n",
       "    <tr>\n",
       "      <th>36</th>\n",
       "      <td>ZIP_10306</td>\n",
       "      <td>0.000018</td>\n",
       "    </tr>\n",
       "    <tr>\n",
       "      <th>46</th>\n",
       "      <td>ZIP_11235</td>\n",
       "      <td>0.000014</td>\n",
       "    </tr>\n",
       "    <tr>\n",
       "      <th>50</th>\n",
       "      <td>ZIP_11375</td>\n",
       "      <td>0.000012</td>\n",
       "    </tr>\n",
       "    <tr>\n",
       "      <th>45</th>\n",
       "      <td>ZIP_11234</td>\n",
       "      <td>0.000007</td>\n",
       "    </tr>\n",
       "    <tr>\n",
       "      <th>34</th>\n",
       "      <td>ZIP_10301</td>\n",
       "      <td>0.000006</td>\n",
       "    </tr>\n",
       "    <tr>\n",
       "      <th>47</th>\n",
       "      <td>ZIP_11360</td>\n",
       "      <td>0.000004</td>\n",
       "    </tr>\n",
       "    <tr>\n",
       "      <th>49</th>\n",
       "      <td>ZIP_11374</td>\n",
       "      <td>0.000003</td>\n",
       "    </tr>\n",
       "    <tr>\n",
       "      <th>38</th>\n",
       "      <td>ZIP_10314</td>\n",
       "      <td>0.000002</td>\n",
       "    </tr>\n",
       "  </tbody>\n",
       "</table>\n",
       "</div>"
      ],
      "text/plain": [
       "                            Feature  Importance\n",
       "2                      PROPERTYSQFT    0.286189\n",
       "25                        ZIP_10019    0.169334\n",
       "7                NEW_YORK_INDICATOR    0.089431\n",
       "9               TYPE_Condo for sale    0.085167\n",
       "0                              BEDS    0.066221\n",
       "18                BOROUGH_Manhattan    0.057852\n",
       "4                         LONGITUDE    0.052231\n",
       "1                              BATH    0.047499\n",
       "3                          LATITUDE    0.042772\n",
       "5               NEAREST_SUB_STATION    0.038085\n",
       "32                        ZIP_10065    0.008653\n",
       "11              TYPE_House for sale    0.007712\n",
       "6                   BROKER_ACTIVITY    0.007613\n",
       "41                        ZIP_11201    0.006890\n",
       "26                        ZIP_10021    0.004972\n",
       "15          TYPE_Townhouse for sale    0.004131\n",
       "23                        ZIP_10014    0.003821\n",
       "8               TYPE_Co-op for sale    0.003798\n",
       "33                        ZIP_10128    0.003711\n",
       "13  TYPE_Multi-family home for sale    0.002743\n",
       "21                        ZIP_10003    0.002058\n",
       "22                        ZIP_10011    0.001409\n",
       "28                        ZIP_10023    0.001300\n",
       "43                        ZIP_11215    0.000987\n",
       "14                     TYPE_Pending    0.000930\n",
       "31                        ZIP_10028    0.000920\n",
       "17                 BOROUGH_Brooklyn    0.000749\n",
       "42                        ZIP_11209    0.000638\n",
       "24                        ZIP_10016    0.000479\n",
       "27                        ZIP_10022    0.000351\n",
       "29                        ZIP_10024    0.000240\n",
       "12               TYPE_Land for sale    0.000173\n",
       "19                   BOROUGH_Queens    0.000165\n",
       "39                        ZIP_10463    0.000158\n",
       "30                        ZIP_10025    0.000116\n",
       "40                        ZIP_10471    0.000081\n",
       "35                        ZIP_10304    0.000079\n",
       "37                        ZIP_10312    0.000062\n",
       "20                   BOROUGH_Staten    0.000060\n",
       "16                    BOROUGH_Bronx    0.000060\n",
       "44                        ZIP_11229    0.000037\n",
       "10                  TYPE_Contingent    0.000033\n",
       "48                        ZIP_11372    0.000027\n",
       "36                        ZIP_10306    0.000018\n",
       "46                        ZIP_11235    0.000014\n",
       "50                        ZIP_11375    0.000012\n",
       "45                        ZIP_11234    0.000007\n",
       "34                        ZIP_10301    0.000006\n",
       "47                        ZIP_11360    0.000004\n",
       "49                        ZIP_11374    0.000003\n",
       "38                        ZIP_10314    0.000002"
      ]
     },
     "execution_count": 47,
     "metadata": {},
     "output_type": "execute_result"
    }
   ],
   "source": [
    "importances = rf.feature_importances_\n",
    "feature_names = X_train.columns\n",
    "\n",
    "feature_importance = pd.DataFrame({\n",
    "    'Feature': feature_names,\n",
    "    'Importance': importances\n",
    "}).sort_values(by='Importance', ascending=False)\n",
    "\n",
    "pd.set_option('display.max_rows', None)\n",
    "feature_importance"
   ]
  },
  {
   "cell_type": "code",
   "execution_count": 48,
   "metadata": {},
   "outputs": [],
   "source": [
    "# X = house_df.drop(\"PRICE\", axis=1)\n",
    "# y = house_df[\"PRICE\"]\n",
    "\n",
    "# processor = ColumnTransformer(\n",
    "#     transformers=[\n",
    "#         ('imputer', SimpleImputer(strategy='median'), [\"PROPERTYSQFT\", \"BATH\"])\n",
    "#     ],\n",
    "#     remainder='passthrough'\n",
    "# )\n",
    "\n",
    "# pipeline = Pipeline([\n",
    "#     ('processor', processor),\n",
    "#     ('model', RandomForestRegressor(n_estimators=100))\n",
    "# ])\n",
    "\n",
    "# X_train, X_test, y_train, y_test = train_test_split(X, y, test_size=0.3, random_state=42)\n",
    "\n",
    "# param_grid = {\n",
    "#     'model__max_depth': [None, 10, 20],            \n",
    "#     'model__min_samples_split': [2, 5, 10],     \n",
    "#     'model__min_samples_leaf': [1, 2, 4],         \n",
    "#     'model__max_features': ['sqrt', 'log2', None] \n",
    "# }\n",
    "\n",
    "# grid_search = GridSearchCV(estimator=pipeline, param_grid=param_grid,\n",
    "#                            cv=2, scoring='neg_mean_absolute_error', n_jobs=-1)\n",
    "\n",
    "# grid_search.fit(X_train, y_train)\n",
    "\n",
    "# print(\"Best Parameters:\", grid_search.best_params_)\n",
    "# print(\"Best Cross-Validation Score (Negative MAE):\", grid_search.best_score_)\n",
    "\n",
    "# best_pipeline = grid_search.best_estimator_\n",
    "# y_pred = best_pipeline.predict(X_test)\n",
    "# mae = mean_absolute_error(y_test, y_pred)"
   ]
  },
  {
   "cell_type": "code",
   "execution_count": 49,
   "metadata": {},
   "outputs": [
    {
     "name": "stdout",
     "output_type": "stream",
     "text": [
      "Fitting 3 folds for each of 36 candidates, totalling 108 fits\n",
      "Best parameters: {'C': 1000, 'epsilon': 0.01, 'gamma': 0.01}\n",
      "Best cross-validation score: -0.05\n"
     ]
    },
    {
     "data": {
      "text/plain": [
       "-0.049077101248969246"
      ]
     },
     "execution_count": 49,
     "metadata": {},
     "output_type": "execute_result"
    }
   ],
   "source": [
    "param_grid = {\n",
    "    'C': [100,500,1000],        \n",
    "    'epsilon': [0.0001,0.001, 0.01], \n",
    "    'gamma': [0.001, 0.01, 0.1, 1],  \n",
    "}\n",
    "\n",
    "svr_model = SVR(kernel='rbf')\n",
    "\n",
    "grid_search = GridSearchCV(estimator=svr_model, param_grid=param_grid, cv=3, verbose=1, n_jobs=-1)\n",
    "\n",
    "grid_search.fit(X_train,y_train)\n",
    "\n",
    "print(f\"Best parameters: {grid_search.best_params_}\")\n",
    "print(f\"Best cross-validation score: {grid_search.best_score_:.2f}\")\n",
    "\n",
    "y_pred = grid_search.predict(X_test)\n",
    "\n",
    "best_svm_regressor = grid_search.best_estimator_\n",
    "test_score = best_svm_regressor.score(X_test, y_test)\n",
    "\n",
    "test_score"
   ]
  },
  {
   "cell_type": "code",
   "execution_count": 50,
   "metadata": {},
   "outputs": [
    {
     "data": {
      "text/html": [
       "<div>\n",
       "<style scoped>\n",
       "    .dataframe tbody tr th:only-of-type {\n",
       "        vertical-align: middle;\n",
       "    }\n",
       "\n",
       "    .dataframe tbody tr th {\n",
       "        vertical-align: top;\n",
       "    }\n",
       "\n",
       "    .dataframe thead th {\n",
       "        text-align: right;\n",
       "    }\n",
       "</style>\n",
       "<table border=\"1\" class=\"dataframe\">\n",
       "  <thead>\n",
       "    <tr style=\"text-align: right;\">\n",
       "      <th></th>\n",
       "      <th>BEDS</th>\n",
       "      <th>BATH</th>\n",
       "      <th>PROPERTYSQFT</th>\n",
       "      <th>LATITUDE</th>\n",
       "      <th>LONGITUDE</th>\n",
       "      <th>NEAREST_SUB_STATION</th>\n",
       "      <th>BROKER_ACTIVITY</th>\n",
       "      <th>NEW_YORK_INDICATOR</th>\n",
       "      <th>TYPE_Co-op for sale</th>\n",
       "      <th>TYPE_Condo for sale</th>\n",
       "      <th>...</th>\n",
       "      <th>ZIP_11201</th>\n",
       "      <th>ZIP_11209</th>\n",
       "      <th>ZIP_11215</th>\n",
       "      <th>ZIP_11229</th>\n",
       "      <th>ZIP_11234</th>\n",
       "      <th>ZIP_11235</th>\n",
       "      <th>ZIP_11360</th>\n",
       "      <th>ZIP_11372</th>\n",
       "      <th>ZIP_11374</th>\n",
       "      <th>ZIP_11375</th>\n",
       "    </tr>\n",
       "  </thead>\n",
       "  <tbody>\n",
       "    <tr>\n",
       "      <th>0</th>\n",
       "      <td>-0.521197</td>\n",
       "      <td>-0.179424</td>\n",
       "      <td>-0.230158</td>\n",
       "      <td>0.536199</td>\n",
       "      <td>-0.326150</td>\n",
       "      <td>-0.649598</td>\n",
       "      <td>0.622763</td>\n",
       "      <td>0</td>\n",
       "      <td>0</td>\n",
       "      <td>1</td>\n",
       "      <td>...</td>\n",
       "      <td>0</td>\n",
       "      <td>0</td>\n",
       "      <td>0</td>\n",
       "      <td>0</td>\n",
       "      <td>0</td>\n",
       "      <td>0</td>\n",
       "      <td>0</td>\n",
       "      <td>0</td>\n",
       "      <td>0</td>\n",
       "      <td>0</td>\n",
       "    </tr>\n",
       "    <tr>\n",
       "      <th>1</th>\n",
       "      <td>1.400562</td>\n",
       "      <td>3.926584</td>\n",
       "      <td>6.507448</td>\n",
       "      <td>0.594838</td>\n",
       "      <td>-0.390580</td>\n",
       "      <td>-0.610722</td>\n",
       "      <td>1.475134</td>\n",
       "      <td>1</td>\n",
       "      <td>0</td>\n",
       "      <td>1</td>\n",
       "      <td>...</td>\n",
       "      <td>0</td>\n",
       "      <td>0</td>\n",
       "      <td>0</td>\n",
       "      <td>0</td>\n",
       "      <td>0</td>\n",
       "      <td>0</td>\n",
       "      <td>0</td>\n",
       "      <td>0</td>\n",
       "      <td>0</td>\n",
       "      <td>0</td>\n",
       "    </tr>\n",
       "    <tr>\n",
       "      <th>2</th>\n",
       "      <td>0.247507</td>\n",
       "      <td>-0.179424</td>\n",
       "      <td>0.026493</td>\n",
       "      <td>-1.968078</td>\n",
       "      <td>-2.520458</td>\n",
       "      <td>-0.088446</td>\n",
       "      <td>0.622763</td>\n",
       "      <td>0</td>\n",
       "      <td>0</td>\n",
       "      <td>0</td>\n",
       "      <td>...</td>\n",
       "      <td>0</td>\n",
       "      <td>0</td>\n",
       "      <td>0</td>\n",
       "      <td>0</td>\n",
       "      <td>0</td>\n",
       "      <td>0</td>\n",
       "      <td>0</td>\n",
       "      <td>0</td>\n",
       "      <td>0</td>\n",
       "      <td>0</td>\n",
       "    </tr>\n",
       "    <tr>\n",
       "      <th>3</th>\n",
       "      <td>-0.136845</td>\n",
       "      <td>-0.692675</td>\n",
       "      <td>-0.628697</td>\n",
       "      <td>0.537830</td>\n",
       "      <td>-0.327431</td>\n",
       "      <td>-0.642860</td>\n",
       "      <td>1.475134</td>\n",
       "      <td>1</td>\n",
       "      <td>0</td>\n",
       "      <td>1</td>\n",
       "      <td>...</td>\n",
       "      <td>0</td>\n",
       "      <td>0</td>\n",
       "      <td>0</td>\n",
       "      <td>0</td>\n",
       "      <td>0</td>\n",
       "      <td>0</td>\n",
       "      <td>0</td>\n",
       "      <td>0</td>\n",
       "      <td>0</td>\n",
       "      <td>0</td>\n",
       "    </tr>\n",
       "    <tr>\n",
       "      <th>4</th>\n",
       "      <td>1.400562</td>\n",
       "      <td>-0.179424</td>\n",
       "      <td>5.101085</td>\n",
       "      <td>0.604309</td>\n",
       "      <td>-0.280335</td>\n",
       "      <td>-0.473992</td>\n",
       "      <td>1.475134</td>\n",
       "      <td>1</td>\n",
       "      <td>0</td>\n",
       "      <td>0</td>\n",
       "      <td>...</td>\n",
       "      <td>0</td>\n",
       "      <td>0</td>\n",
       "      <td>0</td>\n",
       "      <td>0</td>\n",
       "      <td>0</td>\n",
       "      <td>0</td>\n",
       "      <td>0</td>\n",
       "      <td>0</td>\n",
       "      <td>0</td>\n",
       "      <td>0</td>\n",
       "    </tr>\n",
       "  </tbody>\n",
       "</table>\n",
       "<p>5 rows × 51 columns</p>\n",
       "</div>"
      ],
      "text/plain": [
       "       BEDS      BATH  PROPERTYSQFT  LATITUDE  LONGITUDE  NEAREST_SUB_STATION  \\\n",
       "0 -0.521197 -0.179424     -0.230158  0.536199  -0.326150            -0.649598   \n",
       "1  1.400562  3.926584      6.507448  0.594838  -0.390580            -0.610722   \n",
       "2  0.247507 -0.179424      0.026493 -1.968078  -2.520458            -0.088446   \n",
       "3 -0.136845 -0.692675     -0.628697  0.537830  -0.327431            -0.642860   \n",
       "4  1.400562 -0.179424      5.101085  0.604309  -0.280335            -0.473992   \n",
       "\n",
       "   BROKER_ACTIVITY  NEW_YORK_INDICATOR  TYPE_Co-op for sale  \\\n",
       "0         0.622763                   0                    0   \n",
       "1         1.475134                   1                    0   \n",
       "2         0.622763                   0                    0   \n",
       "3         1.475134                   1                    0   \n",
       "4         1.475134                   1                    0   \n",
       "\n",
       "   TYPE_Condo for sale  ...  ZIP_11201  ZIP_11209  ZIP_11215  ZIP_11229  \\\n",
       "0                    1  ...          0          0          0          0   \n",
       "1                    1  ...          0          0          0          0   \n",
       "2                    0  ...          0          0          0          0   \n",
       "3                    1  ...          0          0          0          0   \n",
       "4                    0  ...          0          0          0          0   \n",
       "\n",
       "   ZIP_11234  ZIP_11235  ZIP_11360  ZIP_11372  ZIP_11374  ZIP_11375  \n",
       "0          0          0          0          0          0          0  \n",
       "1          0          0          0          0          0          0  \n",
       "2          0          0          0          0          0          0  \n",
       "3          0          0          0          0          0          0  \n",
       "4          0          0          0          0          0          0  \n",
       "\n",
       "[5 rows x 51 columns]"
      ]
     },
     "execution_count": 50,
     "metadata": {},
     "output_type": "execute_result"
    }
   ],
   "source": [
    "X = house_df.drop(\"PRICE\", axis=1)\n",
    "y = house_df[\"PRICE\"]\n",
    "\n",
    "imputer = SimpleImputer(strategy='median')\n",
    "X[\"PROPERTYSQFT\"] = imputer.fit_transform(X[[\"PROPERTYSQFT\"]])\n",
    "X[\"BATH\"] = imputer.fit_transform(X[[\"BATH\"]])\n",
    "\n",
    "scaler = StandardScaler()\n",
    "columns_to_standardize = [\"BEDS\", \"BATH\",\"LATITUDE\", \"LONGITUDE\", \"NEAREST_SUB_STATION\",\"PROPERTYSQFT\", \"BROKER_ACTIVITY\"]\n",
    "X[columns_to_standardize] = scaler.fit_transform(X[columns_to_standardize])\n",
    "\n",
    "X_train, X_test, y_train, y_test = train_test_split(X, y, test_size=0.3, random_state=42)\n",
    "\n",
    "X.head(5)"
   ]
  }
 ],
 "metadata": {
  "kernelspec": {
   "display_name": "myenv",
   "language": "python",
   "name": "python3"
  },
  "language_info": {
   "codemirror_mode": {
    "name": "ipython",
    "version": 3
   },
   "file_extension": ".py",
   "mimetype": "text/x-python",
   "name": "python",
   "nbconvert_exporter": "python",
   "pygments_lexer": "ipython3",
   "version": "3.11.9"
  }
 },
 "nbformat": 4,
 "nbformat_minor": 2
}
