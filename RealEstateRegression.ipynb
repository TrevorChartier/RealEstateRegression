{
 "cells": [
  {
   "cell_type": "markdown",
   "metadata": {},
   "source": [
    "# Real Estate Regression\n",
    "### Building a Regression Model to Predict Housing Prices in NY City \n",
    "### Jackson Patrick & Trevor Chartier"
   ]
  },
  {
   "cell_type": "markdown",
   "metadata": {},
   "source": [
    "## Introduction"
   ]
  },
  {
   "cell_type": "markdown",
   "metadata": {},
   "source": [
    "## Part 1: Data Processing"
   ]
  },
  {
   "cell_type": "code",
   "execution_count": 144,
   "metadata": {},
   "outputs": [],
   "source": [
    "import pandas as pd\n",
    "import numpy as np\n",
    "import matplotlib.pyplot as plt\n",
    "\n",
    "from scipy.spatial import cKDTree\n",
    "from geopy.distance import geodesic # may need to run pip install geopy\n",
    "import pandas.api.types as pd_types"
   ]
  },
  {
   "cell_type": "markdown",
   "metadata": {},
   "source": [
    "### Read In Dataset"
   ]
  },
  {
   "cell_type": "code",
   "execution_count": 145,
   "metadata": {},
   "outputs": [
    {
     "name": "stdout",
     "output_type": "stream",
     "text": [
      "4801  samples,  17  features\n"
     ]
    },
    {
     "data": {
      "text/html": [
       "<div>\n",
       "<style scoped>\n",
       "    .dataframe tbody tr th:only-of-type {\n",
       "        vertical-align: middle;\n",
       "    }\n",
       "\n",
       "    .dataframe tbody tr th {\n",
       "        vertical-align: top;\n",
       "    }\n",
       "\n",
       "    .dataframe thead th {\n",
       "        text-align: right;\n",
       "    }\n",
       "</style>\n",
       "<table border=\"1\" class=\"dataframe\">\n",
       "  <thead>\n",
       "    <tr style=\"text-align: right;\">\n",
       "      <th></th>\n",
       "      <th>BROKERTITLE</th>\n",
       "      <th>TYPE</th>\n",
       "      <th>PRICE</th>\n",
       "      <th>BEDS</th>\n",
       "      <th>BATH</th>\n",
       "      <th>PROPERTYSQFT</th>\n",
       "      <th>ADDRESS</th>\n",
       "      <th>STATE</th>\n",
       "      <th>MAIN_ADDRESS</th>\n",
       "      <th>ADMINISTRATIVE_AREA_LEVEL_2</th>\n",
       "      <th>LOCALITY</th>\n",
       "      <th>SUBLOCALITY</th>\n",
       "      <th>STREET_NAME</th>\n",
       "      <th>LONG_NAME</th>\n",
       "      <th>FORMATTED_ADDRESS</th>\n",
       "      <th>LATITUDE</th>\n",
       "      <th>LONGITUDE</th>\n",
       "    </tr>\n",
       "  </thead>\n",
       "  <tbody>\n",
       "    <tr>\n",
       "      <th>0</th>\n",
       "      <td>Brokered by Douglas Elliman  -111 Fifth Ave</td>\n",
       "      <td>Condo for sale</td>\n",
       "      <td>315000</td>\n",
       "      <td>2</td>\n",
       "      <td>2.000000</td>\n",
       "      <td>1400.0</td>\n",
       "      <td>2 E 55th St Unit 803</td>\n",
       "      <td>New York, NY 10022</td>\n",
       "      <td>2 E 55th St Unit 803New York, NY 10022</td>\n",
       "      <td>New York County</td>\n",
       "      <td>New York</td>\n",
       "      <td>Manhattan</td>\n",
       "      <td>East 55th Street</td>\n",
       "      <td>Regis Residence</td>\n",
       "      <td>Regis Residence, 2 E 55th St #803, New York, N...</td>\n",
       "      <td>40.761255</td>\n",
       "      <td>-73.974483</td>\n",
       "    </tr>\n",
       "    <tr>\n",
       "      <th>1</th>\n",
       "      <td>Brokered by Serhant</td>\n",
       "      <td>Condo for sale</td>\n",
       "      <td>195000000</td>\n",
       "      <td>7</td>\n",
       "      <td>10.000000</td>\n",
       "      <td>17545.0</td>\n",
       "      <td>Central Park Tower Penthouse-217 W 57th New Yo...</td>\n",
       "      <td>New York, NY 10019</td>\n",
       "      <td>Central Park Tower Penthouse-217 W 57th New Yo...</td>\n",
       "      <td>United States</td>\n",
       "      <td>New York</td>\n",
       "      <td>New York County</td>\n",
       "      <td>New York</td>\n",
       "      <td>West 57th Street</td>\n",
       "      <td>217 W 57th St, New York, NY 10019, USA</td>\n",
       "      <td>40.766393</td>\n",
       "      <td>-73.980991</td>\n",
       "    </tr>\n",
       "    <tr>\n",
       "      <th>2</th>\n",
       "      <td>Brokered by Sowae Corp</td>\n",
       "      <td>House for sale</td>\n",
       "      <td>260000</td>\n",
       "      <td>4</td>\n",
       "      <td>2.000000</td>\n",
       "      <td>2015.0</td>\n",
       "      <td>620 Sinclair Ave</td>\n",
       "      <td>Staten Island, NY 10312</td>\n",
       "      <td>620 Sinclair AveStaten Island, NY 10312</td>\n",
       "      <td>United States</td>\n",
       "      <td>New York</td>\n",
       "      <td>Richmond County</td>\n",
       "      <td>Staten Island</td>\n",
       "      <td>Sinclair Avenue</td>\n",
       "      <td>620 Sinclair Ave, Staten Island, NY 10312, USA</td>\n",
       "      <td>40.541805</td>\n",
       "      <td>-74.196109</td>\n",
       "    </tr>\n",
       "    <tr>\n",
       "      <th>3</th>\n",
       "      <td>Brokered by COMPASS</td>\n",
       "      <td>Condo for sale</td>\n",
       "      <td>69000</td>\n",
       "      <td>3</td>\n",
       "      <td>1.000000</td>\n",
       "      <td>445.0</td>\n",
       "      <td>2 E 55th St Unit 908W33</td>\n",
       "      <td>Manhattan, NY 10022</td>\n",
       "      <td>2 E 55th St Unit 908W33Manhattan, NY 10022</td>\n",
       "      <td>United States</td>\n",
       "      <td>New York</td>\n",
       "      <td>New York County</td>\n",
       "      <td>New York</td>\n",
       "      <td>East 55th Street</td>\n",
       "      <td>2 E 55th St, New York, NY 10022, USA</td>\n",
       "      <td>40.761398</td>\n",
       "      <td>-73.974613</td>\n",
       "    </tr>\n",
       "    <tr>\n",
       "      <th>4</th>\n",
       "      <td>Brokered by Sotheby's International Realty - E...</td>\n",
       "      <td>Townhouse for sale</td>\n",
       "      <td>55000000</td>\n",
       "      <td>7</td>\n",
       "      <td>2.373861</td>\n",
       "      <td>14175.0</td>\n",
       "      <td>5 E 64th St</td>\n",
       "      <td>New York, NY 10065</td>\n",
       "      <td>5 E 64th StNew York, NY 10065</td>\n",
       "      <td>United States</td>\n",
       "      <td>New York</td>\n",
       "      <td>New York County</td>\n",
       "      <td>New York</td>\n",
       "      <td>East 64th Street</td>\n",
       "      <td>5 E 64th St, New York, NY 10065, USA</td>\n",
       "      <td>40.767224</td>\n",
       "      <td>-73.969856</td>\n",
       "    </tr>\n",
       "  </tbody>\n",
       "</table>\n",
       "</div>"
      ],
      "text/plain": [
       "                                         BROKERTITLE                TYPE  \\\n",
       "0        Brokered by Douglas Elliman  -111 Fifth Ave      Condo for sale   \n",
       "1                                Brokered by Serhant      Condo for sale   \n",
       "2                             Brokered by Sowae Corp      House for sale   \n",
       "3                                Brokered by COMPASS      Condo for sale   \n",
       "4  Brokered by Sotheby's International Realty - E...  Townhouse for sale   \n",
       "\n",
       "       PRICE  BEDS       BATH  PROPERTYSQFT  \\\n",
       "0     315000     2   2.000000        1400.0   \n",
       "1  195000000     7  10.000000       17545.0   \n",
       "2     260000     4   2.000000        2015.0   \n",
       "3      69000     3   1.000000         445.0   \n",
       "4   55000000     7   2.373861       14175.0   \n",
       "\n",
       "                                             ADDRESS                    STATE  \\\n",
       "0                               2 E 55th St Unit 803       New York, NY 10022   \n",
       "1  Central Park Tower Penthouse-217 W 57th New Yo...       New York, NY 10019   \n",
       "2                                   620 Sinclair Ave  Staten Island, NY 10312   \n",
       "3                            2 E 55th St Unit 908W33      Manhattan, NY 10022   \n",
       "4                                        5 E 64th St       New York, NY 10065   \n",
       "\n",
       "                                        MAIN_ADDRESS  \\\n",
       "0             2 E 55th St Unit 803New York, NY 10022   \n",
       "1  Central Park Tower Penthouse-217 W 57th New Yo...   \n",
       "2            620 Sinclair AveStaten Island, NY 10312   \n",
       "3         2 E 55th St Unit 908W33Manhattan, NY 10022   \n",
       "4                      5 E 64th StNew York, NY 10065   \n",
       "\n",
       "  ADMINISTRATIVE_AREA_LEVEL_2  LOCALITY      SUBLOCALITY       STREET_NAME  \\\n",
       "0             New York County  New York        Manhattan  East 55th Street   \n",
       "1               United States  New York  New York County          New York   \n",
       "2               United States  New York  Richmond County     Staten Island   \n",
       "3               United States  New York  New York County          New York   \n",
       "4               United States  New York  New York County          New York   \n",
       "\n",
       "          LONG_NAME                                  FORMATTED_ADDRESS  \\\n",
       "0   Regis Residence  Regis Residence, 2 E 55th St #803, New York, N...   \n",
       "1  West 57th Street             217 W 57th St, New York, NY 10019, USA   \n",
       "2   Sinclair Avenue     620 Sinclair Ave, Staten Island, NY 10312, USA   \n",
       "3  East 55th Street               2 E 55th St, New York, NY 10022, USA   \n",
       "4  East 64th Street               5 E 64th St, New York, NY 10065, USA   \n",
       "\n",
       "    LATITUDE  LONGITUDE  \n",
       "0  40.761255 -73.974483  \n",
       "1  40.766393 -73.980991  \n",
       "2  40.541805 -74.196109  \n",
       "3  40.761398 -73.974613  \n",
       "4  40.767224 -73.969856  "
      ]
     },
     "execution_count": 145,
     "metadata": {},
     "output_type": "execute_result"
    }
   ],
   "source": [
    "\n",
    "house_df = pd.read_csv(\"data/NY-House-Dataset.csv\")\n",
    "print(house_df.shape[0], \" samples, \", house_df.shape[1], \" features\")\n",
    "house_df.head()"
   ]
  },
  {
   "cell_type": "markdown",
   "metadata": {},
   "source": [
    "### Feature Engineering: Distance to Nearest Subway Station"
   ]
  },
  {
   "cell_type": "markdown",
   "metadata": {},
   "source": [
    "Before analyzing the dataset and it's features, we would like to add one additional feature based on longitude and latitude -- the distance from the property to the nearest subway station."
   ]
  },
  {
   "cell_type": "code",
   "execution_count": 146,
   "metadata": {},
   "outputs": [
    {
     "name": "stdout",
     "output_type": "stream",
     "text": [
      "496  Subway Stations Included in NYC Dataset\n"
     ]
    },
    {
     "data": {
      "text/html": [
       "<div>\n",
       "<style scoped>\n",
       "    .dataframe tbody tr th:only-of-type {\n",
       "        vertical-align: middle;\n",
       "    }\n",
       "\n",
       "    .dataframe tbody tr th {\n",
       "        vertical-align: top;\n",
       "    }\n",
       "\n",
       "    .dataframe thead th {\n",
       "        text-align: right;\n",
       "    }\n",
       "</style>\n",
       "<table border=\"1\" class=\"dataframe\">\n",
       "  <thead>\n",
       "    <tr style=\"text-align: right;\">\n",
       "      <th></th>\n",
       "      <th>Latitude</th>\n",
       "      <th>Longitude</th>\n",
       "    </tr>\n",
       "  </thead>\n",
       "  <tbody>\n",
       "    <tr>\n",
       "      <th>0</th>\n",
       "      <td>40.725915</td>\n",
       "      <td>-73.994659</td>\n",
       "    </tr>\n",
       "    <tr>\n",
       "      <th>1</th>\n",
       "      <td>40.588841</td>\n",
       "      <td>-73.983765</td>\n",
       "    </tr>\n",
       "    <tr>\n",
       "      <th>2</th>\n",
       "      <td>40.834255</td>\n",
       "      <td>-73.851222</td>\n",
       "    </tr>\n",
       "    <tr>\n",
       "      <th>3</th>\n",
       "      <td>40.680596</td>\n",
       "      <td>-73.955827</td>\n",
       "    </tr>\n",
       "    <tr>\n",
       "      <th>4</th>\n",
       "      <td>40.718315</td>\n",
       "      <td>-73.987437</td>\n",
       "    </tr>\n",
       "  </tbody>\n",
       "</table>\n",
       "</div>"
      ],
      "text/plain": [
       "    Latitude  Longitude\n",
       "0  40.725915 -73.994659\n",
       "1  40.588841 -73.983765\n",
       "2  40.834255 -73.851222\n",
       "3  40.680596 -73.955827\n",
       "4  40.718315 -73.987437"
      ]
     },
     "execution_count": 146,
     "metadata": {},
     "output_type": "execute_result"
    }
   ],
   "source": [
    "subway_df = pd.read_csv(\"data/MTA_Subway_Stations.csv\")\n",
    "subway_df = subway_df[[\"GTFS Latitude\", \"GTFS Longitude\"]]\n",
    "subway_df.rename(columns={\"GTFS Latitude\": \"Latitude\", \"GTFS Longitude\":\"Longitude\"}, inplace=True)\n",
    "print(subway_df.shape[0], \" Subway Stations Included in NYC Dataset\")\n",
    "subway_df.head()"
   ]
  },
  {
   "cell_type": "code",
   "execution_count": 147,
   "metadata": {},
   "outputs": [],
   "source": [
    "subway_coords = subway_df[['Latitude','Longitude']].values\n",
    "subway_tree = cKDTree(subway_coords)\n",
    "\n",
    "subway_distances = []\n",
    "\n",
    "for _, property in house_df.iterrows():\n",
    "    property_coord = (property[\"LATITUDE\"], property[\"LONGITUDE\"])\n",
    "    \n",
    "    distance, idx = subway_tree.query([property[\"LATITUDE\"], property[\"LONGITUDE\"]])\n",
    "    \n",
    "    nearest_subway_coord = subway_coords[idx]\n",
    "    precise_distance = np.round(geodesic(property_coord, nearest_subway_coord).miles,6)\n",
    "    subway_distances.append(precise_distance)\n",
    "    \n",
    "house_df[\"NEAREST_SUB_STATION\"] = subway_distances"
   ]
  },
  {
   "cell_type": "code",
   "execution_count": 148,
   "metadata": {},
   "outputs": [
    {
     "data": {
      "text/html": [
       "<div>\n",
       "<style scoped>\n",
       "    .dataframe tbody tr th:only-of-type {\n",
       "        vertical-align: middle;\n",
       "    }\n",
       "\n",
       "    .dataframe tbody tr th {\n",
       "        vertical-align: top;\n",
       "    }\n",
       "\n",
       "    .dataframe thead th {\n",
       "        text-align: right;\n",
       "    }\n",
       "</style>\n",
       "<table border=\"1\" class=\"dataframe\">\n",
       "  <thead>\n",
       "    <tr style=\"text-align: right;\">\n",
       "      <th></th>\n",
       "      <th>BROKERTITLE</th>\n",
       "      <th>TYPE</th>\n",
       "      <th>PRICE</th>\n",
       "      <th>BEDS</th>\n",
       "      <th>BATH</th>\n",
       "      <th>PROPERTYSQFT</th>\n",
       "      <th>ADDRESS</th>\n",
       "      <th>STATE</th>\n",
       "      <th>MAIN_ADDRESS</th>\n",
       "      <th>ADMINISTRATIVE_AREA_LEVEL_2</th>\n",
       "      <th>LOCALITY</th>\n",
       "      <th>SUBLOCALITY</th>\n",
       "      <th>STREET_NAME</th>\n",
       "      <th>LONG_NAME</th>\n",
       "      <th>FORMATTED_ADDRESS</th>\n",
       "      <th>LATITUDE</th>\n",
       "      <th>LONGITUDE</th>\n",
       "      <th>NEAREST_SUB_STATION</th>\n",
       "    </tr>\n",
       "  </thead>\n",
       "  <tbody>\n",
       "    <tr>\n",
       "      <th>0</th>\n",
       "      <td>Brokered by Douglas Elliman  -111 Fifth Ave</td>\n",
       "      <td>Condo for sale</td>\n",
       "      <td>315000</td>\n",
       "      <td>2</td>\n",
       "      <td>2.000000</td>\n",
       "      <td>1400.0</td>\n",
       "      <td>2 E 55th St Unit 803</td>\n",
       "      <td>New York, NY 10022</td>\n",
       "      <td>2 E 55th St Unit 803New York, NY 10022</td>\n",
       "      <td>New York County</td>\n",
       "      <td>New York</td>\n",
       "      <td>Manhattan</td>\n",
       "      <td>East 55th Street</td>\n",
       "      <td>Regis Residence</td>\n",
       "      <td>Regis Residence, 2 E 55th St #803, New York, N...</td>\n",
       "      <td>40.761255</td>\n",
       "      <td>-73.974483</td>\n",
       "      <td>0.084535</td>\n",
       "    </tr>\n",
       "    <tr>\n",
       "      <th>1</th>\n",
       "      <td>Brokered by Serhant</td>\n",
       "      <td>Condo for sale</td>\n",
       "      <td>195000000</td>\n",
       "      <td>7</td>\n",
       "      <td>10.000000</td>\n",
       "      <td>17545.0</td>\n",
       "      <td>Central Park Tower Penthouse-217 W 57th New Yo...</td>\n",
       "      <td>New York, NY 10019</td>\n",
       "      <td>Central Park Tower Penthouse-217 W 57th New Yo...</td>\n",
       "      <td>United States</td>\n",
       "      <td>New York</td>\n",
       "      <td>New York County</td>\n",
       "      <td>New York</td>\n",
       "      <td>West 57th Street</td>\n",
       "      <td>217 W 57th St, New York, NY 10019, USA</td>\n",
       "      <td>40.766393</td>\n",
       "      <td>-73.980991</td>\n",
       "      <td>0.120612</td>\n",
       "    </tr>\n",
       "    <tr>\n",
       "      <th>2</th>\n",
       "      <td>Brokered by Sowae Corp</td>\n",
       "      <td>House for sale</td>\n",
       "      <td>260000</td>\n",
       "      <td>4</td>\n",
       "      <td>2.000000</td>\n",
       "      <td>2015.0</td>\n",
       "      <td>620 Sinclair Ave</td>\n",
       "      <td>Staten Island, NY 10312</td>\n",
       "      <td>620 Sinclair AveStaten Island, NY 10312</td>\n",
       "      <td>United States</td>\n",
       "      <td>New York</td>\n",
       "      <td>Richmond County</td>\n",
       "      <td>Staten Island</td>\n",
       "      <td>Sinclair Avenue</td>\n",
       "      <td>620 Sinclair Ave, Staten Island, NY 10312, USA</td>\n",
       "      <td>40.541805</td>\n",
       "      <td>-74.196109</td>\n",
       "      <td>0.605279</td>\n",
       "    </tr>\n",
       "    <tr>\n",
       "      <th>3</th>\n",
       "      <td>Brokered by COMPASS</td>\n",
       "      <td>Condo for sale</td>\n",
       "      <td>69000</td>\n",
       "      <td>3</td>\n",
       "      <td>1.000000</td>\n",
       "      <td>445.0</td>\n",
       "      <td>2 E 55th St Unit 908W33</td>\n",
       "      <td>Manhattan, NY 10022</td>\n",
       "      <td>2 E 55th St Unit 908W33Manhattan, NY 10022</td>\n",
       "      <td>United States</td>\n",
       "      <td>New York</td>\n",
       "      <td>New York County</td>\n",
       "      <td>New York</td>\n",
       "      <td>East 55th Street</td>\n",
       "      <td>2 E 55th St, New York, NY 10022, USA</td>\n",
       "      <td>40.761398</td>\n",
       "      <td>-73.974613</td>\n",
       "      <td>0.090788</td>\n",
       "    </tr>\n",
       "    <tr>\n",
       "      <th>4</th>\n",
       "      <td>Brokered by Sotheby's International Realty - E...</td>\n",
       "      <td>Townhouse for sale</td>\n",
       "      <td>55000000</td>\n",
       "      <td>7</td>\n",
       "      <td>2.373861</td>\n",
       "      <td>14175.0</td>\n",
       "      <td>5 E 64th St</td>\n",
       "      <td>New York, NY 10065</td>\n",
       "      <td>5 E 64th StNew York, NY 10065</td>\n",
       "      <td>United States</td>\n",
       "      <td>New York</td>\n",
       "      <td>New York County</td>\n",
       "      <td>New York</td>\n",
       "      <td>East 64th Street</td>\n",
       "      <td>5 E 64th St, New York, NY 10065, USA</td>\n",
       "      <td>40.767224</td>\n",
       "      <td>-73.969856</td>\n",
       "      <td>0.247496</td>\n",
       "    </tr>\n",
       "  </tbody>\n",
       "</table>\n",
       "</div>"
      ],
      "text/plain": [
       "                                         BROKERTITLE                TYPE  \\\n",
       "0        Brokered by Douglas Elliman  -111 Fifth Ave      Condo for sale   \n",
       "1                                Brokered by Serhant      Condo for sale   \n",
       "2                             Brokered by Sowae Corp      House for sale   \n",
       "3                                Brokered by COMPASS      Condo for sale   \n",
       "4  Brokered by Sotheby's International Realty - E...  Townhouse for sale   \n",
       "\n",
       "       PRICE  BEDS       BATH  PROPERTYSQFT  \\\n",
       "0     315000     2   2.000000        1400.0   \n",
       "1  195000000     7  10.000000       17545.0   \n",
       "2     260000     4   2.000000        2015.0   \n",
       "3      69000     3   1.000000         445.0   \n",
       "4   55000000     7   2.373861       14175.0   \n",
       "\n",
       "                                             ADDRESS                    STATE  \\\n",
       "0                               2 E 55th St Unit 803       New York, NY 10022   \n",
       "1  Central Park Tower Penthouse-217 W 57th New Yo...       New York, NY 10019   \n",
       "2                                   620 Sinclair Ave  Staten Island, NY 10312   \n",
       "3                            2 E 55th St Unit 908W33      Manhattan, NY 10022   \n",
       "4                                        5 E 64th St       New York, NY 10065   \n",
       "\n",
       "                                        MAIN_ADDRESS  \\\n",
       "0             2 E 55th St Unit 803New York, NY 10022   \n",
       "1  Central Park Tower Penthouse-217 W 57th New Yo...   \n",
       "2            620 Sinclair AveStaten Island, NY 10312   \n",
       "3         2 E 55th St Unit 908W33Manhattan, NY 10022   \n",
       "4                      5 E 64th StNew York, NY 10065   \n",
       "\n",
       "  ADMINISTRATIVE_AREA_LEVEL_2  LOCALITY      SUBLOCALITY       STREET_NAME  \\\n",
       "0             New York County  New York        Manhattan  East 55th Street   \n",
       "1               United States  New York  New York County          New York   \n",
       "2               United States  New York  Richmond County     Staten Island   \n",
       "3               United States  New York  New York County          New York   \n",
       "4               United States  New York  New York County          New York   \n",
       "\n",
       "          LONG_NAME                                  FORMATTED_ADDRESS  \\\n",
       "0   Regis Residence  Regis Residence, 2 E 55th St #803, New York, N...   \n",
       "1  West 57th Street             217 W 57th St, New York, NY 10019, USA   \n",
       "2   Sinclair Avenue     620 Sinclair Ave, Staten Island, NY 10312, USA   \n",
       "3  East 55th Street               2 E 55th St, New York, NY 10022, USA   \n",
       "4  East 64th Street               5 E 64th St, New York, NY 10065, USA   \n",
       "\n",
       "    LATITUDE  LONGITUDE  NEAREST_SUB_STATION  \n",
       "0  40.761255 -73.974483             0.084535  \n",
       "1  40.766393 -73.980991             0.120612  \n",
       "2  40.541805 -74.196109             0.605279  \n",
       "3  40.761398 -73.974613             0.090788  \n",
       "4  40.767224 -73.969856             0.247496  "
      ]
     },
     "execution_count": 148,
     "metadata": {},
     "output_type": "execute_result"
    }
   ],
   "source": [
    "house_df.head()"
   ]
  },
  {
   "cell_type": "code",
   "execution_count": 149,
   "metadata": {},
   "outputs": [
    {
     "name": "stdout",
     "output_type": "stream",
     "text": [
      "18 total features after feature engineering\n",
      "Features:  ['BROKERTITLE', 'TYPE', 'PRICE', 'BEDS', 'BATH', 'PROPERTYSQFT', 'ADDRESS', 'STATE', 'MAIN_ADDRESS', 'ADMINISTRATIVE_AREA_LEVEL_2', 'LOCALITY', 'SUBLOCALITY', 'STREET_NAME', 'LONG_NAME', 'FORMATTED_ADDRESS', 'LATITUDE', 'LONGITUDE', 'NEAREST_SUB_STATION']\n"
     ]
    }
   ],
   "source": [
    "print(len(list(house_df.columns)), \"total features after feature engineering\")\n",
    "print(\"Features: \", list(house_df.columns))"
   ]
  },
  {
   "cell_type": "markdown",
   "metadata": {},
   "source": [
    "### Analysis of Numerical Variables"
   ]
  },
  {
   "cell_type": "code",
   "execution_count": 150,
   "metadata": {},
   "outputs": [],
   "source": [
    "# Defining a function to safely drop columns (in case certain cells get run twice)\n",
    "def drop_column(column_name):\n",
    "    if column_name in house_df.columns:\n",
    "        house_df.drop(column_name, axis=1, inplace=True)"
   ]
  },
  {
   "cell_type": "markdown",
   "metadata": {},
   "source": [
    "#### Missing Values"
   ]
  },
  {
   "cell_type": "code",
   "execution_count": 151,
   "metadata": {},
   "outputs": [
    {
     "name": "stdout",
     "output_type": "stream",
     "text": [
      "0 instances in PRICE  have been filled with the mean value of the column\n",
      "0 instances in BEDS  have been filled with the mean value of the column\n",
      "302 instances in BATH  have been filled with the mean value of the column\n",
      "1621 instances in PROPERTYSQFT  have been filled with the mean value of the column\n",
      "21 instances in LATITUDE  have been filled with the mean value of the column\n",
      "28 instances in LONGITUDE  have been filled with the mean value of the column\n",
      "0 instances in NEAREST_SUB_STATION  have been filled with the mean value of the column\n"
     ]
    }
   ],
   "source": [
    "# It appears that in this dataset, missing values are filled in with the mean value for the column\n",
    "# We want to identify columns with potentially large numbers of missing values\n",
    "\n",
    "def num_filled(colName):\n",
    "    mean_val = np.mean(house_df[colName])\n",
    "    is_close = np.isclose(house_df[colName], mean_val, atol=1e-9)\n",
    "    return sum(is_close)\n",
    "\n",
    "for column in house_df:\n",
    "    if(pd_types.is_numeric_dtype(house_df[column])):\n",
    "        print(num_filled(column), \"instances in\", column, \" have been filled with the mean value of the column\")"
   ]
  },
  {
   "cell_type": "markdown",
   "metadata": {},
   "source": [
    "### Analysis of Categorical Features"
   ]
  },
  {
   "cell_type": "markdown",
   "metadata": {},
   "source": [
    "Categorical features with very high cardinality, warrant inspection for the following reasons:\n",
    "* Insufficient number of samples per category\n",
    "* Increase of computational complexity to encode\n",
    "* Lead to overfitting if model memorizes categories rather than learning patterns"
   ]
  },
  {
   "cell_type": "code",
   "execution_count": 152,
   "metadata": {},
   "outputs": [
    {
     "data": {
      "text/html": [
       "<div>\n",
       "<style scoped>\n",
       "    .dataframe tbody tr th:only-of-type {\n",
       "        vertical-align: middle;\n",
       "    }\n",
       "\n",
       "    .dataframe tbody tr th {\n",
       "        vertical-align: top;\n",
       "    }\n",
       "\n",
       "    .dataframe thead th {\n",
       "        text-align: right;\n",
       "    }\n",
       "</style>\n",
       "<table border=\"1\" class=\"dataframe\">\n",
       "  <thead>\n",
       "    <tr style=\"text-align: right;\">\n",
       "      <th></th>\n",
       "      <th>Categorical Feature</th>\n",
       "      <th>Cardinality</th>\n",
       "    </tr>\n",
       "  </thead>\n",
       "  <tbody>\n",
       "    <tr>\n",
       "      <th>0</th>\n",
       "      <td>BROKERTITLE</td>\n",
       "      <td>1036</td>\n",
       "    </tr>\n",
       "    <tr>\n",
       "      <th>1</th>\n",
       "      <td>TYPE</td>\n",
       "      <td>13</td>\n",
       "    </tr>\n",
       "    <tr>\n",
       "      <th>2</th>\n",
       "      <td>ADDRESS</td>\n",
       "      <td>4582</td>\n",
       "    </tr>\n",
       "    <tr>\n",
       "      <th>3</th>\n",
       "      <td>STATE</td>\n",
       "      <td>308</td>\n",
       "    </tr>\n",
       "    <tr>\n",
       "      <th>4</th>\n",
       "      <td>MAIN_ADDRESS</td>\n",
       "      <td>4583</td>\n",
       "    </tr>\n",
       "    <tr>\n",
       "      <th>5</th>\n",
       "      <td>ADMINISTRATIVE_AREA_LEVEL_2</td>\n",
       "      <td>29</td>\n",
       "    </tr>\n",
       "    <tr>\n",
       "      <th>6</th>\n",
       "      <td>LOCALITY</td>\n",
       "      <td>11</td>\n",
       "    </tr>\n",
       "    <tr>\n",
       "      <th>7</th>\n",
       "      <td>SUBLOCALITY</td>\n",
       "      <td>21</td>\n",
       "    </tr>\n",
       "    <tr>\n",
       "      <th>8</th>\n",
       "      <td>STREET_NAME</td>\n",
       "      <td>174</td>\n",
       "    </tr>\n",
       "    <tr>\n",
       "      <th>9</th>\n",
       "      <td>LONG_NAME</td>\n",
       "      <td>2731</td>\n",
       "    </tr>\n",
       "    <tr>\n",
       "      <th>10</th>\n",
       "      <td>FORMATTED_ADDRESS</td>\n",
       "      <td>4550</td>\n",
       "    </tr>\n",
       "  </tbody>\n",
       "</table>\n",
       "</div>"
      ],
      "text/plain": [
       "            Categorical Feature  Cardinality\n",
       "0                   BROKERTITLE         1036\n",
       "1                          TYPE           13\n",
       "2                       ADDRESS         4582\n",
       "3                         STATE          308\n",
       "4                  MAIN_ADDRESS         4583\n",
       "5   ADMINISTRATIVE_AREA_LEVEL_2           29\n",
       "6                      LOCALITY           11\n",
       "7                   SUBLOCALITY           21\n",
       "8                   STREET_NAME          174\n",
       "9                     LONG_NAME         2731\n",
       "10            FORMATTED_ADDRESS         4550"
      ]
     },
     "execution_count": 152,
     "metadata": {},
     "output_type": "execute_result"
    }
   ],
   "source": [
    "categorical_columns = ['BROKERTITLE', 'TYPE', 'ADDRESS', 'STATE', 'MAIN_ADDRESS', 'ADMINISTRATIVE_AREA_LEVEL_2', 'LOCALITY', 'SUBLOCALITY', 'STREET_NAME', 'LONG_NAME', 'FORMATTED_ADDRESS']\n",
    "cardinalities = []\n",
    "\n",
    "for column in categorical_columns:\n",
    "    cardinalities.append(len(house_df[column].unique()))\n",
    "    \n",
    "df = pd.DataFrame({\"Categorical Feature\" :categorical_columns, \"Cardinality\":cardinalities})\n",
    "df"
   ]
  },
  {
   "cell_type": "markdown",
   "metadata": {},
   "source": [
    "#### BROKERTITLE"
   ]
  },
  {
   "cell_type": "code",
   "execution_count": 153,
   "metadata": {},
   "outputs": [
    {
     "name": "stdout",
     "output_type": "stream",
     "text": [
      "10 brokers have at least 1% of total samples\n",
      "Together, these 10 brokers represent  1124 samples\n",
      "\n",
      "Number of properties brokered by various brokers: \n"
     ]
    },
    {
     "data": {
      "text/plain": [
       "Brokered by COMPASS                              456\n",
       "Brokered by Douglas Elliman - 575 Madison Ave    110\n",
       "Brokered by Brown Harris Stevens                  93\n",
       "Brokered by Corcoran East Side                    91\n",
       "Brokered by RE MAX Edge                           79\n",
       "                                                ... \n",
       "Brokered by Gerard R Desgranges                    1\n",
       "Brokered by Property Professional Realty           1\n",
       "Brokered by Mark Murphy Properties                 1\n",
       "Brokered by S Sharf Realty Inc                     1\n",
       "Brokered by New York Way Real Estate Corp          1\n",
       "Name: BROKERTITLE, Length: 1036, dtype: int64"
      ]
     },
     "execution_count": 153,
     "metadata": {},
     "output_type": "execute_result"
    }
   ],
   "source": [
    "broker_counts = house_df[\"BROKERTITLE\"].value_counts()\n",
    "threshold = len(house_df) * .01 # Determine a \"rare\" category to be one with fewer than 1% of total examples\n",
    "print(len(broker_counts[broker_counts > threshold]), \"brokers have at least 1% of total samples\")\n",
    "print(\"Together, these 10 brokers represent \", broker_counts[broker_counts > threshold].sum(), \"samples\")\n",
    "print(\"\\nNumber of properties brokered by various brokers: \")\n",
    "broker_counts"
   ]
  },
  {
   "cell_type": "markdown",
   "metadata": {},
   "source": [
    "There are some brokers with a significant number of samples in the dataset. Specifically, 10 brokers have at least 49 representative samples (1% of total). However, the vast majority of BROKERTITLE categories are rare (ie contain less than 1%) and many contain just a couple examples."
   ]
  },
  {
   "cell_type": "code",
   "execution_count": 154,
   "metadata": {},
   "outputs": [
    {
     "name": "stdout",
     "output_type": "stream",
     "text": [
      "Pearson Correlation:  0.008\n",
      "Spearmen Correlation:  0.233\n",
      "Kendall Correlation:  0.159\n"
     ]
    }
   ],
   "source": [
    "property_broker_counts = house_df[\"BROKERTITLE\"].map(broker_counts)\n",
    "\n",
    "print(\"Pearson Correlation: \", np.round(property_broker_counts.corr(house_df[\"PRICE\"], method=\"pearson\"),3))\n",
    "print(\"Spearmen Correlation: \", np.round(property_broker_counts.corr(house_df[\"PRICE\"], method=\"spearman\"),3))\n",
    "print(\"Kendall Correlation: \", np.round(property_broker_counts.corr(house_df[\"PRICE\"], method=\"kendall\"),3))\n"
   ]
  },
  {
   "cell_type": "markdown",
   "metadata": {},
   "source": [
    "The list property_broker_counts is a frequency encoding of BROKERTITLE. The low pearson correlation coefficient suggests no linear relationship between property_broker_counts and PRICE. However, the moderate values of Spearmen and Kendall correlation suggest some monotonic relationship between the number of properties sold by a broker and the PRICE. As one increases, so too does the other, but not at a constant rate. There seems to be some signal contained within the BROKERTITLE variable.\n",
    "\n",
    "The high cardinality of BROKERTITLE, the large number of rare categories, and the seemingly ordinal relationship have led us to a few possibilities:\n",
    "1. Group categories with fewer than 1% of representative samples into an \"other\" category\n",
    "2. Use a frequency encoding\n",
    "3. Encode BROKERTITLE into a BROKER_ACTIVITY feature containing the categories low activity, medium activity, and high activity\n",
    "\n",
    "Option 1 will result in 11 total categories and rougly 3/4 of the data belonging to the \"other\" category. \n",
    "Option 2 will also result in a skewed distribution\n",
    "\n",
    "Our judgement suggests that option 3 may be the most balanced solution that simplifies the feature's cardinality while maintaining the ordinal relationship, and limits highly skewed distributions."
   ]
  },
  {
   "cell_type": "code",
   "execution_count": 155,
   "metadata": {},
   "outputs": [
    {
     "data": {
      "text/html": [
       "<div>\n",
       "<style scoped>\n",
       "    .dataframe tbody tr th:only-of-type {\n",
       "        vertical-align: middle;\n",
       "    }\n",
       "\n",
       "    .dataframe tbody tr th {\n",
       "        vertical-align: top;\n",
       "    }\n",
       "\n",
       "    .dataframe thead th {\n",
       "        text-align: right;\n",
       "    }\n",
       "</style>\n",
       "<table border=\"1\" class=\"dataframe\">\n",
       "  <thead>\n",
       "    <tr style=\"text-align: right;\">\n",
       "      <th></th>\n",
       "      <th>Activity Level</th>\n",
       "      <th>BROKER_ACTIVITY</th>\n",
       "      <th>Number of Samples</th>\n",
       "    </tr>\n",
       "  </thead>\n",
       "  <tbody>\n",
       "    <tr>\n",
       "      <th>1</th>\n",
       "      <td>Low</td>\n",
       "      <td>0</td>\n",
       "      <td>1708</td>\n",
       "    </tr>\n",
       "    <tr>\n",
       "      <th>2</th>\n",
       "      <td>Medium</td>\n",
       "      <td>1</td>\n",
       "      <td>1217</td>\n",
       "    </tr>\n",
       "    <tr>\n",
       "      <th>0</th>\n",
       "      <td>High</td>\n",
       "      <td>2</td>\n",
       "      <td>1876</td>\n",
       "    </tr>\n",
       "  </tbody>\n",
       "</table>\n",
       "</div>"
      ],
      "text/plain": [
       "  Activity Level  BROKER_ACTIVITY  Number of Samples\n",
       "1            Low                0               1708\n",
       "2         Medium                1               1217\n",
       "0           High                2               1876"
      ]
     },
     "execution_count": 155,
     "metadata": {},
     "output_type": "execute_result"
    }
   ],
   "source": [
    "if \"BROKER_ACTIVITY\" not in house_df.columns:\n",
    "    broker_counts[broker_counts < 7] = 0 # Brokers with fewer than 7 examples are considered low\n",
    "    broker_counts[(broker_counts <= 25) & (broker_counts >= 7)] = 1 # Brokers with between 7 and 25 are coonsidered medium\n",
    "    broker_counts[broker_counts > 25] = 2 # Brokers with more than 25 examples are considered high activity\n",
    "    \n",
    "    house_df[\"BROKER_ACTIVITY\"] = house_df[\"BROKERTITLE\"].map(broker_counts)\n",
    "    house_df.drop(\"BROKERTITLE\", axis=1, inplace=True)\n",
    "\n",
    "# Output distribution of categories\n",
    "df = pd.DataFrame(house_df[\"BROKER_ACTIVITY\"].value_counts())\n",
    "df.reset_index(inplace=True)\n",
    "df.columns = [\"BROKER_ACTIVITY\", \"Number of Samples\"]\n",
    "df = df.sort_values(by=\"BROKER_ACTIVITY\")\n",
    "df[\"Activity Level\"] = ['Low', 'Medium', 'High']\n",
    "df = df[[\"Activity Level\", \"BROKER_ACTIVITY\", \"Number of Samples\"]]\n",
    "df\n",
    "\n"
   ]
  },
  {
   "cell_type": "markdown",
   "metadata": {},
   "source": [
    "Admittedly, the cutoff points of 7 and 25 were somewhat arbitrary; however, we did try various values before finding ones that we were satisfied with the resulting class distribution. An alternative approach would have been to use values that perfectly divided the classes (or as close as possible), but we felt this was unecessary."
   ]
  },
  {
   "cell_type": "markdown",
   "metadata": {},
   "source": [
    "#### Type"
   ]
  },
  {
   "cell_type": "code",
   "execution_count": 156,
   "metadata": {},
   "outputs": [
    {
     "data": {
      "text/html": [
       "<div>\n",
       "<style scoped>\n",
       "    .dataframe tbody tr th:only-of-type {\n",
       "        vertical-align: middle;\n",
       "    }\n",
       "\n",
       "    .dataframe tbody tr th {\n",
       "        vertical-align: top;\n",
       "    }\n",
       "\n",
       "    .dataframe thead th {\n",
       "        text-align: right;\n",
       "    }\n",
       "</style>\n",
       "<table border=\"1\" class=\"dataframe\">\n",
       "  <thead>\n",
       "    <tr style=\"text-align: right;\">\n",
       "      <th></th>\n",
       "      <th>TYPE</th>\n",
       "      <th>Proportion of Samples</th>\n",
       "    </tr>\n",
       "  </thead>\n",
       "  <tbody>\n",
       "    <tr>\n",
       "      <th>0</th>\n",
       "      <td>Co-op for sale</td>\n",
       "      <td>0.302020</td>\n",
       "    </tr>\n",
       "    <tr>\n",
       "      <th>1</th>\n",
       "      <td>House for sale</td>\n",
       "      <td>0.210789</td>\n",
       "    </tr>\n",
       "    <tr>\n",
       "      <th>2</th>\n",
       "      <td>Condo for sale</td>\n",
       "      <td>0.185586</td>\n",
       "    </tr>\n",
       "    <tr>\n",
       "      <th>3</th>\n",
       "      <td>Multi-family home for sale</td>\n",
       "      <td>0.151427</td>\n",
       "    </tr>\n",
       "    <tr>\n",
       "      <th>4</th>\n",
       "      <td>Townhouse for sale</td>\n",
       "      <td>0.062279</td>\n",
       "    </tr>\n",
       "    <tr>\n",
       "      <th>5</th>\n",
       "      <td>Pending</td>\n",
       "      <td>0.050614</td>\n",
       "    </tr>\n",
       "    <tr>\n",
       "      <th>6</th>\n",
       "      <td>Contingent</td>\n",
       "      <td>0.018330</td>\n",
       "    </tr>\n",
       "    <tr>\n",
       "      <th>7</th>\n",
       "      <td>Land for sale</td>\n",
       "      <td>0.010206</td>\n",
       "    </tr>\n",
       "    <tr>\n",
       "      <th>8</th>\n",
       "      <td>For sale</td>\n",
       "      <td>0.004166</td>\n",
       "    </tr>\n",
       "    <tr>\n",
       "      <th>9</th>\n",
       "      <td>Foreclosure</td>\n",
       "      <td>0.002916</td>\n",
       "    </tr>\n",
       "    <tr>\n",
       "      <th>10</th>\n",
       "      <td>Condop for sale</td>\n",
       "      <td>0.001041</td>\n",
       "    </tr>\n",
       "    <tr>\n",
       "      <th>11</th>\n",
       "      <td>Coming Soon</td>\n",
       "      <td>0.000417</td>\n",
       "    </tr>\n",
       "    <tr>\n",
       "      <th>12</th>\n",
       "      <td>Mobile house for sale</td>\n",
       "      <td>0.000208</td>\n",
       "    </tr>\n",
       "  </tbody>\n",
       "</table>\n",
       "</div>"
      ],
      "text/plain": [
       "                          TYPE  Proportion of Samples\n",
       "0               Co-op for sale               0.302020\n",
       "1               House for sale               0.210789\n",
       "2               Condo for sale               0.185586\n",
       "3   Multi-family home for sale               0.151427\n",
       "4           Townhouse for sale               0.062279\n",
       "5                      Pending               0.050614\n",
       "6                   Contingent               0.018330\n",
       "7                Land for sale               0.010206\n",
       "8                     For sale               0.004166\n",
       "9                  Foreclosure               0.002916\n",
       "10             Condop for sale               0.001041\n",
       "11                 Coming Soon               0.000417\n",
       "12       Mobile house for sale               0.000208"
      ]
     },
     "execution_count": 156,
     "metadata": {},
     "output_type": "execute_result"
    }
   ],
   "source": [
    "type = house_df[\"TYPE\"]\n",
    "type_values = type.value_counts(normalize=True)\n",
    "df = type_values.reset_index()\n",
    "df.columns= [\"TYPE\", \"Proportion of Samples\"]\n",
    "df"
   ]
  },
  {
   "cell_type": "markdown",
   "metadata": {},
   "source": [
    "For TYPE, the cardinality isn't too high; however, there are some categories with an insuficcient number of samples. To handle this feature, I will group categories under the 1% threshold into a singular \"other\" category."
   ]
  },
  {
   "cell_type": "code",
   "execution_count": 157,
   "metadata": {},
   "outputs": [],
   "source": [
    "if \"Other\" not in house_df[\"TYPE\"].unique(): # Prevent from running the follwoing code twice\n",
    "    house_df[house_df[\"TYPE\"].map(type_values < .01)] = \"Other\"\n",
    "    \n"
   ]
  },
  {
   "cell_type": "markdown",
   "metadata": {},
   "source": [
    "#### ADDRESS, MAIN_ADDRESS, FORMATTED_ADDRESS"
   ]
  },
  {
   "cell_type": "markdown",
   "metadata": {},
   "source": [
    "Not only is there high multicolinearity between these features, but they are nearly unique to each observation, meaning there is nearly no predicitve power within these features. \n",
    "\n",
    "They may conatin useful information such as zip code or street name, but this information is also contained within other columns (which we will discuss later)\n",
    "\n",
    "For these reasons, we have decided to drop these features."
   ]
  },
  {
   "cell_type": "code",
   "execution_count": 158,
   "metadata": {},
   "outputs": [],
   "source": [
    "drop_column(\"ADDRESS\")\n",
    "drop_column(\"MAIN_ADDRESS\")\n",
    "drop_column(\"FORMATTED_ADDRESS\")"
   ]
  },
  {
   "cell_type": "markdown",
   "metadata": {},
   "source": [
    "#### STREET_NAME"
   ]
  },
  {
   "cell_type": "code",
   "execution_count": 159,
   "metadata": {},
   "outputs": [
    {
     "name": "stdout",
     "output_type": "stream",
     "text": [
      "174  unique categories for STREET_NAME\n"
     ]
    },
    {
     "data": {
      "text/plain": [
       "0    East 55th Street\n",
       "1            New York\n",
       "2       Staten Island\n",
       "3            New York\n",
       "4            New York\n",
       "5            Brooklyn\n",
       "6           Manhattan\n",
       "7       Staten Island\n",
       "8     Morrison Avenue\n",
       "9             Midwood\n",
       "Name: STREET_NAME, dtype: object"
      ]
     },
     "execution_count": 159,
     "metadata": {},
     "output_type": "execute_result"
    }
   ],
   "source": [
    "print(len(house_df[\"STREET_NAME\"].unique()), \" unique categories for STREET_NAME\")\n",
    "house_df[\"STREET_NAME\"].head(10)"
   ]
  },
  {
   "cell_type": "markdown",
   "metadata": {},
   "source": [
    "It appears that STREET_NAME was extracted as the second token in the formatted address. Unfortunately, this seems to be an unreliable method to extract the street name and it instead appears to be a mix of street name, county, and state information. We will drop this feature."
   ]
  },
  {
   "cell_type": "code",
   "execution_count": 160,
   "metadata": {},
   "outputs": [],
   "source": [
    "drop_column(\"STREET_NAME\")"
   ]
  },
  {
   "cell_type": "markdown",
   "metadata": {},
   "source": [
    "#### LONG_NAME"
   ]
  },
  {
   "cell_type": "code",
   "execution_count": 161,
   "metadata": {},
   "outputs": [
    {
     "name": "stdout",
     "output_type": "stream",
     "text": [
      "2721  unique categories for LONG_NAME\n"
     ]
    },
    {
     "data": {
      "text/plain": [
       "0     Regis Residence\n",
       "1    West 57th Street\n",
       "2     Sinclair Avenue\n",
       "3    East 55th Street\n",
       "4    East 64th Street\n",
       "5          Park Place\n",
       "6                 157\n",
       "7       Benedict Road\n",
       "8         Parking lot\n",
       "9                1350\n",
       "Name: LONG_NAME, dtype: object"
      ]
     },
     "execution_count": 161,
     "metadata": {},
     "output_type": "execute_result"
    }
   ],
   "source": [
    "print(len(house_df[\"LONG_NAME\"].unique()), \" unique categories for LONG_NAME\")\n",
    "\n",
    "house_df[\"LONG_NAME\"].head(10)"
   ]
  },
  {
   "cell_type": "markdown",
   "metadata": {},
   "source": [
    "LONG_NAME appears to suffer from the same issues as STREET_NAME, additionally, it has incredibly high cardinality. Due to reliability concerns, this feature will also be dropped."
   ]
  },
  {
   "cell_type": "code",
   "execution_count": 162,
   "metadata": {},
   "outputs": [],
   "source": [
    "drop_column(\"LONG_NAME\")"
   ]
  },
  {
   "cell_type": "markdown",
   "metadata": {},
   "source": [
    "#### SUBLOCALITY"
   ]
  },
  {
   "cell_type": "code",
   "execution_count": 163,
   "metadata": {},
   "outputs": [
    {
     "data": {
      "text/plain": [
       "New York            999\n",
       "Kings County        720\n",
       "Queens County       681\n",
       "Queens              555\n",
       "Richmond County     472\n",
       "Brooklyn            463\n",
       "Bronx County        306\n",
       "New York County     282\n",
       "The Bronx           184\n",
       "Staten Island        59\n",
       "Other                42\n",
       "Manhattan            20\n",
       "Riverdale             4\n",
       "Flushing              4\n",
       "Coney Island          3\n",
       "East Bronx            1\n",
       "Brooklyn Heights      1\n",
       "Jackson Heights       1\n",
       "Rego Park             1\n",
       "Fort Hamilton         1\n",
       "Name: SUBLOCALITY, dtype: int64"
      ]
     },
     "execution_count": 163,
     "metadata": {},
     "output_type": "execute_result"
    }
   ],
   "source": [
    "house_df[\"SUBLOCALITY\"].unique()\n",
    "house_df[\"SUBLOCALITY\"].value_counts().head(20)"
   ]
  },
  {
   "cell_type": "markdown",
   "metadata": {},
   "source": [
    "SUBLOCALITY contains information on the boroughs and neighborhoods in NYC. I like this concept, especially the bouroughs, as this could capture some information about the socioeconomic status of the broad region of a property. However, after reviewing LONG_NAME and STATE_NAME I am concerned about the overall reliability of this feature and the mix of neighborhoods and bouroughs. \n",
    "\n",
    "I will drop this feature and instead use feature engineering from the zip-code to create a feature for bourough. "
   ]
  },
  {
   "cell_type": "code",
   "execution_count": 164,
   "metadata": {},
   "outputs": [],
   "source": [
    "drop_column(\"SUBLOCALITY\")"
   ]
  },
  {
   "cell_type": "markdown",
   "metadata": {},
   "source": [
    "#### LOCALITY"
   ]
  },
  {
   "cell_type": "code",
   "execution_count": 165,
   "metadata": {},
   "outputs": [
    {
     "data": {
      "text/plain": [
       "array(['New York', 'New York County', 'The Bronx', 'Kings County',\n",
       "       'Bronx County', 'Queens County', 'Richmond County',\n",
       "       'United States', 'Other', 'Brooklyn', 'Queens', 'Flatbush'],\n",
       "      dtype=object)"
      ]
     },
     "execution_count": 165,
     "metadata": {},
     "output_type": "execute_result"
    }
   ],
   "source": [
    "house_df[\"LOCALITY\"].unique()\n"
   ]
  },
  {
   "cell_type": "markdown",
   "metadata": {},
   "source": [
    "Dropping this column for the same reason as SUBLOCALITY"
   ]
  },
  {
   "cell_type": "code",
   "execution_count": 166,
   "metadata": {},
   "outputs": [],
   "source": [
    "drop_column(\"LOCALITY\")"
   ]
  },
  {
   "cell_type": "markdown",
   "metadata": {},
   "source": [
    "#### STATE"
   ]
  },
  {
   "cell_type": "code",
   "execution_count": 167,
   "metadata": {},
   "outputs": [
    {
     "name": "stdout",
     "output_type": "stream",
     "text": [
      "307  unique categories for STATE\n"
     ]
    },
    {
     "data": {
      "text/plain": [
       "0         New York, NY 10022\n",
       "1         New York, NY 10019\n",
       "2    Staten Island, NY 10312\n",
       "3        Manhattan, NY 10022\n",
       "4         New York, NY 10065\n",
       "Name: STATE, dtype: object"
      ]
     },
     "execution_count": 167,
     "metadata": {},
     "output_type": "execute_result"
    }
   ],
   "source": [
    "state = house_df[\"STATE\"]\n",
    "print(len(state.unique()), \" unique categories for STATE\")\n",
    "state.head()"
   ]
  },
  {
   "cell_type": "markdown",
   "metadata": {},
   "source": [
    "STATE is a feature with high cardinality. It also appears that the end of each STATE string is the zip code. Let's focus on this part for now..."
   ]
  },
  {
   "cell_type": "code",
   "execution_count": 168,
   "metadata": {},
   "outputs": [
    {
     "name": "stdout",
     "output_type": "stream",
     "text": [
      "179 uniqe zip-code categories\n",
      "29  zip-codes have at least 1% of total samples\n"
     ]
    }
   ],
   "source": [
    "# Replace STATE Feature with extracted ZIP_CODE feature\n",
    "house_df[\"zip\"] = state.apply(lambda x: x.split()[-1])\n",
    "print(len(house_df[\"zip\"].unique()), \"uniqe zip-code categories\")\n",
    "\n",
    "print((house_df[\"zip\"].value_counts(normalize=True) > .01).sum(), \" zip-codes have at least 1% of total samples\")"
   ]
  },
  {
   "cell_type": "markdown",
   "metadata": {},
   "source": [
    "The zip-code may contain valuable information regarding price. To overcoome the sparsity and high cardinality, we will map the zip-codes into the bouroughs of NYC they belong in."
   ]
  },
  {
   "cell_type": "code",
   "execution_count": 169,
   "metadata": {},
   "outputs": [
    {
     "data": {
      "text/html": [
       "<div>\n",
       "<style scoped>\n",
       "    .dataframe tbody tr th:only-of-type {\n",
       "        vertical-align: middle;\n",
       "    }\n",
       "\n",
       "    .dataframe tbody tr th {\n",
       "        vertical-align: top;\n",
       "    }\n",
       "\n",
       "    .dataframe thead th {\n",
       "        text-align: right;\n",
       "    }\n",
       "</style>\n",
       "<table border=\"1\" class=\"dataframe\">\n",
       "  <thead>\n",
       "    <tr style=\"text-align: right;\">\n",
       "      <th></th>\n",
       "      <th>zip</th>\n",
       "      <th>borough</th>\n",
       "    </tr>\n",
       "  </thead>\n",
       "  <tbody>\n",
       "    <tr>\n",
       "      <th>0</th>\n",
       "      <td>10001</td>\n",
       "      <td>Manhattan</td>\n",
       "    </tr>\n",
       "    <tr>\n",
       "      <th>1</th>\n",
       "      <td>10002</td>\n",
       "      <td>Manhattan</td>\n",
       "    </tr>\n",
       "    <tr>\n",
       "      <th>2</th>\n",
       "      <td>10003</td>\n",
       "      <td>Manhattan</td>\n",
       "    </tr>\n",
       "  </tbody>\n",
       "</table>\n",
       "</div>"
      ],
      "text/plain": [
       "     zip    borough\n",
       "0  10001  Manhattan\n",
       "1  10002  Manhattan\n",
       "2  10003  Manhattan"
      ]
     },
     "execution_count": 169,
     "metadata": {},
     "output_type": "execute_result"
    }
   ],
   "source": [
    "# Load in a mapping from zip code to bourough\n",
    "zip_borough_df = pd.read_csv(\"data/zip_borough.csv\")\n",
    "zip_borough_df[\"zip\"] = zip_borough_df[\"zip\"].astype(str)\n",
    "zip_borough_df.head(3)"
   ]
  },
  {
   "cell_type": "code",
   "execution_count": 170,
   "metadata": {},
   "outputs": [
    {
     "data": {
      "image/png": "[encoded data removed]",
      "text/plain": [
       "<Figure size 640x480 with 1 Axes>"
      ]
     },
     "metadata": {},
     "output_type": "display_data"
    }
   ],
   "source": [
    "if 'BOROUGH' not in house_df.columns:\n",
    "    house_df = house_df.merge(zip_borough_df, on=\"zip\", how='left')\n",
    "    house_df['BOROUGH'] = house_df['borough'].fillna('Other')\n",
    "    drop_column('borough')\n",
    "    drop_column(\"STATE\")\n",
    "    drop_column(\"zip\")\n",
    "    \n",
    "borough_counts = house_df['BOROUGH'].value_counts()\n",
    "\n",
    "borough_counts.plot(kind='bar')\n",
    "plt.xlabel('Borough')\n",
    "plt.ylabel(\"Number of Examples\")\n",
    "plt.title(\"Number of Examples Grouped By Borough\");"
   ]
  },
  {
   "cell_type": "markdown",
   "metadata": {},
   "source": [
    "#### ADMINISTRATIVE_AREA_LEVEL_2"
   ]
  },
  {
   "cell_type": "code",
   "execution_count": 172,
   "metadata": {},
   "outputs": [
    {
     "data": {
      "text/plain": [
       "array(['New York County', 'United States', 'New York', 'Bronx County',\n",
       "       '11214', '10301', 'Other', '10309', '10303', '11234', '11414',\n",
       "       '10310', '10003', '11417', '10304', 'Kings County', '10463',\n",
       "       'Queens County', '10017', '10306', '10471', '11229', '10312',\n",
       "       '11412', '10465', 'Brooklyn', '10002', '10466', '11237', '11218'],\n",
       "      dtype=object)"
      ]
     },
     "execution_count": 172,
     "metadata": {},
     "output_type": "execute_result"
    }
   ],
   "source": [
    "house_df[\"ADMINISTRATIVE_AREA_LEVEL_2\"].unique()"
   ]
  },
  {
   "cell_type": "markdown",
   "metadata": {},
   "source": [
    "This feature appears to be a mixture of zip-code, county, state, and country values. It appears to be unreliable and contains information already captured elsewhere, such as bourough. We will drop this feature."
   ]
  },
  {
   "cell_type": "code",
   "execution_count": 173,
   "metadata": {},
   "outputs": [],
   "source": [
    "drop_column(\"ADMINISTRATIVE_AREA_LEVEL_2\")"
   ]
  },
  {
   "cell_type": "code",
   "execution_count": 174,
   "metadata": {},
   "outputs": [
    {
     "data": {
      "text/html": [
       "<div>\n",
       "<style scoped>\n",
       "    .dataframe tbody tr th:only-of-type {\n",
       "        vertical-align: middle;\n",
       "    }\n",
       "\n",
       "    .dataframe tbody tr th {\n",
       "        vertical-align: top;\n",
       "    }\n",
       "\n",
       "    .dataframe thead th {\n",
       "        text-align: right;\n",
       "    }\n",
       "</style>\n",
       "<table border=\"1\" class=\"dataframe\">\n",
       "  <thead>\n",
       "    <tr style=\"text-align: right;\">\n",
       "      <th></th>\n",
       "      <th>TYPE</th>\n",
       "      <th>PRICE</th>\n",
       "      <th>BEDS</th>\n",
       "      <th>BATH</th>\n",
       "      <th>PROPERTYSQFT</th>\n",
       "      <th>LATITUDE</th>\n",
       "      <th>LONGITUDE</th>\n",
       "      <th>NEAREST_SUB_STATION</th>\n",
       "      <th>BROKER_ACTIVITY</th>\n",
       "      <th>BOROUGH</th>\n",
       "    </tr>\n",
       "  </thead>\n",
       "  <tbody>\n",
       "    <tr>\n",
       "      <th>0</th>\n",
       "      <td>Condo for sale</td>\n",
       "      <td>315000</td>\n",
       "      <td>2</td>\n",
       "      <td>2.0</td>\n",
       "      <td>1400.0</td>\n",
       "      <td>40.761255</td>\n",
       "      <td>-73.974483</td>\n",
       "      <td>0.084535</td>\n",
       "      <td>2</td>\n",
       "      <td>Manhattan</td>\n",
       "    </tr>\n",
       "    <tr>\n",
       "      <th>1</th>\n",
       "      <td>Condo for sale</td>\n",
       "      <td>195000000</td>\n",
       "      <td>7</td>\n",
       "      <td>10.0</td>\n",
       "      <td>17545.0</td>\n",
       "      <td>40.766393</td>\n",
       "      <td>-73.980991</td>\n",
       "      <td>0.120612</td>\n",
       "      <td>2</td>\n",
       "      <td>Manhattan</td>\n",
       "    </tr>\n",
       "    <tr>\n",
       "      <th>2</th>\n",
       "      <td>House for sale</td>\n",
       "      <td>260000</td>\n",
       "      <td>4</td>\n",
       "      <td>2.0</td>\n",
       "      <td>2015.0</td>\n",
       "      <td>40.541805</td>\n",
       "      <td>-74.196109</td>\n",
       "      <td>0.605279</td>\n",
       "      <td>2</td>\n",
       "      <td>Staten</td>\n",
       "    </tr>\n",
       "    <tr>\n",
       "      <th>3</th>\n",
       "      <td>Condo for sale</td>\n",
       "      <td>69000</td>\n",
       "      <td>3</td>\n",
       "      <td>1.0</td>\n",
       "      <td>445.0</td>\n",
       "      <td>40.761398</td>\n",
       "      <td>-73.974613</td>\n",
       "      <td>0.090788</td>\n",
       "      <td>2</td>\n",
       "      <td>Manhattan</td>\n",
       "    </tr>\n",
       "    <tr>\n",
       "      <th>4</th>\n",
       "      <td>Townhouse for sale</td>\n",
       "      <td>55000000</td>\n",
       "      <td>7</td>\n",
       "      <td>2.373861</td>\n",
       "      <td>14175.0</td>\n",
       "      <td>40.767224</td>\n",
       "      <td>-73.969856</td>\n",
       "      <td>0.247496</td>\n",
       "      <td>2</td>\n",
       "      <td>Other</td>\n",
       "    </tr>\n",
       "    <tr>\n",
       "      <th>5</th>\n",
       "      <td>House for sale</td>\n",
       "      <td>690000</td>\n",
       "      <td>5</td>\n",
       "      <td>2.0</td>\n",
       "      <td>4004.0</td>\n",
       "      <td>40.674363</td>\n",
       "      <td>-73.958725</td>\n",
       "      <td>0.064344</td>\n",
       "      <td>2</td>\n",
       "      <td>Brooklyn</td>\n",
       "    </tr>\n",
       "    <tr>\n",
       "      <th>6</th>\n",
       "      <td>Condo for sale</td>\n",
       "      <td>899500</td>\n",
       "      <td>2</td>\n",
       "      <td>2.0</td>\n",
       "      <td>2184.207862</td>\n",
       "      <td>40.809448</td>\n",
       "      <td>-73.946777</td>\n",
       "      <td>0.134839</td>\n",
       "      <td>2</td>\n",
       "      <td>Manhattan</td>\n",
       "    </tr>\n",
       "    <tr>\n",
       "      <th>7</th>\n",
       "      <td>House for sale</td>\n",
       "      <td>16800000</td>\n",
       "      <td>8</td>\n",
       "      <td>16.0</td>\n",
       "      <td>33000.0</td>\n",
       "      <td>40.595002</td>\n",
       "      <td>-74.106424</td>\n",
       "      <td>0.803902</td>\n",
       "      <td>0</td>\n",
       "      <td>Staten</td>\n",
       "    </tr>\n",
       "    <tr>\n",
       "      <th>8</th>\n",
       "      <td>Co-op for sale</td>\n",
       "      <td>265000</td>\n",
       "      <td>1</td>\n",
       "      <td>1.0</td>\n",
       "      <td>750.0</td>\n",
       "      <td>40.821586</td>\n",
       "      <td>-73.874089</td>\n",
       "      <td>0.548021</td>\n",
       "      <td>0</td>\n",
       "      <td>Bronx</td>\n",
       "    </tr>\n",
       "    <tr>\n",
       "      <th>9</th>\n",
       "      <td>Co-op for sale</td>\n",
       "      <td>440000</td>\n",
       "      <td>2</td>\n",
       "      <td>1.0</td>\n",
       "      <td>978.0</td>\n",
       "      <td>40.615738</td>\n",
       "      <td>-73.969694</td>\n",
       "      <td>0.240321</td>\n",
       "      <td>0</td>\n",
       "      <td>Brooklyn</td>\n",
       "    </tr>\n",
       "    <tr>\n",
       "      <th>10</th>\n",
       "      <td>Co-op for sale</td>\n",
       "      <td>375000</td>\n",
       "      <td>2</td>\n",
       "      <td>1.0</td>\n",
       "      <td>850.0</td>\n",
       "      <td>40.82487</td>\n",
       "      <td>-73.922983</td>\n",
       "      <td>0.251834</td>\n",
       "      <td>0</td>\n",
       "      <td>Bronx</td>\n",
       "    </tr>\n",
       "    <tr>\n",
       "      <th>11</th>\n",
       "      <td>Townhouse for sale</td>\n",
       "      <td>689000</td>\n",
       "      <td>3</td>\n",
       "      <td>2.373861</td>\n",
       "      <td>1162.0</td>\n",
       "      <td>40.624996</td>\n",
       "      <td>-74.155306</td>\n",
       "      <td>4.080462</td>\n",
       "      <td>1</td>\n",
       "      <td>Staten</td>\n",
       "    </tr>\n",
       "    <tr>\n",
       "      <th>12</th>\n",
       "      <td>Co-op for sale</td>\n",
       "      <td>259000</td>\n",
       "      <td>3</td>\n",
       "      <td>1.0</td>\n",
       "      <td>2184.207862</td>\n",
       "      <td>40.753119</td>\n",
       "      <td>-73.881876</td>\n",
       "      <td>0.388695</td>\n",
       "      <td>2</td>\n",
       "      <td>Queens</td>\n",
       "    </tr>\n",
       "    <tr>\n",
       "      <th>13</th>\n",
       "      <td>Co-op for sale</td>\n",
       "      <td>430000</td>\n",
       "      <td>2</td>\n",
       "      <td>2.0</td>\n",
       "      <td>2184.207862</td>\n",
       "      <td>40.743864</td>\n",
       "      <td>-73.874572</td>\n",
       "      <td>0.331341</td>\n",
       "      <td>1</td>\n",
       "      <td>Queens</td>\n",
       "    </tr>\n",
       "    <tr>\n",
       "      <th>14</th>\n",
       "      <td>Co-op for sale</td>\n",
       "      <td>895000</td>\n",
       "      <td>3</td>\n",
       "      <td>1.0</td>\n",
       "      <td>2184.207862</td>\n",
       "      <td>40.738298</td>\n",
       "      <td>-74.00589</td>\n",
       "      <td>0.201566</td>\n",
       "      <td>2</td>\n",
       "      <td>Manhattan</td>\n",
       "    </tr>\n",
       "    <tr>\n",
       "      <th>15</th>\n",
       "      <td>Condo for sale</td>\n",
       "      <td>549000</td>\n",
       "      <td>2</td>\n",
       "      <td>2.0</td>\n",
       "      <td>1000.0</td>\n",
       "      <td>40.540621</td>\n",
       "      <td>-74.167163</td>\n",
       "      <td>0.306681</td>\n",
       "      <td>0</td>\n",
       "      <td>Staten</td>\n",
       "    </tr>\n",
       "    <tr>\n",
       "      <th>16</th>\n",
       "      <td>Townhouse for sale</td>\n",
       "      <td>975000</td>\n",
       "      <td>3</td>\n",
       "      <td>2.0</td>\n",
       "      <td>1734.0</td>\n",
       "      <td>40.760768</td>\n",
       "      <td>-73.905667</td>\n",
       "      <td>0.544212</td>\n",
       "      <td>0</td>\n",
       "      <td>Queens</td>\n",
       "    </tr>\n",
       "    <tr>\n",
       "      <th>17</th>\n",
       "      <td>Co-op for sale</td>\n",
       "      <td>199000</td>\n",
       "      <td>3</td>\n",
       "      <td>1.0</td>\n",
       "      <td>325.0</td>\n",
       "      <td>40.618103</td>\n",
       "      <td>-74.036905</td>\n",
       "      <td>0.333054</td>\n",
       "      <td>0</td>\n",
       "      <td>Brooklyn</td>\n",
       "    </tr>\n",
       "    <tr>\n",
       "      <th>18</th>\n",
       "      <td>Co-op for sale</td>\n",
       "      <td>350000</td>\n",
       "      <td>1</td>\n",
       "      <td>1.0</td>\n",
       "      <td>700.0</td>\n",
       "      <td>40.90737</td>\n",
       "      <td>-73.906558</td>\n",
       "      <td>1.318364</td>\n",
       "      <td>0</td>\n",
       "      <td>Bronx</td>\n",
       "    </tr>\n",
       "    <tr>\n",
       "      <th>19</th>\n",
       "      <td>Condo for sale</td>\n",
       "      <td>599000</td>\n",
       "      <td>2</td>\n",
       "      <td>2.0</td>\n",
       "      <td>974.0</td>\n",
       "      <td>40.732471</td>\n",
       "      <td>-73.86708</td>\n",
       "      <td>0.120985</td>\n",
       "      <td>2</td>\n",
       "      <td>Queens</td>\n",
       "    </tr>\n",
       "  </tbody>\n",
       "</table>\n",
       "</div>"
      ],
      "text/plain": [
       "                  TYPE      PRICE BEDS      BATH PROPERTYSQFT   LATITUDE  \\\n",
       "0       Condo for sale     315000    2       2.0       1400.0  40.761255   \n",
       "1       Condo for sale  195000000    7      10.0      17545.0  40.766393   \n",
       "2       House for sale     260000    4       2.0       2015.0  40.541805   \n",
       "3       Condo for sale      69000    3       1.0        445.0  40.761398   \n",
       "4   Townhouse for sale   55000000    7  2.373861      14175.0  40.767224   \n",
       "5       House for sale     690000    5       2.0       4004.0  40.674363   \n",
       "6       Condo for sale     899500    2       2.0  2184.207862  40.809448   \n",
       "7       House for sale   16800000    8      16.0      33000.0  40.595002   \n",
       "8       Co-op for sale     265000    1       1.0        750.0  40.821586   \n",
       "9       Co-op for sale     440000    2       1.0        978.0  40.615738   \n",
       "10      Co-op for sale     375000    2       1.0        850.0   40.82487   \n",
       "11  Townhouse for sale     689000    3  2.373861       1162.0  40.624996   \n",
       "12      Co-op for sale     259000    3       1.0  2184.207862  40.753119   \n",
       "13      Co-op for sale     430000    2       2.0  2184.207862  40.743864   \n",
       "14      Co-op for sale     895000    3       1.0  2184.207862  40.738298   \n",
       "15      Condo for sale     549000    2       2.0       1000.0  40.540621   \n",
       "16  Townhouse for sale     975000    3       2.0       1734.0  40.760768   \n",
       "17      Co-op for sale     199000    3       1.0        325.0  40.618103   \n",
       "18      Co-op for sale     350000    1       1.0        700.0   40.90737   \n",
       "19      Condo for sale     599000    2       2.0        974.0  40.732471   \n",
       "\n",
       "    LONGITUDE NEAREST_SUB_STATION BROKER_ACTIVITY    BOROUGH  \n",
       "0  -73.974483            0.084535               2  Manhattan  \n",
       "1  -73.980991            0.120612               2  Manhattan  \n",
       "2  -74.196109            0.605279               2     Staten  \n",
       "3  -73.974613            0.090788               2  Manhattan  \n",
       "4  -73.969856            0.247496               2      Other  \n",
       "5  -73.958725            0.064344               2   Brooklyn  \n",
       "6  -73.946777            0.134839               2  Manhattan  \n",
       "7  -74.106424            0.803902               0     Staten  \n",
       "8  -73.874089            0.548021               0      Bronx  \n",
       "9  -73.969694            0.240321               0   Brooklyn  \n",
       "10 -73.922983            0.251834               0      Bronx  \n",
       "11 -74.155306            4.080462               1     Staten  \n",
       "12 -73.881876            0.388695               2     Queens  \n",
       "13 -73.874572            0.331341               1     Queens  \n",
       "14  -74.00589            0.201566               2  Manhattan  \n",
       "15 -74.167163            0.306681               0     Staten  \n",
       "16 -73.905667            0.544212               0     Queens  \n",
       "17 -74.036905            0.333054               0   Brooklyn  \n",
       "18 -73.906558            1.318364               0      Bronx  \n",
       "19  -73.86708            0.120985               2     Queens  "
      ]
     },
     "execution_count": 174,
     "metadata": {},
     "output_type": "execute_result"
    }
   ],
   "source": [
    "house_df.head(20)"
   ]
  },
  {
   "cell_type": "code",
   "execution_count": null,
   "metadata": {},
   "outputs": [],
   "source": []
  }
 ],
 "metadata": {
  "kernelspec": {
   "display_name": "base",
   "language": "python",
   "name": "python3"
  },
  "language_info": {
   "codemirror_mode": {
    "name": "ipython",
    "version": 3
   },
   "file_extension": ".py",
   "mimetype": "text/x-python",
   "name": "python",
   "nbconvert_exporter": "python",
   "pygments_lexer": "ipython3",
   "version": "3.11.4"
  }
 },
 "nbformat": 4,
 "nbformat_minor": 2
}
